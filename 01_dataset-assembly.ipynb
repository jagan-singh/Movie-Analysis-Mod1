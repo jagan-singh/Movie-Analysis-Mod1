{
 "cells": [
  {
   "cell_type": "markdown",
   "metadata": {},
   "source": [
    "## Eryk and Jagandeep's Dataset Assembly for Module 1 Project\n",
    "\n",
    "Please fill out:\n",
    "* Student name:  **Eryk Wdowiak** and **Jagandeep Singh**\n",
    "* Student pace:  full-time\n",
    "* Scheduled project review date/time:  12th of Never at 13 o'clock\n",
    "* Instructor name:  Fangfang Lee\n",
    "* Blog post URL:  https://www.wdowiak.me/gotta-blog?answer=Yes\n"
   ]
  },
  {
   "cell_type": "code",
   "execution_count": 1,
   "metadata": {},
   "outputs": [],
   "source": [
    "import numpy as np\n",
    "import pandas as pd\n",
    "import matplotlib.pyplot as plt\n",
    "%matplotlib inline"
   ]
  },
  {
   "cell_type": "code",
   "execution_count": 33,
   "metadata": {},
   "outputs": [],
   "source": [
    "#from zodbpickle import pickle\n",
    "import pickle"
   ]
  },
  {
   "cell_type": "code",
   "execution_count": 2,
   "metadata": {},
   "outputs": [
    {
     "name": "stdout",
     "output_type": "stream",
     "text": [
      "bom.movie_gross.csv.gz\t      imdb.title.ratings.csv.gz\r\n",
      "imdb.name.basics.csv.gz       rt.movie_info.tsv.gz\r\n",
      "imdb.title.akas.csv.gz\t      rt.reviews.tsv.gz\r\n",
      "imdb.title.basics.csv.gz      tmdb.movies.csv.gz\r\n",
      "imdb.title.crew.csv.gz\t      tn.movie_budgets.csv.gz\r\n",
      "imdb.title.principals.csv.gz  us-bea_gdp-deflator.csv.gz\r\n"
     ]
    }
   ],
   "source": [
    "##  data files\n",
    "!ls zippedData/"
   ]
  },
  {
   "cell_type": "markdown",
   "metadata": {},
   "source": [
    "###  load movie titles and identifiers"
   ]
  },
  {
   "cell_type": "code",
   "execution_count": 3,
   "metadata": {
    "scrolled": true
   },
   "outputs": [],
   "source": [
    "##  first load the movie titles and identifiers\n",
    "imdb_title_basics = pd.read_csv('zippedData/imdb.title.basics.csv.gz',compression='gzip')\n",
    "#print(imdb_title_basics.shape)"
   ]
  },
  {
   "cell_type": "code",
   "execution_count": 4,
   "metadata": {},
   "outputs": [],
   "source": [
    "#imdb_title_basics.head()"
   ]
  },
  {
   "cell_type": "code",
   "execution_count": 5,
   "metadata": {},
   "outputs": [],
   "source": [
    "#imdb_title_basics.loc[(imdb_title_basics['tconst']=='tt9916170')|(imdb_title_basics['tconst']=='tt9915436')|(imdb_title_basics['tconst']=='tt5820812')]\n",
    "#imdb_title_basics.loc[(imdb_title_basics['primary_title']=='Titanic')]"
   ]
  },
  {
   "cell_type": "code",
   "execution_count": 6,
   "metadata": {},
   "outputs": [],
   "source": [
    "##  create two dictionaries -- one of titles and one of IDs\n",
    "title_dict = {}\n",
    "ttlid_dict = {}\n",
    "\n",
    "##  loop through to create the keys\n",
    "for i in range(imdb_title_basics.shape[0]):\n",
    "    ##  get the values\n",
    "    tconst = imdb_title_basics['tconst'].loc[i]\n",
    "    primary_title = imdb_title_basics['primary_title'].loc[i]\n",
    "    \n",
    "    ##  set up the dictionaries\n",
    "    title_dict[primary_title] = { 'primary_title' : primary_title }    \n",
    "    ttlid_dict[tconst] = primary_title \n",
    "    \n",
    "##  now build the title dictionary\n",
    "for i in range(imdb_title_basics.shape[0]):\n",
    "    ##  get the values\n",
    "    tconst        = imdb_title_basics['tconst'].loc[i]\n",
    "    primary_title = imdb_title_basics['primary_title'].loc[i]\n",
    "    start_year    = imdb_title_basics['start_year'].loc[i]\n",
    "    genres        = imdb_title_basics['genres'].loc[i]\n",
    "\n",
    "    ##  append tconst to title_dict\n",
    "    try:\n",
    "        title_dict[primary_title]['tconst'].append(tconst)\n",
    "    except:\n",
    "        title_dict[primary_title]['tconst'] = [tconst]\n",
    "\n",
    "    ##  append start_year to title_dict\n",
    "    try:\n",
    "        title_dict[primary_title]['start_year'].append(start_year)\n",
    "    except:\n",
    "        title_dict[primary_title]['start_year'] = [start_year]\n",
    "\n",
    "    ##  append genres to title_dict\n",
    "    try:\n",
    "        title_dict[primary_title]['genres'].append(genres)\n",
    "    except:\n",
    "        title_dict[primary_title]['genres'] = [genres]"
   ]
  },
  {
   "cell_type": "code",
   "execution_count": 7,
   "metadata": {},
   "outputs": [],
   "source": [
    "# display(title_dict['Titanic'])\n",
    "# display(ttlid_dict['tt2495766'])\n",
    "# display(ttlid_dict['tt8852130'])"
   ]
  },
  {
   "cell_type": "code",
   "execution_count": 8,
   "metadata": {},
   "outputs": [],
   "source": [
    "# display(title_dict['The Rehearsal'])\n",
    "# display(ttlid_dict['tt5820812'])\n",
    "# display(ttlid_dict['tt9916170'])"
   ]
  },
  {
   "cell_type": "markdown",
   "metadata": {},
   "source": [
    "###  load movie cost and revenue data"
   ]
  },
  {
   "cell_type": "code",
   "execution_count": 9,
   "metadata": {},
   "outputs": [],
   "source": [
    "##  get GDP deflator\n",
    "gdp_deflator_data = pd.read_csv('zippedData/us-bea_gdp-deflator.csv.gz',\n",
    "                                compression='gzip',header=4,nrows=2)\n",
    "\n",
    "gdp_deflator_data = pd.DataFrame(gdp_deflator_data.iloc[1].transpose()[2:])\n",
    "gdp_deflator_data.rename(columns={0: \"year\", 1: \"gdp_deflator\"},inplace=True);\n",
    "\n",
    "##  make dictionary\n",
    "deflate_dict = {}\n",
    "for yr in range(1929,2020):\n",
    "    deflate_dict[str(yr)] = gdp_deflator_data.loc[str(yr)][0] / 100\n",
    "\n",
    "##  for 2020, just use 2019 value\n",
    "deflate_dict['2020'] = deflate_dict['2019']\n",
    "\n",
    "##  for years up to 1928, just use 1929 value\n",
    "for yr in range(1900,1929):\n",
    "    deflate_dict[str(yr)] = deflate_dict['1929']"
   ]
  },
  {
   "cell_type": "code",
   "execution_count": 10,
   "metadata": {},
   "outputs": [],
   "source": [
    "#deflate_dict['1975']"
   ]
  },
  {
   "cell_type": "code",
   "execution_count": 11,
   "metadata": {},
   "outputs": [],
   "source": [
    "##  next load the movie cost and revenue data\n",
    "tn_movie_budgets = pd.read_csv('zippedData/tn.movie_budgets.csv.gz',compression='gzip')\n",
    "#print(tn_movie_budgets.shape)\n",
    "#tn_movie_budgets.head()\n",
    "#list(tn_movie_budgets.columns)"
   ]
  },
  {
   "cell_type": "code",
   "execution_count": 12,
   "metadata": {},
   "outputs": [],
   "source": [
    "##  define some conversion functions\n",
    "\n",
    "##  string of dollars to float\n",
    "def dollars_to_float(inlist):\n",
    "    return list(map(lambda x: float(x.replace(\"$\",\"\").replace(\",\",\"\")), inlist))\n",
    "\n",
    "##  date string to integer year\n",
    "def date_to_yrint(datestr):\n",
    "    return list(map(lambda x: int(x.split()[-1]), datestr))"
   ]
  },
  {
   "cell_type": "code",
   "execution_count": 13,
   "metadata": {},
   "outputs": [],
   "source": [
    "##  convert strings to float\n",
    "tn_movie_budgets['production_budget'] = dollars_to_float(tn_movie_budgets['production_budget'])\n",
    "tn_movie_budgets['domestic_gross'] = dollars_to_float(tn_movie_budgets['domestic_gross'])\n",
    "tn_movie_budgets['worldwide_gross'] = dollars_to_float(tn_movie_budgets['worldwide_gross'])\n",
    "\n",
    "##  divide by one million\n",
    "tn_movie_budgets['production_budget'] = tn_movie_budgets['production_budget'] / 1000000\n",
    "tn_movie_budgets['domestic_gross'] = tn_movie_budgets['domestic_gross'] / 1000000\n",
    "tn_movie_budgets['worldwide_gross'] = tn_movie_budgets['worldwide_gross'] / 1000000\n",
    "\n",
    "##  calculate profit\n",
    "tn_movie_budgets['profit'] = tn_movie_budgets['worldwide_gross'] - tn_movie_budgets['production_budget']\n",
    "\n",
    "##  convert release year to integer\n",
    "tn_movie_budgets['release_year'] = date_to_yrint(tn_movie_budgets['release_date'])\n",
    "\n",
    "##  convert release date to date\n",
    "tn_movie_budgets['release_date'] = tn_movie_budgets['release_date'].astype('datetime64[ns]') \n",
    "tn_movie_budgets['release_month'] = tn_movie_budgets['release_date'].dt.month"
   ]
  },
  {
   "cell_type": "code",
   "execution_count": 14,
   "metadata": {},
   "outputs": [
    {
     "name": "stderr",
     "output_type": "stream",
     "text": [
      "/usr/lib/python3/dist-packages/ipykernel_launcher.py:26: RuntimeWarning: divide by zero encountered in log\n",
      "/usr/lib/python3/dist-packages/ipykernel_launcher.py:27: RuntimeWarning: divide by zero encountered in log\n"
     ]
    }
   ],
   "source": [
    "##  adjust for inflation\n",
    "budget = []\n",
    "domestic = []\n",
    "worldwide = []\n",
    "profit = []\n",
    "\n",
    "for i in range(tn_movie_budgets.shape[0]):\n",
    "    ##  get year and its deflator\n",
    "    year = tn_movie_budgets['release_year'].iloc[i]\n",
    "    deflator = deflate_dict[str(year)]\n",
    "\n",
    "    ##  append to the lists\n",
    "    budget.append(tn_movie_budgets['production_budget'].iloc[i] / deflator)\n",
    "    domestic.append(tn_movie_budgets['domestic_gross'].iloc[i] / deflator)\n",
    "    worldwide.append(tn_movie_budgets['worldwide_gross'].iloc[i] / deflator)\n",
    "    profit.append(tn_movie_budgets['profit'].iloc[i] / deflator)\n",
    "\n",
    "##  replace them in the dataframe\n",
    "tn_movie_budgets['production_budget'] = budget\n",
    "tn_movie_budgets['domestic_gross'] = domestic\n",
    "tn_movie_budgets['worldwide_gross'] = worldwide\n",
    "tn_movie_budgets['profit'] = profit\n",
    "\n",
    "##  take logs\n",
    "tn_movie_budgets['ln_budget'] = np.log(tn_movie_budgets['production_budget'])\n",
    "tn_movie_budgets['ln_domestic'] = np.log(tn_movie_budgets['domestic_gross'])\n",
    "tn_movie_budgets['ln_worldwide'] = np.log(tn_movie_budgets['worldwide_gross'])\n",
    "\n",
    "del budget, domestic, worldwide, profit"
   ]
  },
  {
   "cell_type": "code",
   "execution_count": 15,
   "metadata": {},
   "outputs": [
    {
     "data": {
      "text/html": [
       "<div>\n",
       "<style scoped>\n",
       "    .dataframe tbody tr th:only-of-type {\n",
       "        vertical-align: middle;\n",
       "    }\n",
       "\n",
       "    .dataframe tbody tr th {\n",
       "        vertical-align: top;\n",
       "    }\n",
       "\n",
       "    .dataframe thead th {\n",
       "        text-align: right;\n",
       "    }\n",
       "</style>\n",
       "<table border=\"1\" class=\"dataframe\">\n",
       "  <thead>\n",
       "    <tr style=\"text-align: right;\">\n",
       "      <th></th>\n",
       "      <th>id</th>\n",
       "      <th>release_date</th>\n",
       "      <th>movie</th>\n",
       "      <th>production_budget</th>\n",
       "      <th>domestic_gross</th>\n",
       "      <th>worldwide_gross</th>\n",
       "      <th>profit</th>\n",
       "      <th>release_year</th>\n",
       "      <th>release_month</th>\n",
       "      <th>ln_budget</th>\n",
       "      <th>ln_domestic</th>\n",
       "      <th>ln_worldwide</th>\n",
       "    </tr>\n",
       "  </thead>\n",
       "  <tbody>\n",
       "    <tr>\n",
       "      <th>0</th>\n",
       "      <td>1</td>\n",
       "      <td>2009-12-18</td>\n",
       "      <td>Avatar</td>\n",
       "      <td>447.349585</td>\n",
       "      <td>800.500637</td>\n",
       "      <td>2922.345669</td>\n",
       "      <td>2474.996083</td>\n",
       "      <td>2009</td>\n",
       "      <td>12</td>\n",
       "      <td>6.103340</td>\n",
       "      <td>6.685237</td>\n",
       "      <td>7.980142</td>\n",
       "    </tr>\n",
       "    <tr>\n",
       "      <th>1</th>\n",
       "      <td>2</td>\n",
       "      <td>2011-05-20</td>\n",
       "      <td>Pirates of the Caribbean: On Stranger Tides</td>\n",
       "      <td>418.475713</td>\n",
       "      <td>245.687718</td>\n",
       "      <td>1065.720739</td>\n",
       "      <td>647.245026</td>\n",
       "      <td>2011</td>\n",
       "      <td>5</td>\n",
       "      <td>6.036619</td>\n",
       "      <td>5.504061</td>\n",
       "      <td>6.971407</td>\n",
       "    </tr>\n",
       "    <tr>\n",
       "      <th>2</th>\n",
       "      <td>3</td>\n",
       "      <td>2019-06-07</td>\n",
       "      <td>Dark Phoenix</td>\n",
       "      <td>311.540344</td>\n",
       "      <td>38.063421</td>\n",
       "      <td>133.305755</td>\n",
       "      <td>-178.234590</td>\n",
       "      <td>2019</td>\n",
       "      <td>6</td>\n",
       "      <td>5.741529</td>\n",
       "      <td>3.639254</td>\n",
       "      <td>4.892645</td>\n",
       "    </tr>\n",
       "    <tr>\n",
       "      <th>3</th>\n",
       "      <td>4</td>\n",
       "      <td>2015-05-01</td>\n",
       "      <td>Avengers: Age of Ultron</td>\n",
       "      <td>315.708051</td>\n",
       "      <td>438.329849</td>\n",
       "      <td>1339.814894</td>\n",
       "      <td>1024.106843</td>\n",
       "      <td>2015</td>\n",
       "      <td>5</td>\n",
       "      <td>5.754818</td>\n",
       "      <td>6.082972</td>\n",
       "      <td>7.200287</td>\n",
       "    </tr>\n",
       "    <tr>\n",
       "      <th>4</th>\n",
       "      <td>5</td>\n",
       "      <td>2017-12-15</td>\n",
       "      <td>Star Wars Ep. VIII: The Last Jedi</td>\n",
       "      <td>294.079448</td>\n",
       "      <td>575.339427</td>\n",
       "      <td>1221.516733</td>\n",
       "      <td>927.437285</td>\n",
       "      <td>2017</td>\n",
       "      <td>12</td>\n",
       "      <td>5.683850</td>\n",
       "      <td>6.354960</td>\n",
       "      <td>7.107849</td>\n",
       "    </tr>\n",
       "  </tbody>\n",
       "</table>\n",
       "</div>"
      ],
      "text/plain": [
       "   id release_date                                        movie  \\\n",
       "0   1   2009-12-18                                       Avatar   \n",
       "1   2   2011-05-20  Pirates of the Caribbean: On Stranger Tides   \n",
       "2   3   2019-06-07                                 Dark Phoenix   \n",
       "3   4   2015-05-01                      Avengers: Age of Ultron   \n",
       "4   5   2017-12-15            Star Wars Ep. VIII: The Last Jedi   \n",
       "\n",
       "   production_budget  domestic_gross  worldwide_gross       profit  \\\n",
       "0         447.349585      800.500637      2922.345669  2474.996083   \n",
       "1         418.475713      245.687718      1065.720739   647.245026   \n",
       "2         311.540344       38.063421       133.305755  -178.234590   \n",
       "3         315.708051      438.329849      1339.814894  1024.106843   \n",
       "4         294.079448      575.339427      1221.516733   927.437285   \n",
       "\n",
       "   release_year  release_month  ln_budget  ln_domestic  ln_worldwide  \n",
       "0          2009             12   6.103340     6.685237      7.980142  \n",
       "1          2011              5   6.036619     5.504061      6.971407  \n",
       "2          2019              6   5.741529     3.639254      4.892645  \n",
       "3          2015              5   5.754818     6.082972      7.200287  \n",
       "4          2017             12   5.683850     6.354960      7.107849  "
      ]
     },
     "execution_count": 15,
     "metadata": {},
     "output_type": "execute_result"
    }
   ],
   "source": [
    "##  print some information\n",
    "#tn_movie_budgets.columns\n",
    "#tn_movie_budgets.info()\n",
    "tn_movie_budgets.head()"
   ]
  },
  {
   "cell_type": "code",
   "execution_count": 16,
   "metadata": {},
   "outputs": [],
   "source": [
    "# tn_movie_budgets.loc[(tn_movie_budgets['movie']=='King Kong')]"
   ]
  },
  {
   "cell_type": "code",
   "execution_count": 17,
   "metadata": {},
   "outputs": [],
   "source": [
    "# tn_movie_budgets.loc[tn_movie_budgets.movie == 'Titanic']"
   ]
  },
  {
   "cell_type": "code",
   "execution_count": 18,
   "metadata": {},
   "outputs": [],
   "source": [
    "##  create some histograms\n",
    "#tn_movie_budgets.release_year.hist();\n",
    "#tn_movie_budgets.profit.hist();"
   ]
  },
  {
   "cell_type": "code",
   "execution_count": 19,
   "metadata": {},
   "outputs": [],
   "source": [
    "##  now create profit dictionary\n",
    "profit_dict = {}\n",
    "\n",
    "for i in range(tn_movie_budgets.shape[0]):\n",
    "    ##  get the values\n",
    "    movie_title   = tn_movie_budgets['movie'].loc[i]\n",
    "    release_year  = tn_movie_budgets['release_year'].loc[i]\n",
    "    release_month = tn_movie_budgets['release_month'].loc[i]\n",
    "    release_date  = tn_movie_budgets['release_date'].loc[i]\n",
    "    profit_dict[movie_title] = {\n",
    "        'movie_title'   : movie_title,\n",
    "        'release_year'  : release_year,\n",
    "        'release_month' : release_month,\n",
    "        'release_date'  : release_date\n",
    "    }\n",
    "    \n",
    "for i in range(tn_movie_budgets.shape[0]):\n",
    "    ##  get the values again\n",
    "    movie_title  = tn_movie_budgets['movie'].loc[i]\n",
    "    release_year = tn_movie_budgets['release_year'].loc[i]\n",
    "    release_month = tn_movie_budgets['release_month'].loc[i]\n",
    "    release_date = tn_movie_budgets['release_date'].loc[i]\n",
    "\n",
    "    ##  let's assume that most recent movie is the movie in the IMDB\n",
    "    if (release_year >= profit_dict[movie_title]['release_year']):\n",
    "        ##  add them to the dictionary\n",
    "        profit_dict[movie_title] = {\n",
    "            'movie_title'   : movie_title,\n",
    "            'release_year'  : release_year,\n",
    "            'release_month' : release_month,\n",
    "            'release_date'  : release_date,\n",
    "            'production_budget' : tn_movie_budgets['production_budget'].loc[i],\n",
    "            'domestic_gross' : tn_movie_budgets['domestic_gross'].loc[i],\n",
    "            'worldwide_gross' : tn_movie_budgets['worldwide_gross'].loc[i],\n",
    "            'profit' : tn_movie_budgets['profit'].loc[i],\n",
    "            'ln_budget' : tn_movie_budgets['ln_budget'].loc[i],\n",
    "            'ln_domestic' : tn_movie_budgets['ln_domestic'].loc[i],\n",
    "            'ln_worldwide' : tn_movie_budgets['ln_worldwide'].loc[i]\n",
    "    }"
   ]
  },
  {
   "cell_type": "code",
   "execution_count": 20,
   "metadata": {},
   "outputs": [],
   "source": [
    "# profit_dict['Titanic']"
   ]
  },
  {
   "cell_type": "markdown",
   "metadata": {},
   "source": [
    "###  get the principals"
   ]
  },
  {
   "cell_type": "code",
   "execution_count": 21,
   "metadata": {},
   "outputs": [],
   "source": [
    "imdb_title_principals = pd.read_csv('zippedData/imdb.title.principals.csv.gz',compression='gzip')\n",
    "# print(imdb_title_principals.shape)\n",
    "# print('number of unique titles: ' + str(len(list(imdb_title_principals.tconst.unique()))))\n",
    "# print('unique categories:')\n",
    "# print(list(imdb_title_principals.category.unique()))\n",
    "# imdb_title_principals.head(10)\n",
    "#list(imdb_title_principals.columns)"
   ]
  },
  {
   "cell_type": "code",
   "execution_count": 22,
   "metadata": {},
   "outputs": [],
   "source": [
    "##  let's create a dictionary of principals\n",
    "principals_dict = {}\n",
    "\n",
    "##  loop through to create keys and build the dictionary\n",
    "for i in range(imdb_title_principals.shape[0]):\n",
    "    ##  get the values\n",
    "    tconst = imdb_title_principals['tconst'].loc[i]\n",
    "    nconst = imdb_title_principals['nconst'].loc[i]\n",
    "    category = imdb_title_principals['category'].loc[i]\n",
    "\n",
    "    ##  create the keys\n",
    "    try:\n",
    "        principals_dict[tconst]['tconst'] = tconst\n",
    "    except:\n",
    "        principals_dict[tconst] = {'tconst' : tconst}\n",
    "    \n",
    "    ##  append nconst to the appropriate role\n",
    "    if (category in ['producer','director','actor','actress']):\n",
    "        try:\n",
    "            principals_dict[tconst][category].append(nconst)\n",
    "        except:\n",
    "            principals_dict[tconst][category] = [nconst]"
   ]
  },
  {
   "cell_type": "code",
   "execution_count": 23,
   "metadata": {},
   "outputs": [],
   "source": [
    "# principals_dict['tt0323808']"
   ]
  },
  {
   "cell_type": "markdown",
   "metadata": {},
   "source": [
    "###  get the ratings"
   ]
  },
  {
   "cell_type": "code",
   "execution_count": 24,
   "metadata": {},
   "outputs": [],
   "source": [
    "##  now let's include the ratings\n",
    "imdb_title_ratings = pd.read_csv('zippedData/imdb.title.ratings.csv.gz',compression='gzip')\n",
    "# print(imdb_title_ratings.shape)\n",
    "# print('number of unique titles: ' + str(len(list(imdb_title_ratings.tconst.unique()))))\n",
    "# imdb_title_ratings.head()\n",
    "#list(imdb_title_ratings.columns)"
   ]
  },
  {
   "cell_type": "code",
   "execution_count": 25,
   "metadata": {},
   "outputs": [],
   "source": [
    "##  let's create a dictionary of ratings\n",
    "ratings_dict = {}\n",
    "\n",
    "##  loop through to build the dictionary\n",
    "for i in range(imdb_title_ratings.shape[0]):\n",
    "    ##  get the values\n",
    "    tconst = imdb_title_ratings['tconst'].loc[i]\n",
    "    rating = imdb_title_ratings['averagerating'].loc[i]\n",
    "    nuvote = imdb_title_ratings['numvotes'].loc[i]\n",
    "\n",
    "    ##  create the keys\n",
    "    ratings_dict[tconst] = {\n",
    "        'tconst' : tconst,\n",
    "        'rating' : rating,\n",
    "        'nuvote' : nuvote\n",
    "    }\n",
    "    "
   ]
  },
  {
   "cell_type": "code",
   "execution_count": 26,
   "metadata": {},
   "outputs": [],
   "source": [
    "# ratings_dict['tt1043726']\n"
   ]
  },
  {
   "cell_type": "markdown",
   "metadata": {},
   "source": [
    "###  now merge all those dictionaries"
   ]
  },
  {
   "cell_type": "code",
   "execution_count": 27,
   "metadata": {},
   "outputs": [],
   "source": [
    "##  now find titles in \"profit_dict\" that match titles in \"title_dict\"\n",
    "profit_keys = profit_dict.keys()\n",
    "title_keys  = title_dict.keys()\n",
    "\n",
    "##  those titles are at the intersection\n",
    "profit_titles = list(set(profit_keys) & set(title_keys))"
   ]
  },
  {
   "cell_type": "code",
   "execution_count": 28,
   "metadata": {},
   "outputs": [],
   "source": [
    "##  columns for merged dataframe\n",
    "tconst = []\n",
    "movie_title = []\n",
    "genres = []\n",
    "release_year = []\n",
    "release_month = []\n",
    "release_date = []\n",
    "production_budget = []\n",
    "domestic_gross = []\n",
    "worldwide_gross = []\n",
    "profit = []\n",
    "ln_budget = []\n",
    "ln_domestic = []\n",
    "ln_worldwide = []\n",
    "\n",
    "##  and the principals \n",
    "actresses = []\n",
    "actors = []\n",
    "directors = []\n",
    "producers = []\n",
    "\n",
    "##  and the ratings\n",
    "ratings = []\n",
    "nuvotes = []\n",
    "\n",
    "for movie in profit_titles:\n",
    "    tconst.append(title_dict[movie]['tconst'])\n",
    "    movie_title.append(profit_dict[movie]['movie_title'])\n",
    "    ##  we'll pick up genres below\n",
    "    release_year.append(profit_dict[movie]['release_year'])\n",
    "    release_month.append(profit_dict[movie]['release_month'])\n",
    "    release_date.append(profit_dict[movie]['release_date'])\n",
    "    production_budget.append(profit_dict[movie]['production_budget'])\n",
    "    domestic_gross.append(profit_dict[movie]['domestic_gross'])\n",
    "    worldwide_gross.append(profit_dict[movie]['worldwide_gross'])\n",
    "    profit.append(profit_dict[movie]['profit'])\n",
    "    ln_budget.append(profit_dict[movie]['ln_budget'])\n",
    "    ln_domestic.append(profit_dict[movie]['ln_domestic'])\n",
    "    ln_worldwide.append(profit_dict[movie]['ln_worldwide'])\n",
    "    \n",
    "    \n",
    "    ##  movie principals \n",
    "    mv_actresses = []\n",
    "    mv_actors = []\n",
    "    mv_directors = []\n",
    "    mv_producers = []\n",
    "    \n",
    "    ##  movie genres\n",
    "    mv_genres = []\n",
    "    \n",
    "    ##  movie ratings\n",
    "    mv_ratings = []\n",
    "    mv_nuvotes = []\n",
    "\n",
    "    for ttlid in title_dict[movie]['tconst']:\n",
    "        try:\n",
    "            mv_actresses.append(principals_dict[ttlid]['actress'])\n",
    "        except:\n",
    "            blah = 'blah'\n",
    "    \n",
    "        try:\n",
    "            mv_actors.append(principals_dict[ttlid]['actor'])\n",
    "        except:\n",
    "            blah = 'blah'\n",
    "        \n",
    "        try:\n",
    "            mv_directors.append(principals_dict[ttlid]['director'])\n",
    "        except:\n",
    "            blah = 'blah'\n",
    "            \n",
    "        try:\n",
    "            mv_producers.append(principals_dict[ttlid]['producer'])\n",
    "        except:\n",
    "            blah = 'blah'\n",
    "            \n",
    "        try:\n",
    "            mv_ratings.append(ratings_dict[ttlid]['rating'])\n",
    "        except:\n",
    "            blah = 'blah'\n",
    "            \n",
    "        try:\n",
    "            mv_nuvotes.append(ratings_dict[ttlid]['nuvote'])\n",
    "        except:\n",
    "            blah = 'blah'\n",
    "            \n",
    "        try:\n",
    "            comma = ','\n",
    "            genre_str = comma.join(title_dict[ttlid_dict[ttlid]]['genres'])           \n",
    "            mv_genres.append(genre_str)\n",
    "        except:\n",
    "            blah = 'blah'\n",
    "\n",
    "\n",
    "    ##  append principals\n",
    "    actresses.append(mv_actresses)\n",
    "    actors.append(mv_actors)\n",
    "    directors.append(mv_directors)\n",
    "    producers.append(mv_producers)\n",
    "\n",
    "    ##  make genres one long string, then split it and make list unique\n",
    "    comma = ','\n",
    "    mv_genres = comma.join(mv_genres)\n",
    "    mv_genres = mv_genres.split(comma)\n",
    "    genres.append(list(set(mv_genres)))\n",
    "    \n",
    "    ##  just return rating with most votes\n",
    "    try:\n",
    "        which_max = mv_nuvotes.index(max(mv_nuvotes))\n",
    "        ratings.append(mv_ratings[which_max])\n",
    "        nuvotes.append(mv_nuvotes[which_max])\n",
    "    except:\n",
    "        ratings.append(None)\n",
    "        nuvotes.append(None)\n",
    "\n",
    "##  now create a merged dataframe\n",
    "movie_df = pd.DataFrame({'tconst' : tconst,\n",
    "                         'movie_title' : movie_title, \n",
    "                         'genres' : genres,\n",
    "                         'release_year' : release_year,\n",
    "                         'release_month' : release_month,\n",
    "                         'release_date' : release_date,\n",
    "                         'production_budget' : production_budget, \n",
    "                         'domestic_gross' : domestic_gross,\n",
    "                         'worldwide_gross' : worldwide_gross,\n",
    "                         'profit' : profit,\n",
    "                         'ln_budget' : ln_budget, \n",
    "                         'ln_domestic' : ln_domestic,\n",
    "                         'ln_worldwide' : ln_worldwide,                        \n",
    "                         'actresses' : actresses, \n",
    "                         'actors' : actors, \n",
    "                         'directors' : directors, \n",
    "                         'producers' : producers, \n",
    "                         'ratings' : ratings, \n",
    "                         'nuvotes' : nuvotes\n",
    "                        })\n",
    "\n",
    "del tconst, movie_title, genres, release_year, release_month, release_date\n",
    "del production_budget, domestic_gross, worldwide_gross, profit\n",
    "del ln_budget, ln_domestic, ln_worldwide\n",
    "del actresses, actors, directors, producers, ratings, nuvotes"
   ]
  },
  {
   "cell_type": "code",
   "execution_count": 29,
   "metadata": {},
   "outputs": [],
   "source": [
    "#movie_df.info()\n",
    "# movie_df.shape"
   ]
  },
  {
   "cell_type": "code",
   "execution_count": 30,
   "metadata": {},
   "outputs": [],
   "source": [
    "# movie_df.head()"
   ]
  },
  {
   "cell_type": "markdown",
   "metadata": {},
   "source": [
    "###  get their names"
   ]
  },
  {
   "cell_type": "code",
   "execution_count": 31,
   "metadata": {},
   "outputs": [],
   "source": [
    "##  and let's get their real names!\n",
    "imdb_name_basics = pd.read_csv('zippedData/imdb.name.basics.csv.gz',compression='gzip')\n",
    "# print(imdb_name_basics.shape)\n",
    "# print('number of unique nconst: ' + str(len(list(imdb_name_basics.nconst.unique()))))\n",
    "# imdb_name_basics.head()\n",
    "#list(imdb_name_basics.columns)"
   ]
  },
  {
   "cell_type": "code",
   "execution_count": 32,
   "metadata": {},
   "outputs": [],
   "source": [
    "##  let's create a dictionary of ratings\n",
    "names_dict = {}\n",
    "\n",
    "##  loop through to build the dictionary\n",
    "for i in range(imdb_title_ratings.shape[0]):\n",
    "    ##  get the values\n",
    "    nconst = imdb_name_basics['nconst'].loc[i]\n",
    "    prname = imdb_name_basics['primary_name'].loc[i]\n",
    "\n",
    "    ##  create the keys\n",
    "    names_dict[nconst] = prname\n",
    "    "
   ]
  },
  {
   "cell_type": "markdown",
   "metadata": {},
   "source": [
    "###  let's save this monster"
   ]
  },
  {
   "cell_type": "code",
   "execution_count": 34,
   "metadata": {},
   "outputs": [],
   "source": [
    "pickle.dump(movie_df,open(\"movie-df_2020-07-09a.p\",\"wb\"))"
   ]
  },
  {
   "cell_type": "code",
   "execution_count": null,
   "metadata": {},
   "outputs": [],
   "source": []
  },
  {
   "cell_type": "markdown",
   "metadata": {},
   "source": [
    "#### xxx"
   ]
  },
  {
   "cell_type": "markdown",
   "metadata": {},
   "source": [
    "##  stuff we're not gonna use"
   ]
  },
  {
   "cell_type": "code",
   "execution_count": null,
   "metadata": {},
   "outputs": [],
   "source": [
    "##  create new dataframe for statistical analysis\n",
    "\n",
    "##  first set the indices to the movie's title\n",
    "#imdb_title_basics.set_index('primary_title',inplace=True)\n",
    "#tn_movie_budgets.set_index('movie',inplace=True)\n",
    "\n",
    "##  now create the new dataframe\n",
    "#bad_df = tn_movie_budgets.join(imdb_title_basics,how='inner')"
   ]
  },
  {
   "cell_type": "code",
   "execution_count": null,
   "metadata": {},
   "outputs": [],
   "source": [
    "#imdb_title_crew = pd.read_csv('zippedData/imdb.title.crew.csv.gz',compression='gzip')\n",
    "#print(imdb_title_crew.shape)\n",
    "#print('number of unique titles: ' + str(len(list(imdb_title_crew.tconst.unique()))))\n",
    "#imdb_title_crew.head()\n",
    "#list(imdb_title_crew.columns)"
   ]
  },
  {
   "cell_type": "code",
   "execution_count": null,
   "metadata": {},
   "outputs": [],
   "source": [
    "#imdb_title_basics.head()\n",
    "#tn_movie_budgets.head()\n",
    "#bad_df.sort_values(by='profit',ascending=False).head(10)"
   ]
  },
  {
   "cell_type": "code",
   "execution_count": null,
   "metadata": {},
   "outputs": [],
   "source": [
    "#imdb_title_basics.shape\n",
    "#tn_movie_budgets.shape\n",
    "#bad_df.shape\n",
    "#bad_df.loc[(bad_df['original_title']=='Titanic')]"
   ]
  },
  {
   "cell_type": "code",
   "execution_count": null,
   "metadata": {},
   "outputs": [],
   "source": [
    "#bom_movie_gross = pd.read_csv('zippedData/bom.movie_gross.csv.gz',compression='gzip')\n",
    "#bom_movie_gross.head()\n",
    "#list(bom_movie_gross.columns)"
   ]
  },
  {
   "cell_type": "code",
   "execution_count": null,
   "metadata": {},
   "outputs": [],
   "source": [
    "#imdb_title_akas = pd.read_csv('zippedData/imdb.title.akas.csv.gz',compression='gzip')\n",
    "#print(imdb_title_akas.shape)\n",
    "#imdb_title_akas.head()\n",
    "#list(imdb_title_akas.columns)\n",
    "#imdb_title_akas.sort_values(by='title_id',ascending=False).head(10)\n",
    "#imdb_title_akas.loc[imdb_title_akas['title'] == \"The Rehearsal\"] \n",
    "#imdb_title_akas.loc[(imdb_title_akas['title_id']=='tt9916170')|(imdb_title_akas['title_id']=='tt9915436')|(imdb_title_akas['title_id']=='tt5820812')]"
   ]
  },
  {
   "cell_type": "code",
   "execution_count": null,
   "metadata": {},
   "outputs": [],
   "source": [
    "#rt_movie_info = pd.read_csv('zippedData/rt.movie_info.tsv.gz',compression='gzip',sep='\\t')\n",
    "#rt_movie_info.head()\n",
    "#list(rt_movie_info.columns)"
   ]
  },
  {
   "cell_type": "code",
   "execution_count": null,
   "metadata": {},
   "outputs": [],
   "source": [
    "#rt_reviews = pd.read_csv('zippedData/rt.reviews.tsv.gz',compression='gzip',sep='\\t',encoding='unicode_escape')\n",
    "#rt_reviews.head()\n",
    "#list(rt_reviews.columns)"
   ]
  },
  {
   "cell_type": "code",
   "execution_count": null,
   "metadata": {},
   "outputs": [],
   "source": [
    "#tmdb_movies = pd.read_csv('zippedData/tmdb.movies.csv.gz',compression='gzip')\n",
    "#tmdb_movies.head()\n",
    "#list(tmdb_movies.columns)"
   ]
  },
  {
   "cell_type": "code",
   "execution_count": null,
   "metadata": {},
   "outputs": [],
   "source": []
  }
 ],
 "metadata": {
  "kernelspec": {
   "display_name": "Python 3",
   "language": "python",
   "name": "python3"
  },
  "language_info": {
   "codemirror_mode": {
    "name": "ipython",
    "version": 3
   },
   "file_extension": ".py",
   "mimetype": "text/x-python",
   "name": "python",
   "nbconvert_exporter": "python",
   "pygments_lexer": "ipython3",
   "version": "3.7.3"
  }
 },
 "nbformat": 4,
 "nbformat_minor": 2
}
