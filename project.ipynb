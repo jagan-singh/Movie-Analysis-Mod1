{
 "cells": [
  {
   "cell_type": "code",
   "execution_count": 51,
   "metadata": {},
   "outputs": [],
   "source": [
    "#Importing packages\n",
    "import pandas as pd\n",
    "import numpy as np"
   ]
  },
  {
   "cell_type": "code",
   "execution_count": 26,
   "metadata": {},
   "outputs": [
    {
     "name": "stdout",
     "output_type": "stream",
     "text": [
      "bom.movie_gross.csv        imdb.title.ratings.csv\r\n",
      "imdb.name.basics.csv       rt.movie_info.tsv\r\n",
      "imdb.title.akas.csv        rt.reviews.tsv\r\n",
      "imdb.title.basics.csv      tmdb.movies.csv\r\n",
      "imdb.title.crew.csv        tn.movie_budgets.csv\r\n",
      "imdb.title.principals.csv\r\n"
     ]
    }
   ],
   "source": [
    "ls data"
   ]
  },
  {
   "cell_type": "code",
   "execution_count": 41,
   "metadata": {},
   "outputs": [],
   "source": [
    "gross = pd.read_csv('data/bom.movie_gross.csv')\n",
    "imdb_name = pd.read_csv('data/imdb.name.basics.csv')\n",
    "imdb_title_akas = pd.read_csv('data/imdb.title.akas.csv')\n",
    "imdb_title_basics = pd.read_csv('data/imdb.title.basics.csv')\n",
    "imdb_title_crew = pd.read_csv('data/imdb.title.crew.csv')\n",
    "imdb_title_principals = pd.read_csv('data/imdb.title.principals.csv')\n",
    "imdb_title_ratings = pd.read_csv('data/imdb.title.ratings.csv')\n",
    "rt_movie_info = pd.read_csv('data/rt.movie_info.tsv', delimiter='\\t')\n",
    "rt_reviews = pd.read_csv('data/rt.reviews.tsv', delimiter='\\t', encoding='unicode_escape')\n",
    "tmdb_movies = pd.read_csv('data/tmdb.movies.csv')\n",
    "tn_movie_budgets = pd.read_csv('data/tn.movie_budgets.csv')"
   ]
  },
  {
   "cell_type": "code",
   "execution_count": null,
   "metadata": {},
   "outputs": [],
   "source": [
    "tmdb_movies.set_index('Unnamed: 0',inplace = True)\n",
    "tmdb_movies.index.rename('index',inplace = True)"
   ]
  },
  {
   "cell_type": "code",
   "execution_count": 84,
   "metadata": {},
   "outputs": [],
   "source": [
    "tn_movie_budgets.set_index('id',inplace = True)\n"
   ]
  },
  {
   "cell_type": "code",
   "execution_count": null,
   "metadata": {},
   "outputs": [],
   "source": []
  }
 ],
 "metadata": {
  "kernelspec": {
   "display_name": "Python 3",
   "language": "python",
   "name": "python3"
  },
  "language_info": {
   "codemirror_mode": {
    "name": "ipython",
    "version": 3
   },
   "file_extension": ".py",
   "mimetype": "text/x-python",
   "name": "python",
   "nbconvert_exporter": "python",
   "pygments_lexer": "ipython3",
   "version": "3.7.6"
  }
 },
 "nbformat": 4,
 "nbformat_minor": 4
}
