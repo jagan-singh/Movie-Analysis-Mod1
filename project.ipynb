{
 "cells": [
  {
   "cell_type": "markdown",
   "metadata": {},
   "source": [
    "## Jagan's Notebook for Module 1 Project\n",
    "\n",
    "* Student name:  **Jagandeep Singh**\n",
    "* Student pace:  full-time\n",
    "* Scheduled project review date/time:  07/10/2020\n",
    "* Instructor name:  Fangfang Lee"
   ]
  },
  {
   "cell_type": "code",
   "execution_count": 1,
   "metadata": {},
   "outputs": [
    {
     "name": "stdout",
     "output_type": "stream",
     "text": [
      "bom.movie_gross.csv.gz       imdb.title.ratings.csv.gz\r\n",
      "imdb.name.basics.csv.gz      rt.movie_info.tsv.gz\r\n",
      "imdb.title.akas.csv.gz       rt.reviews.tsv.gz\r\n",
      "imdb.title.basics.csv.gz     tmdb.movies.csv.gz\r\n",
      "imdb.title.crew.csv.gz       tn.movie_budgets.csv.gz\r\n",
      "imdb.title.principals.csv.gz\r\n"
     ]
    }
   ],
   "source": [
    "#Importing packages\n",
    "import pandas as pd\n",
    "import numpy as np\n",
    "import matplotlib.pyplot as plt\n",
    "import math\n",
    "import datetime\n",
    "import seaborn as sns\n",
    "%matplotlib inline\n",
    "%run student.ipynb"
   ]
  },
  {
   "cell_type": "code",
   "execution_count": 2,
   "metadata": {},
   "outputs": [],
   "source": [
    "#loading the data files into pandas dataframe\n",
    "gross = pd.read_csv('data/bom.movie_gross.csv')\n",
    "imdb_name = pd.read_csv('data/imdb.name.basics.csv')\n",
    "imdb_title_akas = pd.read_csv('data/imdb.title.akas.csv')\n",
    "imdb_title_basics = pd.read_csv('data/imdb.title.basics.csv')\n",
    "imdb_title_crew = pd.read_csv('data/imdb.title.crew.csv')\n",
    "imdb_title_principals = pd.read_csv('data/imdb.title.principals.csv')\n",
    "imdb_title_ratings = pd.read_csv('data/imdb.title.ratings.csv')\n",
    "rt_movie_info = pd.read_csv('data/rt.movie_info.tsv', delimiter = '\\t')\n",
    "rt_reviews = pd.read_csv('data/rt.reviews.tsv', delimiter = '\\t', encoding = 'unicode_escape')\n",
    "tmdb_movies = pd.read_csv('data/tmdb.movies.csv')\n",
    "tn_movie_budgets = pd.read_csv('data/tn.movie_budgets.csv') #No Missing values\n"
   ]
  },
  {
   "cell_type": "code",
   "execution_count": 3,
   "metadata": {},
   "outputs": [],
   "source": [
    "# setting and renaming index of tmdb_movies dataset\n",
    "# tmdb_movies.set_index('Unnamed: 0',inplace = True)\n",
    "# tmdb_movies.index.rename('index',inplace = True)\n"
   ]
  },
  {
   "cell_type": "code",
   "execution_count": 4,
   "metadata": {},
   "outputs": [],
   "source": [
    "#Filled missing values with of gross foriegn value to 0 to convert the type of the column to float\n",
    "# gross.foreign_gross = gross.foreign_gross.fillna(0)\n",
    "\n"
   ]
  },
  {
   "cell_type": "code",
   "execution_count": 5,
   "metadata": {},
   "outputs": [],
   "source": [
    "#This function takes a dataframe and column name as arguments\n",
    "#It removes '$' and ',' from the column values and convert the column type to float\n",
    "#This function also divides the number with a million to make the numbers easy to read\n",
    "\n",
    "# def string_to_float(df,column):\n",
    "#     df[column] =  df[column].replace({'\\$':''}, regex = True)\n",
    "#     df[column] =  df[column].replace({',':''}, regex = True)\n",
    "#     df[column] =  round((df[column].astype(float))/1000000, 2)\n",
    "\n",
    "# # Calling the function on all columns from all datasets to get desired result\n",
    "# string_to_float(tn_movie_budgets,'production_budget')\n",
    "# string_to_float(tn_movie_budgets,'domestic_gross')\n",
    "# string_to_float(tn_movie_budgets,'worldwide_gross')\n",
    "# string_to_float(gross,'foreign_gross')\n"
   ]
  },
  {
   "cell_type": "code",
   "execution_count": 6,
   "metadata": {},
   "outputs": [],
   "source": [
    "#since domestic_gross was already a float dividing it by a million to have same unit of gross throughout the project\n",
    "# gross.domestic_gross = gross.domestic_gross/1000000\n"
   ]
  },
  {
   "cell_type": "code",
   "execution_count": 7,
   "metadata": {},
   "outputs": [],
   "source": [
    "#Creating a new column profit for profit/loss of movies\n",
    "# tn_movie_budgets['profit'] =  tn_movie_budgets['worldwide_gross'] - tn_movie_budgets['production_budget']\n",
    "\n"
   ]
  },
  {
   "cell_type": "code",
   "execution_count": 8,
   "metadata": {},
   "outputs": [],
   "source": [
    "# top ten movies according to profit\n",
    "#top_grossing_movies = list(tn_movie_budgets.sort_values(by = 'profit', ascending = True)['movie'])\n",
    "# find movies that are profitable and not profitable\n",
    "#tn_movie_budgets.sort_values(by = 'profit', ascending = False)['profit'].hist()\n",
    "#sequels how good are sequels\n",
    "#\n",
    "# tn_movie_budgets.sort_values(by = 'profit', ascending = False).head(10)\n",
    "# profitable_movies = list(tn_movie_budgets.sort_values(by = 'profit', ascending = False)['movie'].head(50))\n",
    "# not_profitable_movies = list(tn_movie_budgets.sort_values(by = 'profit')['movie'].head(50))\n",
    "\n"
   ]
  },
  {
   "cell_type": "code",
   "execution_count": 9,
   "metadata": {},
   "outputs": [
    {
     "data": {
      "text/html": [
       "<div>\n",
       "<style scoped>\n",
       "    .dataframe tbody tr th:only-of-type {\n",
       "        vertical-align: middle;\n",
       "    }\n",
       "\n",
       "    .dataframe tbody tr th {\n",
       "        vertical-align: top;\n",
       "    }\n",
       "\n",
       "    .dataframe thead th {\n",
       "        text-align: right;\n",
       "    }\n",
       "</style>\n",
       "<table border=\"1\" class=\"dataframe\">\n",
       "  <thead>\n",
       "    <tr style=\"text-align: right;\">\n",
       "      <th></th>\n",
       "      <th>tconst</th>\n",
       "      <th>movie_title</th>\n",
       "      <th>genres</th>\n",
       "      <th>release_year</th>\n",
       "      <th>release_month</th>\n",
       "      <th>release_date</th>\n",
       "      <th>production_budget</th>\n",
       "      <th>domestic_gross</th>\n",
       "      <th>worldwide_gross</th>\n",
       "      <th>profit</th>\n",
       "      <th>actresses</th>\n",
       "      <th>actors</th>\n",
       "      <th>directors</th>\n",
       "      <th>producers</th>\n",
       "      <th>ratings</th>\n",
       "      <th>nuvotes</th>\n",
       "    </tr>\n",
       "  </thead>\n",
       "  <tbody>\n",
       "    <tr>\n",
       "      <th>0</th>\n",
       "      <td>[tt1640484]</td>\n",
       "      <td>Jumping the Broom</td>\n",
       "      <td>[Drama, Comedy]</td>\n",
       "      <td>2011</td>\n",
       "      <td>5</td>\n",
       "      <td>2011-05-06</td>\n",
       "      <td>7.0</td>\n",
       "      <td>37.295394</td>\n",
       "      <td>38.158601</td>\n",
       "      <td>31.158601</td>\n",
       "      <td>[[nm1745736, nm0000291, nm0222643]]</td>\n",
       "      <td>[[nm0022306]]</td>\n",
       "      <td>[[nm0015328]]</td>\n",
       "      <td>[[nm0537164, nm0249525, nm0415890]]</td>\n",
       "      <td>5.7</td>\n",
       "      <td>9089.0</td>\n",
       "    </tr>\n",
       "    <tr>\n",
       "      <th>1</th>\n",
       "      <td>[tt2334649]</td>\n",
       "      <td>Fruitvale Station</td>\n",
       "      <td>[Drama, Biography, Romance]</td>\n",
       "      <td>2013</td>\n",
       "      <td>7</td>\n",
       "      <td>2013-07-12</td>\n",
       "      <td>0.9</td>\n",
       "      <td>16.098998</td>\n",
       "      <td>17.549645</td>\n",
       "      <td>16.649645</td>\n",
       "      <td>[[nm0246686, nm0818055]]</td>\n",
       "      <td>[[nm0430107, nm0243806]]</td>\n",
       "      <td>[[nm3363032]]</td>\n",
       "      <td>[[nm1341146, nm0001845]]</td>\n",
       "      <td>7.5</td>\n",
       "      <td>68187.0</td>\n",
       "    </tr>\n",
       "    <tr>\n",
       "      <th>2</th>\n",
       "      <td>[tt2465146]</td>\n",
       "      <td>And So It Goes</td>\n",
       "      <td>[Drama, Comedy, Romance]</td>\n",
       "      <td>2014</td>\n",
       "      <td>7</td>\n",
       "      <td>2014-07-25</td>\n",
       "      <td>18.0</td>\n",
       "      <td>15.160801</td>\n",
       "      <td>17.920013</td>\n",
       "      <td>-0.079987</td>\n",
       "      <td>[[nm0000473, nm3606106, nm0661755]]</td>\n",
       "      <td>[[nm0000140]]</td>\n",
       "      <td>[[nm0001661]]</td>\n",
       "      <td>[[nm0198941, nm0340112]]</td>\n",
       "      <td>5.8</td>\n",
       "      <td>11597.0</td>\n",
       "    </tr>\n",
       "    <tr>\n",
       "      <th>3</th>\n",
       "      <td>[tt8653640]</td>\n",
       "      <td>An Ideal Husband</td>\n",
       "      <td>[Comedy]</td>\n",
       "      <td>1999</td>\n",
       "      <td>6</td>\n",
       "      <td>1999-06-18</td>\n",
       "      <td>10.7</td>\n",
       "      <td>18.542974</td>\n",
       "      <td>31.341183</td>\n",
       "      <td>20.641183</td>\n",
       "      <td>[[nm5592690, nm0053384, nm0107988]]</td>\n",
       "      <td>[[nm0002081, nm3456865, nm0662511]]</td>\n",
       "      <td>[[nm9949004]]</td>\n",
       "      <td>[]</td>\n",
       "      <td>8.3</td>\n",
       "      <td>13.0</td>\n",
       "    </tr>\n",
       "    <tr>\n",
       "      <th>4</th>\n",
       "      <td>[tt5117670]</td>\n",
       "      <td>Peter Rabbit</td>\n",
       "      <td>[Animation, Adventure, Comedy]</td>\n",
       "      <td>2018</td>\n",
       "      <td>2</td>\n",
       "      <td>2018-02-09</td>\n",
       "      <td>50.0</td>\n",
       "      <td>115.234093</td>\n",
       "      <td>347.136477</td>\n",
       "      <td>297.136477</td>\n",
       "      <td>[[nm2397981]]</td>\n",
       "      <td>[[nm0179479, nm2417960, nm1727304]]</td>\n",
       "      <td>[[nm0323239]]</td>\n",
       "      <td>[[nm0620502]]</td>\n",
       "      <td>6.6</td>\n",
       "      <td>27908.0</td>\n",
       "    </tr>\n",
       "  </tbody>\n",
       "</table>\n",
       "</div>"
      ],
      "text/plain": [
       "        tconst        movie_title                          genres  \\\n",
       "0  [tt1640484]  Jumping the Broom                 [Drama, Comedy]   \n",
       "1  [tt2334649]  Fruitvale Station     [Drama, Biography, Romance]   \n",
       "2  [tt2465146]     And So It Goes        [Drama, Comedy, Romance]   \n",
       "3  [tt8653640]   An Ideal Husband                        [Comedy]   \n",
       "4  [tt5117670]       Peter Rabbit  [Animation, Adventure, Comedy]   \n",
       "\n",
       "   release_year  release_month release_date  production_budget  \\\n",
       "0          2011              5   2011-05-06                7.0   \n",
       "1          2013              7   2013-07-12                0.9   \n",
       "2          2014              7   2014-07-25               18.0   \n",
       "3          1999              6   1999-06-18               10.7   \n",
       "4          2018              2   2018-02-09               50.0   \n",
       "\n",
       "   domestic_gross  worldwide_gross      profit  \\\n",
       "0       37.295394        38.158601   31.158601   \n",
       "1       16.098998        17.549645   16.649645   \n",
       "2       15.160801        17.920013   -0.079987   \n",
       "3       18.542974        31.341183   20.641183   \n",
       "4      115.234093       347.136477  297.136477   \n",
       "\n",
       "                             actresses                               actors  \\\n",
       "0  [[nm1745736, nm0000291, nm0222643]]                        [[nm0022306]]   \n",
       "1             [[nm0246686, nm0818055]]             [[nm0430107, nm0243806]]   \n",
       "2  [[nm0000473, nm3606106, nm0661755]]                        [[nm0000140]]   \n",
       "3  [[nm5592690, nm0053384, nm0107988]]  [[nm0002081, nm3456865, nm0662511]]   \n",
       "4                        [[nm2397981]]  [[nm0179479, nm2417960, nm1727304]]   \n",
       "\n",
       "       directors                            producers  ratings  nuvotes  \n",
       "0  [[nm0015328]]  [[nm0537164, nm0249525, nm0415890]]      5.7   9089.0  \n",
       "1  [[nm3363032]]             [[nm1341146, nm0001845]]      7.5  68187.0  \n",
       "2  [[nm0001661]]             [[nm0198941, nm0340112]]      5.8  11597.0  \n",
       "3  [[nm9949004]]                                   []      8.3     13.0  \n",
       "4  [[nm0323239]]                        [[nm0620502]]      6.6  27908.0  "
      ]
     },
     "execution_count": 9,
     "metadata": {},
     "output_type": "execute_result"
    }
   ],
   "source": [
    "movie_df.head()"
   ]
  },
  {
   "cell_type": "code",
   "execution_count": 10,
   "metadata": {},
   "outputs": [],
   "source": [
    "# Two datasets imdb_title_basics and tn_movie_budgets are merged to get profit and genres together in one table\n",
    "\n",
    "#merged = pd.merge(imdb_title_basics[['tconst', 'start_year', 'runtime_minutes', 'genres','primary_title']], tn_movie_budgets[['release_date', 'movie', 'production_budget', 'domestic_gross', 'worldwide_gross', 'profit']], left_on = 'primary_title', right_on = 'movie', how='inner')\n",
    "# merged.drop(columns=['movie'], inplace = True)\n"
   ]
  },
  {
   "cell_type": "code",
   "execution_count": 11,
   "metadata": {},
   "outputs": [],
   "source": [
    "#Merging gross and tn_movie_budgets to get profit and studios in same table\n",
    "#profit_studio = pd.merge(gross[['title', 'studio', 'year']], tn_movie_budgets[['release_date', 'movie', 'profit']], left_on = 'title', right_on = 'movie', how='inner')\n",
    "merged = pd.merge(movie_df, gross[['title', 'studio']], left_on = 'movie_title', right_on = 'title', how='left')\n",
    "merged.drop(columns=['title'], inplace = True)"
   ]
  },
  {
   "cell_type": "code",
   "execution_count": 12,
   "metadata": {},
   "outputs": [
    {
     "data": {
      "text/html": [
       "<div>\n",
       "<style scoped>\n",
       "    .dataframe tbody tr th:only-of-type {\n",
       "        vertical-align: middle;\n",
       "    }\n",
       "\n",
       "    .dataframe tbody tr th {\n",
       "        vertical-align: top;\n",
       "    }\n",
       "\n",
       "    .dataframe thead th {\n",
       "        text-align: right;\n",
       "    }\n",
       "</style>\n",
       "<table border=\"1\" class=\"dataframe\">\n",
       "  <thead>\n",
       "    <tr style=\"text-align: right;\">\n",
       "      <th></th>\n",
       "      <th>tconst</th>\n",
       "      <th>movie_title</th>\n",
       "      <th>genres</th>\n",
       "      <th>release_year</th>\n",
       "      <th>release_month</th>\n",
       "      <th>release_date</th>\n",
       "      <th>production_budget</th>\n",
       "      <th>domestic_gross</th>\n",
       "      <th>worldwide_gross</th>\n",
       "      <th>profit</th>\n",
       "      <th>actresses</th>\n",
       "      <th>actors</th>\n",
       "      <th>directors</th>\n",
       "      <th>producers</th>\n",
       "      <th>ratings</th>\n",
       "      <th>nuvotes</th>\n",
       "      <th>studio</th>\n",
       "    </tr>\n",
       "  </thead>\n",
       "  <tbody>\n",
       "    <tr>\n",
       "      <th>0</th>\n",
       "      <td>[tt1640484]</td>\n",
       "      <td>Jumping the Broom</td>\n",
       "      <td>[Drama, Comedy]</td>\n",
       "      <td>2011</td>\n",
       "      <td>5</td>\n",
       "      <td>2011-05-06</td>\n",
       "      <td>7.0</td>\n",
       "      <td>37.295394</td>\n",
       "      <td>38.158601</td>\n",
       "      <td>31.158601</td>\n",
       "      <td>[[nm1745736, nm0000291, nm0222643]]</td>\n",
       "      <td>[[nm0022306]]</td>\n",
       "      <td>[[nm0015328]]</td>\n",
       "      <td>[[nm0537164, nm0249525, nm0415890]]</td>\n",
       "      <td>5.7</td>\n",
       "      <td>9089.0</td>\n",
       "      <td>TriS</td>\n",
       "    </tr>\n",
       "    <tr>\n",
       "      <th>1</th>\n",
       "      <td>[tt2334649]</td>\n",
       "      <td>Fruitvale Station</td>\n",
       "      <td>[Drama, Biography, Romance]</td>\n",
       "      <td>2013</td>\n",
       "      <td>7</td>\n",
       "      <td>2013-07-12</td>\n",
       "      <td>0.9</td>\n",
       "      <td>16.098998</td>\n",
       "      <td>17.549645</td>\n",
       "      <td>16.649645</td>\n",
       "      <td>[[nm0246686, nm0818055]]</td>\n",
       "      <td>[[nm0430107, nm0243806]]</td>\n",
       "      <td>[[nm3363032]]</td>\n",
       "      <td>[[nm1341146, nm0001845]]</td>\n",
       "      <td>7.5</td>\n",
       "      <td>68187.0</td>\n",
       "      <td>Wein.</td>\n",
       "    </tr>\n",
       "    <tr>\n",
       "      <th>2</th>\n",
       "      <td>[tt2465146]</td>\n",
       "      <td>And So It Goes</td>\n",
       "      <td>[Drama, Comedy, Romance]</td>\n",
       "      <td>2014</td>\n",
       "      <td>7</td>\n",
       "      <td>2014-07-25</td>\n",
       "      <td>18.0</td>\n",
       "      <td>15.160801</td>\n",
       "      <td>17.920013</td>\n",
       "      <td>-0.079987</td>\n",
       "      <td>[[nm0000473, nm3606106, nm0661755]]</td>\n",
       "      <td>[[nm0000140]]</td>\n",
       "      <td>[[nm0001661]]</td>\n",
       "      <td>[[nm0198941, nm0340112]]</td>\n",
       "      <td>5.8</td>\n",
       "      <td>11597.0</td>\n",
       "      <td>CE</td>\n",
       "    </tr>\n",
       "    <tr>\n",
       "      <th>3</th>\n",
       "      <td>[tt8653640]</td>\n",
       "      <td>An Ideal Husband</td>\n",
       "      <td>[Comedy]</td>\n",
       "      <td>1999</td>\n",
       "      <td>6</td>\n",
       "      <td>1999-06-18</td>\n",
       "      <td>10.7</td>\n",
       "      <td>18.542974</td>\n",
       "      <td>31.341183</td>\n",
       "      <td>20.641183</td>\n",
       "      <td>[[nm5592690, nm0053384, nm0107988]]</td>\n",
       "      <td>[[nm0002081, nm3456865, nm0662511]]</td>\n",
       "      <td>[[nm9949004]]</td>\n",
       "      <td>[]</td>\n",
       "      <td>8.3</td>\n",
       "      <td>13.0</td>\n",
       "      <td>NaN</td>\n",
       "    </tr>\n",
       "    <tr>\n",
       "      <th>4</th>\n",
       "      <td>[tt5117670]</td>\n",
       "      <td>Peter Rabbit</td>\n",
       "      <td>[Animation, Adventure, Comedy]</td>\n",
       "      <td>2018</td>\n",
       "      <td>2</td>\n",
       "      <td>2018-02-09</td>\n",
       "      <td>50.0</td>\n",
       "      <td>115.234093</td>\n",
       "      <td>347.136477</td>\n",
       "      <td>297.136477</td>\n",
       "      <td>[[nm2397981]]</td>\n",
       "      <td>[[nm0179479, nm2417960, nm1727304]]</td>\n",
       "      <td>[[nm0323239]]</td>\n",
       "      <td>[[nm0620502]]</td>\n",
       "      <td>6.6</td>\n",
       "      <td>27908.0</td>\n",
       "      <td>Sony</td>\n",
       "    </tr>\n",
       "  </tbody>\n",
       "</table>\n",
       "</div>"
      ],
      "text/plain": [
       "        tconst        movie_title                          genres  \\\n",
       "0  [tt1640484]  Jumping the Broom                 [Drama, Comedy]   \n",
       "1  [tt2334649]  Fruitvale Station     [Drama, Biography, Romance]   \n",
       "2  [tt2465146]     And So It Goes        [Drama, Comedy, Romance]   \n",
       "3  [tt8653640]   An Ideal Husband                        [Comedy]   \n",
       "4  [tt5117670]       Peter Rabbit  [Animation, Adventure, Comedy]   \n",
       "\n",
       "   release_year  release_month release_date  production_budget  \\\n",
       "0          2011              5   2011-05-06                7.0   \n",
       "1          2013              7   2013-07-12                0.9   \n",
       "2          2014              7   2014-07-25               18.0   \n",
       "3          1999              6   1999-06-18               10.7   \n",
       "4          2018              2   2018-02-09               50.0   \n",
       "\n",
       "   domestic_gross  worldwide_gross      profit  \\\n",
       "0       37.295394        38.158601   31.158601   \n",
       "1       16.098998        17.549645   16.649645   \n",
       "2       15.160801        17.920013   -0.079987   \n",
       "3       18.542974        31.341183   20.641183   \n",
       "4      115.234093       347.136477  297.136477   \n",
       "\n",
       "                             actresses                               actors  \\\n",
       "0  [[nm1745736, nm0000291, nm0222643]]                        [[nm0022306]]   \n",
       "1             [[nm0246686, nm0818055]]             [[nm0430107, nm0243806]]   \n",
       "2  [[nm0000473, nm3606106, nm0661755]]                        [[nm0000140]]   \n",
       "3  [[nm5592690, nm0053384, nm0107988]]  [[nm0002081, nm3456865, nm0662511]]   \n",
       "4                        [[nm2397981]]  [[nm0179479, nm2417960, nm1727304]]   \n",
       "\n",
       "       directors                            producers  ratings  nuvotes studio  \n",
       "0  [[nm0015328]]  [[nm0537164, nm0249525, nm0415890]]      5.7   9089.0   TriS  \n",
       "1  [[nm3363032]]             [[nm1341146, nm0001845]]      7.5  68187.0  Wein.  \n",
       "2  [[nm0001661]]             [[nm0198941, nm0340112]]      5.8  11597.0     CE  \n",
       "3  [[nm9949004]]                                   []      8.3     13.0    NaN  \n",
       "4  [[nm0323239]]                        [[nm0620502]]      6.6  27908.0   Sony  "
      ]
     },
     "execution_count": 12,
     "metadata": {},
     "output_type": "execute_result"
    }
   ],
   "source": [
    "merged.head()\n",
    "# merged.drop(columns=['year'], inplace = True)\n",
    "# merged.sort_values(by = 'profit', ascending = False).head()\n",
    "\n"
   ]
  },
  {
   "cell_type": "code",
   "execution_count": 13,
   "metadata": {},
   "outputs": [],
   "source": [
    "#Merging our table with imdb_title_crew to get the crew for each movie in same table\n",
    "# merged = pd.merge(merged, imdb_title_crew, on = 'tconst', how='left')\n"
   ]
  },
  {
   "cell_type": "code",
   "execution_count": 14,
   "metadata": {},
   "outputs": [],
   "source": [
    "# merged.sort_values(by = 'profit', ascending = False).head()"
   ]
  },
  {
   "cell_type": "code",
   "execution_count": 15,
   "metadata": {},
   "outputs": [],
   "source": [
    "#Merge to get the ratings in same table\n",
    "#merged = pd.merge(merged, imdb_title_ratings, on = 'tconst', how = 'left')\n"
   ]
  },
  {
   "cell_type": "code",
   "execution_count": 16,
   "metadata": {},
   "outputs": [],
   "source": [
    "#Merge to get the language and popularity in same table\n",
    "#merged = pd.merge(merged, tmdb_movies[['original_language', 'popularity', 'original_title']],right_on = 'original_title', left_on = 'primary_title', how='left')\n"
   ]
  },
  {
   "cell_type": "code",
   "execution_count": 17,
   "metadata": {},
   "outputs": [],
   "source": [
    "#renaming the columns \n",
    "#merged.rename(columns={\"averagerating\": \"rating\", \"numvotes\": \"votes\", \"original_language\": \"language\"}, inplace = True)\n",
    "#merged.drop(columns=['original_title', 'start_year'], inplace = True)\n",
    "\n"
   ]
  },
  {
   "cell_type": "code",
   "execution_count": 18,
   "metadata": {},
   "outputs": [],
   "source": [
    "# Modifying column values\n",
    "#Removing the commas and conerting them to list of strings\n",
    "#merged['directors'] = merged['directors'].str.split(\",\") \n",
    "#merged['writers'] = merged['writers'].str.split(\",\") \n",
    "#merged['genres'] = merged['genres'].str.split(\",\") "
   ]
  },
  {
   "cell_type": "code",
   "execution_count": 19,
   "metadata": {},
   "outputs": [
    {
     "data": {
      "text/plain": [
       "'Mary Ellen Bauder'"
      ]
     },
     "execution_count": 19,
     "metadata": {},
     "output_type": "execute_result"
    }
   ],
   "source": [
    "#Removing duplicated rows\n",
    "#  merged.drop_duplicates(subset = 'title')\n",
    "list(imdb_name.loc[imdb_name.nconst == 'nm0061671' ,'primary_name'])[0]"
   ]
  },
  {
   "cell_type": "code",
   "execution_count": 20,
   "metadata": {},
   "outputs": [],
   "source": [
    "#Getting director names from imdb name and putting them in the columns\n",
    "# This function looks through the imdb_name dataset and find the corresponding primary name for identifiers\n",
    "def get_names(lis):\n",
    "    li = []\n",
    "    if not isinstance(lis, float):\n",
    "        for item in lis:\n",
    "            li.append(list(imdb_name.loc[imdb_name.nconst == item[0] ,'primary_name'])[0])\n",
    "    return li\n",
    "    \n",
    "merged['directors'] = merged['directors'].apply(get_names)\n",
    "merged['actors'] = merged['actors'].apply(get_names)\n",
    "merged['actresses'] = merged['actresses'].apply(get_names)\n",
    "merged['producers'] = merged['producers'].apply(get_names)"
   ]
  },
  {
   "cell_type": "code",
   "execution_count": 21,
   "metadata": {},
   "outputs": [
    {
     "data": {
      "text/html": [
       "<div>\n",
       "<style scoped>\n",
       "    .dataframe tbody tr th:only-of-type {\n",
       "        vertical-align: middle;\n",
       "    }\n",
       "\n",
       "    .dataframe tbody tr th {\n",
       "        vertical-align: top;\n",
       "    }\n",
       "\n",
       "    .dataframe thead th {\n",
       "        text-align: right;\n",
       "    }\n",
       "</style>\n",
       "<table border=\"1\" class=\"dataframe\">\n",
       "  <thead>\n",
       "    <tr style=\"text-align: right;\">\n",
       "      <th></th>\n",
       "      <th>tconst</th>\n",
       "      <th>movie_title</th>\n",
       "      <th>genres</th>\n",
       "      <th>release_year</th>\n",
       "      <th>release_month</th>\n",
       "      <th>release_date</th>\n",
       "      <th>production_budget</th>\n",
       "      <th>domestic_gross</th>\n",
       "      <th>worldwide_gross</th>\n",
       "      <th>profit</th>\n",
       "      <th>actresses</th>\n",
       "      <th>actors</th>\n",
       "      <th>directors</th>\n",
       "      <th>producers</th>\n",
       "      <th>ratings</th>\n",
       "      <th>nuvotes</th>\n",
       "      <th>studio</th>\n",
       "    </tr>\n",
       "  </thead>\n",
       "  <tbody>\n",
       "    <tr>\n",
       "      <th>130</th>\n",
       "      <td>[tt1775309]</td>\n",
       "      <td>Avatar</td>\n",
       "      <td>[Horror]</td>\n",
       "      <td>2009</td>\n",
       "      <td>12</td>\n",
       "      <td>2009-12-18</td>\n",
       "      <td>425.0</td>\n",
       "      <td>760.507625</td>\n",
       "      <td>2776.345279</td>\n",
       "      <td>2351.345279</td>\n",
       "      <td>[Mizuki Sashide]</td>\n",
       "      <td>[]</td>\n",
       "      <td>[Atsushi Wada]</td>\n",
       "      <td>[]</td>\n",
       "      <td>6.1</td>\n",
       "      <td>43.0</td>\n",
       "      <td>NaN</td>\n",
       "    </tr>\n",
       "    <tr>\n",
       "      <th>267</th>\n",
       "      <td>[tt2495766, tt8852130]</td>\n",
       "      <td>Titanic</td>\n",
       "      <td>[Family, Adventure]</td>\n",
       "      <td>1997</td>\n",
       "      <td>12</td>\n",
       "      <td>1997-12-19</td>\n",
       "      <td>200.0</td>\n",
       "      <td>659.363944</td>\n",
       "      <td>2208.208395</td>\n",
       "      <td>2008.208395</td>\n",
       "      <td>[Eliza Jones, Kamal Khangura]</td>\n",
       "      <td>[Stuart Moore, Raj Singh Jhinger]</td>\n",
       "      <td>[Ravi Punj]</td>\n",
       "      <td>[Baljinder Singh]</td>\n",
       "      <td>6.2</td>\n",
       "      <td>20.0</td>\n",
       "      <td>NaN</td>\n",
       "    </tr>\n",
       "    <tr>\n",
       "      <th>1546</th>\n",
       "      <td>[tt4154756]</td>\n",
       "      <td>Avengers: Infinity War</td>\n",
       "      <td>[Adventure, Action, Sci-Fi]</td>\n",
       "      <td>2018</td>\n",
       "      <td>4</td>\n",
       "      <td>2018-04-27</td>\n",
       "      <td>300.0</td>\n",
       "      <td>678.815482</td>\n",
       "      <td>2048.134200</td>\n",
       "      <td>1748.134200</td>\n",
       "      <td>[]</td>\n",
       "      <td>[Robert Downey Jr.]</td>\n",
       "      <td>[Anthony Russo]</td>\n",
       "      <td>[]</td>\n",
       "      <td>8.5</td>\n",
       "      <td>670926.0</td>\n",
       "      <td>BV</td>\n",
       "    </tr>\n",
       "    <tr>\n",
       "      <th>566</th>\n",
       "      <td>[tt0369610]</td>\n",
       "      <td>Jurassic World</td>\n",
       "      <td>[Adventure, Action, Sci-Fi]</td>\n",
       "      <td>2015</td>\n",
       "      <td>6</td>\n",
       "      <td>2015-06-12</td>\n",
       "      <td>215.0</td>\n",
       "      <td>652.270625</td>\n",
       "      <td>1648.854864</td>\n",
       "      <td>1433.854864</td>\n",
       "      <td>[Bryce Dallas Howard]</td>\n",
       "      <td>[Chris Pratt]</td>\n",
       "      <td>[Colin Trevorrow]</td>\n",
       "      <td>[Patrick Crowley]</td>\n",
       "      <td>7.0</td>\n",
       "      <td>539338.0</td>\n",
       "      <td>Uni.</td>\n",
       "    </tr>\n",
       "    <tr>\n",
       "      <th>1021</th>\n",
       "      <td>[tt2820852]</td>\n",
       "      <td>Furious 7</td>\n",
       "      <td>[Thriller, Action, Crime]</td>\n",
       "      <td>2015</td>\n",
       "      <td>4</td>\n",
       "      <td>2015-04-03</td>\n",
       "      <td>190.0</td>\n",
       "      <td>353.007020</td>\n",
       "      <td>1518.722794</td>\n",
       "      <td>1328.722794</td>\n",
       "      <td>[]</td>\n",
       "      <td>[Vin Diesel]</td>\n",
       "      <td>[James Wan]</td>\n",
       "      <td>[Michael Fottrell]</td>\n",
       "      <td>7.2</td>\n",
       "      <td>335074.0</td>\n",
       "      <td>Uni.</td>\n",
       "    </tr>\n",
       "    <tr>\n",
       "      <th>2090</th>\n",
       "      <td>[tt0848228]</td>\n",
       "      <td>The Avengers</td>\n",
       "      <td>[Adventure, Action, Sci-Fi]</td>\n",
       "      <td>2012</td>\n",
       "      <td>5</td>\n",
       "      <td>2012-05-04</td>\n",
       "      <td>225.0</td>\n",
       "      <td>623.279547</td>\n",
       "      <td>1517.935897</td>\n",
       "      <td>1292.935897</td>\n",
       "      <td>[Scarlett Johansson]</td>\n",
       "      <td>[Robert Downey Jr.]</td>\n",
       "      <td>[Joss Whedon]</td>\n",
       "      <td>[Kevin Feige]</td>\n",
       "      <td>8.1</td>\n",
       "      <td>1183655.0</td>\n",
       "      <td>NaN</td>\n",
       "    </tr>\n",
       "    <tr>\n",
       "      <th>683</th>\n",
       "      <td>[tt1825683]</td>\n",
       "      <td>Black Panther</td>\n",
       "      <td>[Adventure, Action, Sci-Fi]</td>\n",
       "      <td>2018</td>\n",
       "      <td>2</td>\n",
       "      <td>2018-02-16</td>\n",
       "      <td>200.0</td>\n",
       "      <td>700.059566</td>\n",
       "      <td>1348.258224</td>\n",
       "      <td>1148.258224</td>\n",
       "      <td>[Lupita Nyong'o]</td>\n",
       "      <td>[Chadwick Boseman]</td>\n",
       "      <td>[Ryan Coogler]</td>\n",
       "      <td>[Kevin Feige]</td>\n",
       "      <td>7.3</td>\n",
       "      <td>516148.0</td>\n",
       "      <td>BV</td>\n",
       "    </tr>\n",
       "    <tr>\n",
       "      <th>2236</th>\n",
       "      <td>[tt4881806]</td>\n",
       "      <td>Jurassic World: Fallen Kingdom</td>\n",
       "      <td>[Adventure, Action, Sci-Fi]</td>\n",
       "      <td>2018</td>\n",
       "      <td>6</td>\n",
       "      <td>2018-06-22</td>\n",
       "      <td>170.0</td>\n",
       "      <td>417.719760</td>\n",
       "      <td>1305.772799</td>\n",
       "      <td>1135.772799</td>\n",
       "      <td>[Bryce Dallas Howard]</td>\n",
       "      <td>[Chris Pratt]</td>\n",
       "      <td>[J.A. Bayona]</td>\n",
       "      <td>[Patrick Crowley]</td>\n",
       "      <td>6.2</td>\n",
       "      <td>219125.0</td>\n",
       "      <td>Uni.</td>\n",
       "    </tr>\n",
       "    <tr>\n",
       "      <th>992</th>\n",
       "      <td>[tt1323045, tt1611845, tt2294629]</td>\n",
       "      <td>Frozen</td>\n",
       "      <td>[Drama, Animation, Comedy, Adventure, Sport, F...</td>\n",
       "      <td>2013</td>\n",
       "      <td>11</td>\n",
       "      <td>2013-11-22</td>\n",
       "      <td>150.0</td>\n",
       "      <td>400.738009</td>\n",
       "      <td>1272.469910</td>\n",
       "      <td>1122.469910</td>\n",
       "      <td>[Emma Bell, Lan Wei, Kristen Bell]</td>\n",
       "      <td>[Shawn Ashmore, Aarif Rahman, Jonathan Groff]</td>\n",
       "      <td>[Adam Green, Chi-kin Kwok, Chris Buck]</td>\n",
       "      <td>[Peter Block, Sinn Gi Joseph Chan, Peter Del V...</td>\n",
       "      <td>7.5</td>\n",
       "      <td>516998.0</td>\n",
       "      <td>BV</td>\n",
       "    </tr>\n",
       "    <tr>\n",
       "      <th>779</th>\n",
       "      <td>[tt2316801, tt2771200, tt9173998]</td>\n",
       "      <td>Beauty and the Beast</td>\n",
       "      <td>[Drama, Family, Musical, Fantasy, Romance]</td>\n",
       "      <td>2017</td>\n",
       "      <td>3</td>\n",
       "      <td>2017-03-17</td>\n",
       "      <td>160.0</td>\n",
       "      <td>504.014165</td>\n",
       "      <td>1259.199706</td>\n",
       "      <td>1099.199706</td>\n",
       "      <td>[Léa Seydoux, Emma Watson, Angelica Serrano]</td>\n",
       "      <td>[Vincent Cassel, Dan Stevens, Caye Duran]</td>\n",
       "      <td>[Christophe Gans, Bill Condon, Marilyn Barnes]</td>\n",
       "      <td>[Richard Grandpierre]</td>\n",
       "      <td>7.2</td>\n",
       "      <td>238325.0</td>\n",
       "      <td>NaN</td>\n",
       "    </tr>\n",
       "  </tbody>\n",
       "</table>\n",
       "</div>"
      ],
      "text/plain": [
       "                                 tconst                     movie_title  \\\n",
       "130                         [tt1775309]                          Avatar   \n",
       "267              [tt2495766, tt8852130]                         Titanic   \n",
       "1546                        [tt4154756]          Avengers: Infinity War   \n",
       "566                         [tt0369610]                  Jurassic World   \n",
       "1021                        [tt2820852]                       Furious 7   \n",
       "2090                        [tt0848228]                    The Avengers   \n",
       "683                         [tt1825683]                   Black Panther   \n",
       "2236                        [tt4881806]  Jurassic World: Fallen Kingdom   \n",
       "992   [tt1323045, tt1611845, tt2294629]                          Frozen   \n",
       "779   [tt2316801, tt2771200, tt9173998]            Beauty and the Beast   \n",
       "\n",
       "                                                 genres  release_year  \\\n",
       "130                                            [Horror]          2009   \n",
       "267                                 [Family, Adventure]          1997   \n",
       "1546                        [Adventure, Action, Sci-Fi]          2018   \n",
       "566                         [Adventure, Action, Sci-Fi]          2015   \n",
       "1021                          [Thriller, Action, Crime]          2015   \n",
       "2090                        [Adventure, Action, Sci-Fi]          2012   \n",
       "683                         [Adventure, Action, Sci-Fi]          2018   \n",
       "2236                        [Adventure, Action, Sci-Fi]          2018   \n",
       "992   [Drama, Animation, Comedy, Adventure, Sport, F...          2013   \n",
       "779          [Drama, Family, Musical, Fantasy, Romance]          2017   \n",
       "\n",
       "      release_month release_date  production_budget  domestic_gross  \\\n",
       "130              12   2009-12-18              425.0      760.507625   \n",
       "267              12   1997-12-19              200.0      659.363944   \n",
       "1546              4   2018-04-27              300.0      678.815482   \n",
       "566               6   2015-06-12              215.0      652.270625   \n",
       "1021              4   2015-04-03              190.0      353.007020   \n",
       "2090              5   2012-05-04              225.0      623.279547   \n",
       "683               2   2018-02-16              200.0      700.059566   \n",
       "2236              6   2018-06-22              170.0      417.719760   \n",
       "992              11   2013-11-22              150.0      400.738009   \n",
       "779               3   2017-03-17              160.0      504.014165   \n",
       "\n",
       "      worldwide_gross       profit  \\\n",
       "130       2776.345279  2351.345279   \n",
       "267       2208.208395  2008.208395   \n",
       "1546      2048.134200  1748.134200   \n",
       "566       1648.854864  1433.854864   \n",
       "1021      1518.722794  1328.722794   \n",
       "2090      1517.935897  1292.935897   \n",
       "683       1348.258224  1148.258224   \n",
       "2236      1305.772799  1135.772799   \n",
       "992       1272.469910  1122.469910   \n",
       "779       1259.199706  1099.199706   \n",
       "\n",
       "                                         actresses  \\\n",
       "130                               [Mizuki Sashide]   \n",
       "267                  [Eliza Jones, Kamal Khangura]   \n",
       "1546                                            []   \n",
       "566                          [Bryce Dallas Howard]   \n",
       "1021                                            []   \n",
       "2090                          [Scarlett Johansson]   \n",
       "683                               [Lupita Nyong'o]   \n",
       "2236                         [Bryce Dallas Howard]   \n",
       "992             [Emma Bell, Lan Wei, Kristen Bell]   \n",
       "779   [Léa Seydoux, Emma Watson, Angelica Serrano]   \n",
       "\n",
       "                                             actors  \\\n",
       "130                                              []   \n",
       "267               [Stuart Moore, Raj Singh Jhinger]   \n",
       "1546                            [Robert Downey Jr.]   \n",
       "566                                   [Chris Pratt]   \n",
       "1021                                   [Vin Diesel]   \n",
       "2090                            [Robert Downey Jr.]   \n",
       "683                              [Chadwick Boseman]   \n",
       "2236                                  [Chris Pratt]   \n",
       "992   [Shawn Ashmore, Aarif Rahman, Jonathan Groff]   \n",
       "779       [Vincent Cassel, Dan Stevens, Caye Duran]   \n",
       "\n",
       "                                           directors  \\\n",
       "130                                   [Atsushi Wada]   \n",
       "267                                      [Ravi Punj]   \n",
       "1546                                 [Anthony Russo]   \n",
       "566                                [Colin Trevorrow]   \n",
       "1021                                     [James Wan]   \n",
       "2090                                   [Joss Whedon]   \n",
       "683                                   [Ryan Coogler]   \n",
       "2236                                   [J.A. Bayona]   \n",
       "992           [Adam Green, Chi-kin Kwok, Chris Buck]   \n",
       "779   [Christophe Gans, Bill Condon, Marilyn Barnes]   \n",
       "\n",
       "                                              producers  ratings    nuvotes  \\\n",
       "130                                                  []      6.1       43.0   \n",
       "267                                   [Baljinder Singh]      6.2       20.0   \n",
       "1546                                                 []      8.5   670926.0   \n",
       "566                                   [Patrick Crowley]      7.0   539338.0   \n",
       "1021                                 [Michael Fottrell]      7.2   335074.0   \n",
       "2090                                      [Kevin Feige]      8.1  1183655.0   \n",
       "683                                       [Kevin Feige]      7.3   516148.0   \n",
       "2236                                  [Patrick Crowley]      6.2   219125.0   \n",
       "992   [Peter Block, Sinn Gi Joseph Chan, Peter Del V...      7.5   516998.0   \n",
       "779                               [Richard Grandpierre]      7.2   238325.0   \n",
       "\n",
       "     studio  \n",
       "130     NaN  \n",
       "267     NaN  \n",
       "1546     BV  \n",
       "566    Uni.  \n",
       "1021   Uni.  \n",
       "2090    NaN  \n",
       "683      BV  \n",
       "2236   Uni.  \n",
       "992      BV  \n",
       "779     NaN  "
      ]
     },
     "execution_count": 21,
     "metadata": {},
     "output_type": "execute_result"
    }
   ],
   "source": [
    "merged.sort_values(by = 'profit', ascending = False).head(10)\n"
   ]
  },
  {
   "cell_type": "code",
   "execution_count": 22,
   "metadata": {},
   "outputs": [],
   "source": [
    "#merged['ratings'].fillna('NA', inplace = True)"
   ]
  },
  {
   "cell_type": "code",
   "execution_count": 23,
   "metadata": {},
   "outputs": [],
   "source": [
    "#converting release date to pandas date format\n"
   ]
  },
  {
   "cell_type": "code",
   "execution_count": 24,
   "metadata": {},
   "outputs": [],
   "source": [
    "#Making a new column for month for analysis\n",
    "#merged['release_month'] = merged.release_date.dt.month\n"
   ]
  },
  {
   "cell_type": "code",
   "execution_count": 25,
   "metadata": {},
   "outputs": [],
   "source": [
    "#actors.rename(columns={\"nconst\": \"actor\"}, inplace = True)"
   ]
  },
  {
   "cell_type": "code",
   "execution_count": 26,
   "metadata": {},
   "outputs": [],
   "source": [
    "#merged = pd.merge(merged, actors, on = 'tconst', how='inner')\n",
    "#max(list(merged['ratings']) \n"
   ]
  },
  {
   "cell_type": "code",
   "execution_count": 87,
   "metadata": {},
   "outputs": [],
   "source": [
    "#Binning rating and creating another column\n",
    "bins = [2, 4, 6, 8, 10]\n",
    "merged['binned_rating'] = pd.cut(merged['ratings'], bins)\n"
   ]
  },
  {
   "cell_type": "code",
   "execution_count": 94,
   "metadata": {},
   "outputs": [],
   "source": [
    "# Top 100 and bottom 100 profitable movies\n",
    "top_100 = merged.sort_values(by = 'profit', ascending = False).head(100)\n",
    "bottom_100 = merged.sort_values(by = 'profit').head(100)"
   ]
  },
  {
   "cell_type": "code",
   "execution_count": 95,
   "metadata": {},
   "outputs": [],
   "source": [
    "top_20 = merged.sort_values(by = 'profit', ascending = False).head(20)\n",
    "bottom_20 = merged.sort_values(by = 'profit').head(20)"
   ]
  },
  {
   "cell_type": "code",
   "execution_count": 96,
   "metadata": {},
   "outputs": [
    {
     "data": {
      "text/plain": [
       "['Documentary',\n",
       " 'Music',\n",
       " 'Sport',\n",
       " 'Crime',\n",
       " 'Musical',\n",
       " 'Fantasy',\n",
       " 'Thriller',\n",
       " 'Animation',\n",
       " 'Comedy',\n",
       " 'Family',\n",
       " 'Action',\n",
       " 'Mystery',\n",
       " 'Biography',\n",
       " 'Romance',\n",
       " 'Drama',\n",
       " 'Horror',\n",
       " 'Adventure',\n",
       " 'Sci-Fi']"
      ]
     },
     "execution_count": 96,
     "metadata": {},
     "output_type": "execute_result"
    }
   ],
   "source": [
    "# Genres of Top 100 Profitable movies\n",
    "top_100_genres = list(top_100.genres)\n",
    "cleanedList = [x for x in top_100.genres if ((str(x) != 'nan') & (str(x) != ''))]\n",
    "flat_list = [item for sublist in cleanedList for item in sublist]\n",
    "top_genre = list(set(flat_list))\n",
    "top_genre.remove(\"\")\n",
    "top_genre"
   ]
  },
  {
   "cell_type": "code",
   "execution_count": 97,
   "metadata": {},
   "outputs": [
    {
     "data": {
      "text/plain": [
       "['Documentary',\n",
       " 'History',\n",
       " 'Music',\n",
       " 'War',\n",
       " 'Sport',\n",
       " 'Crime',\n",
       " 'Musical',\n",
       " 'Fantasy',\n",
       " 'Thriller',\n",
       " 'Western',\n",
       " 'Animation',\n",
       " 'Comedy',\n",
       " 'Family',\n",
       " 'Action',\n",
       " 'Mystery',\n",
       " 'Biography',\n",
       " 'Romance',\n",
       " 'Drama',\n",
       " 'Horror',\n",
       " 'Adventure',\n",
       " 'Sci-Fi']"
      ]
     },
     "execution_count": 97,
     "metadata": {},
     "output_type": "execute_result"
    }
   ],
   "source": [
    "# # Genres of Bottom 100 Profitable movies\n",
    "# bottom_100_genres = list(bottom_100.genres)\n",
    "# flat_list = [item for sublist in bottom_100_genres for item in sublist]\n",
    "# li = []\n",
    "# for item in flat_list:\n",
    "#     if not isinstance(item, float):\n",
    "#         li.append(item.split(\",\"))\n",
    "# flat_list = [item for sublist in li for item in sublist]\n",
    "# bottom_genre = list(set(flat_list))\n",
    "# bottom_genre\n",
    "\n",
    "# Genres of Bottom 100 Profitable movies\n",
    "bottom_100_genres = list(bottom_100.genres)\n",
    "cleanedList = [x for x in bottom_100.genres if str(x) != 'nan']\n",
    "flat_list = [item for sublist in cleanedList for item in sublist]\n",
    "bottom_genre = list(set(flat_list))\n",
    "bottom_genre.remove(\"\")\n",
    "bottom_genre"
   ]
  },
  {
   "cell_type": "code",
   "execution_count": 49,
   "metadata": {},
   "outputs": [
    {
     "data": {
      "text/plain": [
       "['James Fotopoulos',\n",
       " 'Tarô Ohtani',\n",
       " 'Rob Marshall',\n",
       " 'Marilyn Barnes',\n",
       " 'Bill Condon',\n",
       " 'Ridley Scott',\n",
       " 'Ruben Fleischer',\n",
       " 'James Wan',\n",
       " 'Russell Davidson',\n",
       " 'Taika Waititi']"
      ]
     },
     "execution_count": 49,
     "metadata": {},
     "output_type": "execute_result"
    }
   ],
   "source": [
    "# Directors of top_20 Profitable movies\n",
    "top_100_directors = list(top_100.directors)\n",
    "flat_list = [item for sublist in top_100_directors for item in sublist]\n",
    "top_directors = set(flat_list)\n",
    "list(top_directors)[0:10]"
   ]
  },
  {
   "cell_type": "code",
   "execution_count": null,
   "metadata": {},
   "outputs": [],
   "source": [
    "#merged[['production_budget', 'profit']].corr()"
   ]
  },
  {
   "cell_type": "code",
   "execution_count": 77,
   "metadata": {},
   "outputs": [
    {
     "data": {
      "text/plain": [
       "<matplotlib.axes._subplots.AxesSubplot at 0x7fbf12b4b110>"
      ]
     },
     "execution_count": 77,
     "metadata": {},
     "output_type": "execute_result"
    },
    {
     "data": {
      "image/png": "[encoded data removed]",
      "text/plain": [
       "<Figure size 432x288 with 1 Axes>"
      ]
     },
     "metadata": {
      "needs_background": "light"
     },
     "output_type": "display_data"
    }
   ],
   "source": [
    "#rating and profit graph\n",
    "sns.scatterplot('profit', 'ratings', data=merged[['ratings', 'profit']])\n"
   ]
  },
  {
   "cell_type": "code",
   "execution_count": 80,
   "metadata": {},
   "outputs": [
    {
     "data": {
      "text/plain": [
       "<matplotlib.axes._subplots.AxesSubplot at 0x7fbf128e0c90>"
      ]
     },
     "execution_count": 80,
     "metadata": {},
     "output_type": "execute_result"
    },
    {
     "data": {
      "image/png": "[encoded data removed]",
      "text/plain": [
       "<Figure size 432x288 with 1 Axes>"
      ]
     },
     "metadata": {
      "needs_background": "light"
     },
     "output_type": "display_data"
    }
   ],
   "source": [
    "sns.scatterplot(  'release_month','profit', data=merged[['release_month', 'profit']], )\n",
    "\n"
   ]
  },
  {
   "cell_type": "code",
   "execution_count": 53,
   "metadata": {},
   "outputs": [
    {
     "data": {
      "text/plain": [
       "release_month\n",
       "2      945.641908\n",
       "3      935.545496\n",
       "4     1212.389452\n",
       "5      989.498420\n",
       "6      915.015627\n",
       "7      824.599824\n",
       "9      662.457969\n",
       "10     737.628605\n",
       "11     819.400906\n",
       "12    1155.374426\n",
       "Name: profit, dtype: float64"
      ]
     },
     "execution_count": 53,
     "metadata": {},
     "output_type": "execute_result"
    }
   ],
   "source": [
    "#Average profit of movies grouped by release month\n",
    "merged.sort_values(by = 'profit', ascending = False).head(50).groupby('release_month')['profit'].mean()"
   ]
  },
  {
   "cell_type": "code",
   "execution_count": 104,
   "metadata": {},
   "outputs": [
    {
     "data": {
      "text/plain": [
       "binned_rating\n",
       "(2, 4]       9.397614\n",
       "(4, 6]      36.625659\n",
       "(6, 8]      96.121967\n",
       "(8, 10]    194.508071\n",
       "Name: profit, dtype: float64"
      ]
     },
     "execution_count": 104,
     "metadata": {},
     "output_type": "execute_result"
    }
   ],
   "source": [
    "#Average profit of movies grouped by rating\n",
    "merged.sort_values(by = 'profit', ascending = False).groupby('binned_rating')['profit'].mean()\n"
   ]
  },
  {
   "cell_type": "code",
   "execution_count": 101,
   "metadata": {},
   "outputs": [
    {
     "data": {
      "text/plain": [
       "binned_rating\n",
       "(2, 4]     -0.500000\n",
       "(4, 6]      0.546865\n",
       "(6, 8]     18.996794\n",
       "(8, 10]    62.227619\n",
       "Name: profit, dtype: float64"
      ]
     },
     "execution_count": 101,
     "metadata": {},
     "output_type": "execute_result"
    }
   ],
   "source": [
    "merged.sort_values(by = 'profit', ascending = False).groupby('binned_rating')['profit'].median()"
   ]
  },
  {
   "cell_type": "code",
   "execution_count": 55,
   "metadata": {},
   "outputs": [
    {
     "data": {
      "text/plain": [
       "studio\n",
       "P/DW        374.402760\n",
       "BV          338.152749\n",
       "GrtIndia    233.502914\n",
       "Uni.        179.309765\n",
       "Sony        175.228888\n",
       "Fox         174.280348\n",
       "WB (NL)     172.763899\n",
       "WB          143.351010\n",
       "Par.        133.566798\n",
       "Strand      129.278214\n",
       "MGM          96.779636\n",
       "UTV          95.011597\n",
       "Sum.         85.736472\n",
       "LGF          84.267609\n",
       "MBox         81.036163\n",
       "SGem         66.873883\n",
       "LG/S         65.925054\n",
       "TriS         65.005914\n",
       "W/Dim.       60.164192\n",
       "Wein.        49.793587\n",
       "Name: profit, dtype: float64"
      ]
     },
     "execution_count": 55,
     "metadata": {},
     "output_type": "execute_result"
    }
   ],
   "source": [
    "# Studios and profit\n",
    "merged.groupby('studio')['profit'].mean().sort_values(ascending=False).head(20)"
   ]
  },
  {
   "cell_type": "code",
   "execution_count": 56,
   "metadata": {},
   "outputs": [
    {
     "data": {
      "text/plain": [
       "binned_rating\n",
       "(1, 2]    -44.926294\n",
       "(2, 3]    -29.831168\n",
       "(3, 4]    -64.483721\n",
       "(4, 5]    -35.463724\n",
       "(5, 6]    -42.532964\n",
       "(6, 7]    -35.174010\n",
       "(7, 8]    -32.946576\n",
       "(8, 9]    -44.373310\n",
       "(9, 10]          NaN\n",
       "Name: profit, dtype: float64"
      ]
     },
     "execution_count": 56,
     "metadata": {},
     "output_type": "execute_result"
    }
   ],
   "source": [
    "#Average profit of bottom 100 movies grouped by rating\n",
    "merged.sort_values(by = 'profit').head(100).groupby('binned_rating')['profit'].mean()"
   ]
  },
  {
   "cell_type": "code",
   "execution_count": 57,
   "metadata": {},
   "outputs": [
    {
     "name": "stdout",
     "output_type": "stream",
     "text": [
      "Percentage of Action Movies in top_100 55%\n",
      "Percentage of Adventure Movies in top_100 77%\n"
     ]
    }
   ],
   "source": [
    "def percentage_of_genre(df,genre):\n",
    "    count = 0\n",
    "    for item in df.genres:\n",
    "        if not isinstance(item, float):\n",
    "            if genre in item:\n",
    "                count += 1\n",
    "    return count\n",
    "\n",
    "print(\"Percentage of Action Movies in top_100 \" + str(percentage_of_genre(top_100, 'Action')) +\"%\" )\n",
    "print(\"Percentage of Adventure Movies in top_100 \" + str(percentage_of_genre(top_100, 'Adventure')) +\"%\" )"
   ]
  },
  {
   "cell_type": "markdown",
   "metadata": {},
   "source": [
    "# Percentage of genres in Top 100 Profitable Movies\n"
   ]
  },
  {
   "cell_type": "code",
   "execution_count": 58,
   "metadata": {},
   "outputs": [
    {
     "name": "stdout",
     "output_type": "stream",
     "text": [
      "Documentary Movies 2%\n",
      "Music Movies 2%\n",
      "Sport Movies 2%\n",
      "Crime Movies 3%\n",
      "Musical Movies 3%\n",
      "Fantasy Movies 21%\n",
      "Thriller Movies 11%\n",
      "Animation Movies 24%\n",
      "Comedy Movies 29%\n",
      "Family Movies 13%\n",
      "Action Movies 55%\n",
      "Mystery Movies 1%\n",
      "Biography Movies 2%\n",
      "Romance Movies 3%\n",
      "Drama Movies 16%\n",
      "Horror Movies 2%\n",
      "Adventure Movies 77%\n",
      "Sci-Fi Movies 31%\n"
     ]
    }
   ],
   "source": [
    "#percentage of genre in top movies\n",
    "for item in top_genre:\n",
    "    print(item + \" Movies \" + str(percentage_of_genre(top_100, item)) +\"%\" )"
   ]
  },
  {
   "cell_type": "markdown",
   "metadata": {},
   "source": [
    "# Percentage of genres in Bottom 100 Profitable Movies\n"
   ]
  },
  {
   "cell_type": "code",
   "execution_count": 59,
   "metadata": {},
   "outputs": [
    {
     "name": "stdout",
     "output_type": "stream",
     "text": [
      "Documentary Movies 15%\n",
      "History Movies 7%\n",
      "Music Movies 3%\n",
      "War Movies 3%\n",
      "Sport Movies 3%\n",
      "Crime Movies 23%\n",
      "Musical Movies 1%\n",
      "Fantasy Movies 9%\n",
      "Thriller Movies 19%\n",
      "Western Movies 3%\n",
      "Animation Movies 8%\n",
      "Comedy Movies 31%\n",
      "Family Movies 10%\n",
      "Action Movies 41%\n",
      "Mystery Movies 7%\n",
      "Biography Movies 15%\n",
      "Romance Movies 11%\n",
      "Drama Movies 49%\n",
      "Horror Movies 6%\n",
      "Adventure Movies 25%\n",
      "Sci-Fi Movies 6%\n"
     ]
    }
   ],
   "source": [
    "#percentage of genre in Bottom movies\n",
    "for item in bottom_genre:\n",
    "    print(item + \" Movies \" + str(percentage_of_genre(bottom_100, item)) +\"%\" )"
   ]
  },
  {
   "cell_type": "code",
   "execution_count": 60,
   "metadata": {},
   "outputs": [
    {
     "data": {
      "text/html": [
       "<div>\n",
       "<style scoped>\n",
       "    .dataframe tbody tr th:only-of-type {\n",
       "        vertical-align: middle;\n",
       "    }\n",
       "\n",
       "    .dataframe tbody tr th {\n",
       "        vertical-align: top;\n",
       "    }\n",
       "\n",
       "    .dataframe thead th {\n",
       "        text-align: right;\n",
       "    }\n",
       "</style>\n",
       "<table border=\"1\" class=\"dataframe\">\n",
       "  <thead>\n",
       "    <tr style=\"text-align: right;\">\n",
       "      <th></th>\n",
       "      <th>tconst</th>\n",
       "      <th>movie_title</th>\n",
       "      <th>genres</th>\n",
       "      <th>release_year</th>\n",
       "      <th>release_month</th>\n",
       "      <th>release_date</th>\n",
       "      <th>production_budget</th>\n",
       "      <th>domestic_gross</th>\n",
       "      <th>worldwide_gross</th>\n",
       "      <th>profit</th>\n",
       "      <th>actresses</th>\n",
       "      <th>actors</th>\n",
       "      <th>directors</th>\n",
       "      <th>producers</th>\n",
       "      <th>ratings</th>\n",
       "      <th>nuvotes</th>\n",
       "      <th>studio</th>\n",
       "      <th>binned_rating</th>\n",
       "    </tr>\n",
       "  </thead>\n",
       "  <tbody>\n",
       "    <tr>\n",
       "      <th>0</th>\n",
       "      <td>[tt1640484]</td>\n",
       "      <td>Jumping the Broom</td>\n",
       "      <td>[Drama, Comedy]</td>\n",
       "      <td>2011</td>\n",
       "      <td>5</td>\n",
       "      <td>2011-05-06</td>\n",
       "      <td>7.0</td>\n",
       "      <td>37.295394</td>\n",
       "      <td>38.158601</td>\n",
       "      <td>31.158601</td>\n",
       "      <td>[Paula Patton]</td>\n",
       "      <td>[Laz Alonso]</td>\n",
       "      <td>[Salim Akil]</td>\n",
       "      <td>[Michael Mahoney]</td>\n",
       "      <td>5.7</td>\n",
       "      <td>9089.0</td>\n",
       "      <td>TriS</td>\n",
       "      <td>(5, 6]</td>\n",
       "    </tr>\n",
       "    <tr>\n",
       "      <th>1</th>\n",
       "      <td>[tt2334649]</td>\n",
       "      <td>Fruitvale Station</td>\n",
       "      <td>[Drama, Biography, Romance]</td>\n",
       "      <td>2013</td>\n",
       "      <td>7</td>\n",
       "      <td>2013-07-12</td>\n",
       "      <td>0.9</td>\n",
       "      <td>16.098998</td>\n",
       "      <td>17.549645</td>\n",
       "      <td>16.649645</td>\n",
       "      <td>[Melonie Diaz]</td>\n",
       "      <td>[Michael B. Jordan]</td>\n",
       "      <td>[Ryan Coogler]</td>\n",
       "      <td>[Nina Yang Bongiovi]</td>\n",
       "      <td>7.5</td>\n",
       "      <td>68187.0</td>\n",
       "      <td>Wein.</td>\n",
       "      <td>(7, 8]</td>\n",
       "    </tr>\n",
       "    <tr>\n",
       "      <th>2</th>\n",
       "      <td>[tt2465146]</td>\n",
       "      <td>And So It Goes</td>\n",
       "      <td>[Drama, Comedy, Romance]</td>\n",
       "      <td>2014</td>\n",
       "      <td>7</td>\n",
       "      <td>2014-07-25</td>\n",
       "      <td>18.0</td>\n",
       "      <td>15.160801</td>\n",
       "      <td>17.920013</td>\n",
       "      <td>-0.079987</td>\n",
       "      <td>[Diane Keaton]</td>\n",
       "      <td>[Michael Douglas]</td>\n",
       "      <td>[Rob Reiner]</td>\n",
       "      <td>[Mark Damon]</td>\n",
       "      <td>5.8</td>\n",
       "      <td>11597.0</td>\n",
       "      <td>CE</td>\n",
       "      <td>(5, 6]</td>\n",
       "    </tr>\n",
       "    <tr>\n",
       "      <th>3</th>\n",
       "      <td>[tt8653640]</td>\n",
       "      <td>An Ideal Husband</td>\n",
       "      <td>[Comedy]</td>\n",
       "      <td>1999</td>\n",
       "      <td>6</td>\n",
       "      <td>1999-06-18</td>\n",
       "      <td>10.7</td>\n",
       "      <td>18.542974</td>\n",
       "      <td>31.341183</td>\n",
       "      <td>20.641183</td>\n",
       "      <td>[Faith Omole]</td>\n",
       "      <td>[Edward Fox]</td>\n",
       "      <td>[Jonathan Church]</td>\n",
       "      <td>[]</td>\n",
       "      <td>8.3</td>\n",
       "      <td>13.0</td>\n",
       "      <td>NaN</td>\n",
       "      <td>(8, 9]</td>\n",
       "    </tr>\n",
       "    <tr>\n",
       "      <th>4</th>\n",
       "      <td>[tt5117670]</td>\n",
       "      <td>Peter Rabbit</td>\n",
       "      <td>[Animation, Adventure, Comedy]</td>\n",
       "      <td>2018</td>\n",
       "      <td>2</td>\n",
       "      <td>2018-02-09</td>\n",
       "      <td>50.0</td>\n",
       "      <td>115.234093</td>\n",
       "      <td>347.136477</td>\n",
       "      <td>297.136477</td>\n",
       "      <td>[Sia]</td>\n",
       "      <td>[James Corden]</td>\n",
       "      <td>[Will Gluck]</td>\n",
       "      <td>[Zareh Nalbandian]</td>\n",
       "      <td>6.6</td>\n",
       "      <td>27908.0</td>\n",
       "      <td>Sony</td>\n",
       "      <td>(6, 7]</td>\n",
       "    </tr>\n",
       "  </tbody>\n",
       "</table>\n",
       "</div>"
      ],
      "text/plain": [
       "        tconst        movie_title                          genres  \\\n",
       "0  [tt1640484]  Jumping the Broom                 [Drama, Comedy]   \n",
       "1  [tt2334649]  Fruitvale Station     [Drama, Biography, Romance]   \n",
       "2  [tt2465146]     And So It Goes        [Drama, Comedy, Romance]   \n",
       "3  [tt8653640]   An Ideal Husband                        [Comedy]   \n",
       "4  [tt5117670]       Peter Rabbit  [Animation, Adventure, Comedy]   \n",
       "\n",
       "   release_year  release_month release_date  production_budget  \\\n",
       "0          2011              5   2011-05-06                7.0   \n",
       "1          2013              7   2013-07-12                0.9   \n",
       "2          2014              7   2014-07-25               18.0   \n",
       "3          1999              6   1999-06-18               10.7   \n",
       "4          2018              2   2018-02-09               50.0   \n",
       "\n",
       "   domestic_gross  worldwide_gross      profit       actresses  \\\n",
       "0       37.295394        38.158601   31.158601  [Paula Patton]   \n",
       "1       16.098998        17.549645   16.649645  [Melonie Diaz]   \n",
       "2       15.160801        17.920013   -0.079987  [Diane Keaton]   \n",
       "3       18.542974        31.341183   20.641183   [Faith Omole]   \n",
       "4      115.234093       347.136477  297.136477           [Sia]   \n",
       "\n",
       "                actors          directors             producers  ratings  \\\n",
       "0         [Laz Alonso]       [Salim Akil]     [Michael Mahoney]      5.7   \n",
       "1  [Michael B. Jordan]     [Ryan Coogler]  [Nina Yang Bongiovi]      7.5   \n",
       "2    [Michael Douglas]       [Rob Reiner]          [Mark Damon]      5.8   \n",
       "3         [Edward Fox]  [Jonathan Church]                    []      8.3   \n",
       "4       [James Corden]       [Will Gluck]    [Zareh Nalbandian]      6.6   \n",
       "\n",
       "   nuvotes studio binned_rating  \n",
       "0   9089.0   TriS        (5, 6]  \n",
       "1  68187.0  Wein.        (7, 8]  \n",
       "2  11597.0     CE        (5, 6]  \n",
       "3     13.0    NaN        (8, 9]  \n",
       "4  27908.0   Sony        (6, 7]  "
      ]
     },
     "execution_count": 60,
     "metadata": {},
     "output_type": "execute_result"
    }
   ],
   "source": [
    "merged.head(5)"
   ]
  },
  {
   "cell_type": "code",
   "execution_count": 70,
   "metadata": {},
   "outputs": [
    {
     "data": {
      "text/plain": [
       "<seaborn.axisgrid.FacetGrid at 0x7fbf12cecfd0>"
      ]
     },
     "execution_count": 70,
     "metadata": {},
     "output_type": "execute_result"
    },
    {
     "data": {
      "image/png": "[encoded data removed]",
      "text/plain": [
       "<Figure size 360x360 with 1 Axes>"
      ]
     },
     "metadata": {
      "needs_background": "light"
     },
     "output_type": "display_data"
    }
   ],
   "source": [
    "#Production budget and \n",
    "sns.lmplot(x='production_budget',y='profit',data = top_100,fit_reg=True) \n"
   ]
  },
  {
   "cell_type": "code",
   "execution_count": 71,
   "metadata": {},
   "outputs": [
    {
     "data": {
      "text/plain": [
       "<seaborn.axisgrid.FacetGrid at 0x7fbf12ccd090>"
      ]
     },
     "execution_count": 71,
     "metadata": {},
     "output_type": "execute_result"
    },
    {
     "data": {
      "image/png": "[encoded data removed]",
      "text/plain": [
       "<Figure size 360x360 with 1 Axes>"
      ]
     },
     "metadata": {
      "needs_background": "light"
     },
     "output_type": "display_data"
    }
   ],
   "source": [
    "sns.lmplot(x='production_budget',y='profit',data = merged,fit_reg=True) "
   ]
  },
  {
   "cell_type": "code",
   "execution_count": null,
   "metadata": {},
   "outputs": [],
   "source": []
  }
 ],
 "metadata": {
  "kernelspec": {
   "display_name": "Python 3",
   "language": "python",
   "name": "python3"
  },
  "language_info": {
   "codemirror_mode": {
    "name": "ipython",
    "version": 3
   },
   "file_extension": ".py",
   "mimetype": "text/x-python",
   "name": "python",
   "nbconvert_exporter": "python",
   "pygments_lexer": "ipython3",
   "version": "3.7.6"
  }
 },
 "nbformat": 4,
 "nbformat_minor": 4
}
