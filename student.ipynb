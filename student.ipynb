{
 "cells": [
  {
   "cell_type": "markdown",
   "metadata": {},
   "source": [
    "## Eryk's Notebook for Module 1 Project\n",
    "\n",
    "Please fill out:\n",
    "* Student name:  **Eryk Wdowiak**\n",
    "* Student pace:  full-time\n",
    "* Scheduled project review date/time:  12th of Never at 13 o'clock\n",
    "* Instructor name:  Fangfang Lee\n",
    "* Blog post URL:  https://www.wdowiak.me/gotta-blog?answer=Yes\n"
   ]
  },
  {
   "cell_type": "code",
   "execution_count": 1,
   "metadata": {},
   "outputs": [],
   "source": [
    "import pandas as pd\n",
    "import matplotlib.pyplot as plt"
   ]
  },
  {
   "cell_type": "code",
   "execution_count": 2,
   "metadata": {},
   "outputs": [
    {
     "name": "stdout",
     "output_type": "stream",
     "text": [
      "bom.movie_gross.csv.gz\t  imdb.title.crew.csv.gz\trt.reviews.tsv.gz\r\n",
      "imdb.name.basics.csv.gz   imdb.title.principals.csv.gz\ttmdb.movies.csv.gz\r\n",
      "imdb.title.akas.csv.gz\t  imdb.title.ratings.csv.gz\ttn.movie_budgets.csv.gz\r\n",
      "imdb.title.basics.csv.gz  rt.movie_info.tsv.gz\r\n"
     ]
    }
   ],
   "source": [
    "##  data files\n",
    "!ls zippedData/"
   ]
  },
  {
   "cell_type": "markdown",
   "metadata": {},
   "source": [
    "###  load movie titles and identifiers"
   ]
  },
  {
   "cell_type": "code",
   "execution_count": 3,
   "metadata": {
    "scrolled": true
   },
   "outputs": [
    {
     "data": {
      "text/html": [
       "<div>\n",
       "<style scoped>\n",
       "    .dataframe tbody tr th:only-of-type {\n",
       "        vertical-align: middle;\n",
       "    }\n",
       "\n",
       "    .dataframe tbody tr th {\n",
       "        vertical-align: top;\n",
       "    }\n",
       "\n",
       "    .dataframe thead th {\n",
       "        text-align: right;\n",
       "    }\n",
       "</style>\n",
       "<table border=\"1\" class=\"dataframe\">\n",
       "  <thead>\n",
       "    <tr style=\"text-align: right;\">\n",
       "      <th></th>\n",
       "      <th>tconst</th>\n",
       "      <th>primary_title</th>\n",
       "      <th>original_title</th>\n",
       "      <th>start_year</th>\n",
       "      <th>runtime_minutes</th>\n",
       "      <th>genres</th>\n",
       "    </tr>\n",
       "  </thead>\n",
       "  <tbody>\n",
       "    <tr>\n",
       "      <th>0</th>\n",
       "      <td>tt0063540</td>\n",
       "      <td>Sunghursh</td>\n",
       "      <td>Sunghursh</td>\n",
       "      <td>2013</td>\n",
       "      <td>175.0</td>\n",
       "      <td>Action,Crime,Drama</td>\n",
       "    </tr>\n",
       "    <tr>\n",
       "      <th>1</th>\n",
       "      <td>tt0066787</td>\n",
       "      <td>One Day Before the Rainy Season</td>\n",
       "      <td>Ashad Ka Ek Din</td>\n",
       "      <td>2019</td>\n",
       "      <td>114.0</td>\n",
       "      <td>Biography,Drama</td>\n",
       "    </tr>\n",
       "    <tr>\n",
       "      <th>2</th>\n",
       "      <td>tt0069049</td>\n",
       "      <td>The Other Side of the Wind</td>\n",
       "      <td>The Other Side of the Wind</td>\n",
       "      <td>2018</td>\n",
       "      <td>122.0</td>\n",
       "      <td>Drama</td>\n",
       "    </tr>\n",
       "    <tr>\n",
       "      <th>3</th>\n",
       "      <td>tt0069204</td>\n",
       "      <td>Sabse Bada Sukh</td>\n",
       "      <td>Sabse Bada Sukh</td>\n",
       "      <td>2018</td>\n",
       "      <td>NaN</td>\n",
       "      <td>Comedy,Drama</td>\n",
       "    </tr>\n",
       "    <tr>\n",
       "      <th>4</th>\n",
       "      <td>tt0100275</td>\n",
       "      <td>The Wandering Soap Opera</td>\n",
       "      <td>La Telenovela Errante</td>\n",
       "      <td>2017</td>\n",
       "      <td>80.0</td>\n",
       "      <td>Comedy,Drama,Fantasy</td>\n",
       "    </tr>\n",
       "  </tbody>\n",
       "</table>\n",
       "</div>"
      ],
      "text/plain": [
       "      tconst                    primary_title              original_title  \\\n",
       "0  tt0063540                        Sunghursh                   Sunghursh   \n",
       "1  tt0066787  One Day Before the Rainy Season             Ashad Ka Ek Din   \n",
       "2  tt0069049       The Other Side of the Wind  The Other Side of the Wind   \n",
       "3  tt0069204                  Sabse Bada Sukh             Sabse Bada Sukh   \n",
       "4  tt0100275         The Wandering Soap Opera       La Telenovela Errante   \n",
       "\n",
       "   start_year  runtime_minutes                genres  \n",
       "0        2013            175.0    Action,Crime,Drama  \n",
       "1        2019            114.0       Biography,Drama  \n",
       "2        2018            122.0                 Drama  \n",
       "3        2018              NaN          Comedy,Drama  \n",
       "4        2017             80.0  Comedy,Drama,Fantasy  "
      ]
     },
     "execution_count": 3,
     "metadata": {},
     "output_type": "execute_result"
    }
   ],
   "source": [
    "##  first load the movie titles and identifiers\n",
    "imdb_title_basics = pd.read_csv('zippedData/imdb.title.basics.csv.gz',compression='gzip')\n",
    "#print(imdb_title_basics.shape)\n",
    "imdb_title_basics.head()"
   ]
  },
  {
   "cell_type": "code",
   "execution_count": 4,
   "metadata": {},
   "outputs": [],
   "source": [
    "#imdb_title_basics.loc[(imdb_title_basics['tconst']=='tt9916170')|(imdb_title_basics['tconst']=='tt9915436')|(imdb_title_basics['tconst']=='tt5820812')]\n",
    "#imdb_title_basics.loc[(imdb_title_basics['primary_title']=='Titanic')]"
   ]
  },
  {
   "cell_type": "code",
   "execution_count": 5,
   "metadata": {},
   "outputs": [],
   "source": [
    "##  create two dictionaries -- one of titles and one of IDs\n",
    "title_dict = {}\n",
    "ttlid_dict = {}\n",
    "\n",
    "##  loop through to create the keys\n",
    "for i in range(imdb_title_basics.shape[0]):\n",
    "    ##  get the values\n",
    "    tconst = imdb_title_basics['tconst'].loc[i]\n",
    "    primary_title = imdb_title_basics['primary_title'].loc[i]\n",
    "    \n",
    "    ##  set up the dictionaries\n",
    "    title_dict[primary_title] = { 'primary_title' : primary_title }    \n",
    "    ttlid_dict[tconst] = primary_title \n",
    "    \n",
    "##  now build the title dictionary\n",
    "for i in range(imdb_title_basics.shape[0]):\n",
    "    ##  get the values\n",
    "    tconst        = imdb_title_basics['tconst'].loc[i]\n",
    "    primary_title = imdb_title_basics['primary_title'].loc[i]\n",
    "    start_year    = imdb_title_basics['start_year'].loc[i]\n",
    "    genres        = imdb_title_basics['genres'].loc[i]\n",
    "\n",
    "    ##  append tconst to title_dict\n",
    "    try:\n",
    "        title_dict[primary_title]['tconst'].append(tconst)\n",
    "    except:\n",
    "        title_dict[primary_title]['tconst'] = [tconst]\n",
    "\n",
    "    ##  append start_year to title_dict\n",
    "    try:\n",
    "        title_dict[primary_title]['start_year'].append(start_year)\n",
    "    except:\n",
    "        title_dict[primary_title]['start_year'] = [start_year]\n",
    "\n",
    "    ##  append genres to title_dict\n",
    "    try:\n",
    "        title_dict[primary_title]['genres'].append(genres)\n",
    "    except:\n",
    "        title_dict[primary_title]['genres'] = [genres]"
   ]
  },
  {
   "cell_type": "code",
   "execution_count": 6,
   "metadata": {},
   "outputs": [
    {
     "data": {
      "text/plain": [
       "{'primary_title': 'Titanic',\n",
       " 'tconst': ['tt2495766', 'tt8852130'],\n",
       " 'start_year': [2012, 2018],\n",
       " 'genres': ['Adventure', 'Family']}"
      ]
     },
     "metadata": {},
     "output_type": "display_data"
    },
    {
     "data": {
      "text/plain": [
       "'Titanic'"
      ]
     },
     "metadata": {},
     "output_type": "display_data"
    },
    {
     "data": {
      "text/plain": [
       "'Titanic'"
      ]
     },
     "metadata": {},
     "output_type": "display_data"
    }
   ],
   "source": [
    "display(title_dict['Titanic'])\n",
    "display(ttlid_dict['tt2495766'])\n",
    "display(ttlid_dict['tt8852130'])"
   ]
  },
  {
   "cell_type": "code",
   "execution_count": 7,
   "metadata": {},
   "outputs": [
    {
     "data": {
      "text/plain": [
       "{'primary_title': 'The Rehearsal',\n",
       " 'tconst': ['tt5820812', 'tt9916170'],\n",
       " 'start_year': [2016, 2019],\n",
       " 'genres': ['Drama', 'Drama']}"
      ]
     },
     "metadata": {},
     "output_type": "display_data"
    },
    {
     "data": {
      "text/plain": [
       "'The Rehearsal'"
      ]
     },
     "metadata": {},
     "output_type": "display_data"
    },
    {
     "data": {
      "text/plain": [
       "'The Rehearsal'"
      ]
     },
     "metadata": {},
     "output_type": "display_data"
    }
   ],
   "source": [
    "display(title_dict['The Rehearsal'])\n",
    "display(ttlid_dict['tt5820812'])\n",
    "display(ttlid_dict['tt9916170'])"
   ]
  },
  {
   "cell_type": "markdown",
   "metadata": {},
   "source": [
    "###  load movie cost and revenue data"
   ]
  },
  {
   "cell_type": "code",
   "execution_count": 8,
   "metadata": {},
   "outputs": [],
   "source": [
    "##  next load the movie cost and revenue data\n",
    "tn_movie_budgets = pd.read_csv('zippedData/tn.movie_budgets.csv.gz',compression='gzip')\n",
    "#print(tn_movie_budgets.shape)\n",
    "#tn_movie_budgets.head()\n",
    "#list(tn_movie_budgets.columns)"
   ]
  },
  {
   "cell_type": "code",
   "execution_count": 9,
   "metadata": {},
   "outputs": [],
   "source": [
    "##  define some conversion functions\n",
    "\n",
    "##  string of dollars to float\n",
    "def dollars_to_float(inlist):\n",
    "    return list(map(lambda x: float(x.replace(\"$\",\"\").replace(\",\",\"\")), inlist))\n",
    "\n",
    "##  date string to integer year\n",
    "def date_to_yrint(datestr):\n",
    "    return list(map(lambda x: int(x.split()[-1]), datestr))"
   ]
  },
  {
   "cell_type": "code",
   "execution_count": 10,
   "metadata": {},
   "outputs": [],
   "source": [
    "##  convert strings to float\n",
    "tn_movie_budgets['production_budget'] = dollars_to_float(tn_movie_budgets['production_budget'])\n",
    "tn_movie_budgets['domestic_gross'] = dollars_to_float(tn_movie_budgets['domestic_gross'])\n",
    "tn_movie_budgets['worldwide_gross'] = dollars_to_float(tn_movie_budgets['worldwide_gross'])\n",
    "\n",
    "##  divide by one million\n",
    "tn_movie_budgets['production_budget'] = tn_movie_budgets['production_budget'] / 1000000\n",
    "tn_movie_budgets['domestic_gross'] = tn_movie_budgets['domestic_gross'] / 1000000\n",
    "tn_movie_budgets['worldwide_gross'] = tn_movie_budgets['worldwide_gross'] / 1000000\n",
    "\n",
    "##  calculate profit\n",
    "tn_movie_budgets['profit'] = tn_movie_budgets['worldwide_gross'] - tn_movie_budgets['production_budget']\n",
    "\n",
    "##  convert release year to integer\n",
    "tn_movie_budgets['release_year'] = date_to_yrint(tn_movie_budgets['release_date'])"
   ]
  },
  {
   "cell_type": "code",
   "execution_count": 11,
   "metadata": {},
   "outputs": [
    {
     "data": {
      "text/html": [
       "<div>\n",
       "<style scoped>\n",
       "    .dataframe tbody tr th:only-of-type {\n",
       "        vertical-align: middle;\n",
       "    }\n",
       "\n",
       "    .dataframe tbody tr th {\n",
       "        vertical-align: top;\n",
       "    }\n",
       "\n",
       "    .dataframe thead th {\n",
       "        text-align: right;\n",
       "    }\n",
       "</style>\n",
       "<table border=\"1\" class=\"dataframe\">\n",
       "  <thead>\n",
       "    <tr style=\"text-align: right;\">\n",
       "      <th></th>\n",
       "      <th>id</th>\n",
       "      <th>release_date</th>\n",
       "      <th>movie</th>\n",
       "      <th>production_budget</th>\n",
       "      <th>domestic_gross</th>\n",
       "      <th>worldwide_gross</th>\n",
       "      <th>profit</th>\n",
       "      <th>release_year</th>\n",
       "    </tr>\n",
       "  </thead>\n",
       "  <tbody>\n",
       "    <tr>\n",
       "      <th>0</th>\n",
       "      <td>1</td>\n",
       "      <td>Dec 18, 2009</td>\n",
       "      <td>Avatar</td>\n",
       "      <td>425.0</td>\n",
       "      <td>760.507625</td>\n",
       "      <td>2776.345279</td>\n",
       "      <td>2351.345279</td>\n",
       "      <td>2009</td>\n",
       "    </tr>\n",
       "    <tr>\n",
       "      <th>1</th>\n",
       "      <td>2</td>\n",
       "      <td>May 20, 2011</td>\n",
       "      <td>Pirates of the Caribbean: On Stranger Tides</td>\n",
       "      <td>410.6</td>\n",
       "      <td>241.063875</td>\n",
       "      <td>1045.663875</td>\n",
       "      <td>635.063875</td>\n",
       "      <td>2011</td>\n",
       "    </tr>\n",
       "    <tr>\n",
       "      <th>2</th>\n",
       "      <td>3</td>\n",
       "      <td>Jun 7, 2019</td>\n",
       "      <td>Dark Phoenix</td>\n",
       "      <td>350.0</td>\n",
       "      <td>42.762350</td>\n",
       "      <td>149.762350</td>\n",
       "      <td>-200.237650</td>\n",
       "      <td>2019</td>\n",
       "    </tr>\n",
       "    <tr>\n",
       "      <th>3</th>\n",
       "      <td>4</td>\n",
       "      <td>May 1, 2015</td>\n",
       "      <td>Avengers: Age of Ultron</td>\n",
       "      <td>330.6</td>\n",
       "      <td>459.005868</td>\n",
       "      <td>1403.013963</td>\n",
       "      <td>1072.413963</td>\n",
       "      <td>2015</td>\n",
       "    </tr>\n",
       "    <tr>\n",
       "      <th>4</th>\n",
       "      <td>5</td>\n",
       "      <td>Dec 15, 2017</td>\n",
       "      <td>Star Wars Ep. VIII: The Last Jedi</td>\n",
       "      <td>317.0</td>\n",
       "      <td>620.181382</td>\n",
       "      <td>1316.721747</td>\n",
       "      <td>999.721747</td>\n",
       "      <td>2017</td>\n",
       "    </tr>\n",
       "  </tbody>\n",
       "</table>\n",
       "</div>"
      ],
      "text/plain": [
       "   id  release_date                                        movie  \\\n",
       "0   1  Dec 18, 2009                                       Avatar   \n",
       "1   2  May 20, 2011  Pirates of the Caribbean: On Stranger Tides   \n",
       "2   3   Jun 7, 2019                                 Dark Phoenix   \n",
       "3   4   May 1, 2015                      Avengers: Age of Ultron   \n",
       "4   5  Dec 15, 2017            Star Wars Ep. VIII: The Last Jedi   \n",
       "\n",
       "   production_budget  domestic_gross  worldwide_gross       profit  \\\n",
       "0              425.0      760.507625      2776.345279  2351.345279   \n",
       "1              410.6      241.063875      1045.663875   635.063875   \n",
       "2              350.0       42.762350       149.762350  -200.237650   \n",
       "3              330.6      459.005868      1403.013963  1072.413963   \n",
       "4              317.0      620.181382      1316.721747   999.721747   \n",
       "\n",
       "   release_year  \n",
       "0          2009  \n",
       "1          2011  \n",
       "2          2019  \n",
       "3          2015  \n",
       "4          2017  "
      ]
     },
     "execution_count": 11,
     "metadata": {},
     "output_type": "execute_result"
    }
   ],
   "source": [
    "##  print some information\n",
    "#tn_movie_budgets.columns\n",
    "#tn_movie_budgets.info()\n",
    "tn_movie_budgets.head()"
   ]
  },
  {
   "cell_type": "code",
   "execution_count": 12,
   "metadata": {},
   "outputs": [
    {
     "data": {
      "text/html": [
       "<div>\n",
       "<style scoped>\n",
       "    .dataframe tbody tr th:only-of-type {\n",
       "        vertical-align: middle;\n",
       "    }\n",
       "\n",
       "    .dataframe tbody tr th {\n",
       "        vertical-align: top;\n",
       "    }\n",
       "\n",
       "    .dataframe thead th {\n",
       "        text-align: right;\n",
       "    }\n",
       "</style>\n",
       "<table border=\"1\" class=\"dataframe\">\n",
       "  <thead>\n",
       "    <tr style=\"text-align: right;\">\n",
       "      <th></th>\n",
       "      <th>id</th>\n",
       "      <th>release_date</th>\n",
       "      <th>movie</th>\n",
       "      <th>production_budget</th>\n",
       "      <th>domestic_gross</th>\n",
       "      <th>worldwide_gross</th>\n",
       "      <th>profit</th>\n",
       "      <th>release_year</th>\n",
       "    </tr>\n",
       "  </thead>\n",
       "  <tbody>\n",
       "    <tr>\n",
       "      <th>39</th>\n",
       "      <td>40</td>\n",
       "      <td>Dec 14, 2005</td>\n",
       "      <td>King Kong</td>\n",
       "      <td>207.000</td>\n",
       "      <td>218.080025</td>\n",
       "      <td>550.517357</td>\n",
       "      <td>343.517357</td>\n",
       "      <td>2005</td>\n",
       "    </tr>\n",
       "    <tr>\n",
       "      <th>2374</th>\n",
       "      <td>75</td>\n",
       "      <td>Dec 17, 1976</td>\n",
       "      <td>King Kong</td>\n",
       "      <td>23.000</td>\n",
       "      <td>52.614445</td>\n",
       "      <td>90.614445</td>\n",
       "      <td>67.614445</td>\n",
       "      <td>1976</td>\n",
       "    </tr>\n",
       "    <tr>\n",
       "      <th>5396</th>\n",
       "      <td>97</td>\n",
       "      <td>Apr 7, 1933</td>\n",
       "      <td>King Kong</td>\n",
       "      <td>0.672</td>\n",
       "      <td>10.000000</td>\n",
       "      <td>10.000650</td>\n",
       "      <td>9.328650</td>\n",
       "      <td>1933</td>\n",
       "    </tr>\n",
       "  </tbody>\n",
       "</table>\n",
       "</div>"
      ],
      "text/plain": [
       "      id  release_date      movie  production_budget  domestic_gross  \\\n",
       "39    40  Dec 14, 2005  King Kong            207.000      218.080025   \n",
       "2374  75  Dec 17, 1976  King Kong             23.000       52.614445   \n",
       "5396  97   Apr 7, 1933  King Kong              0.672       10.000000   \n",
       "\n",
       "      worldwide_gross      profit  release_year  \n",
       "39         550.517357  343.517357          2005  \n",
       "2374        90.614445   67.614445          1976  \n",
       "5396        10.000650    9.328650          1933  "
      ]
     },
     "execution_count": 12,
     "metadata": {},
     "output_type": "execute_result"
    }
   ],
   "source": [
    "tn_movie_budgets.loc[(tn_movie_budgets['movie']=='King Kong')]"
   ]
  },
  {
   "cell_type": "code",
   "execution_count": 13,
   "metadata": {},
   "outputs": [
    {
     "data": {
      "text/html": [
       "<div>\n",
       "<style scoped>\n",
       "    .dataframe tbody tr th:only-of-type {\n",
       "        vertical-align: middle;\n",
       "    }\n",
       "\n",
       "    .dataframe tbody tr th {\n",
       "        vertical-align: top;\n",
       "    }\n",
       "\n",
       "    .dataframe thead th {\n",
       "        text-align: right;\n",
       "    }\n",
       "</style>\n",
       "<table border=\"1\" class=\"dataframe\">\n",
       "  <thead>\n",
       "    <tr style=\"text-align: right;\">\n",
       "      <th></th>\n",
       "      <th>id</th>\n",
       "      <th>release_date</th>\n",
       "      <th>movie</th>\n",
       "      <th>production_budget</th>\n",
       "      <th>domestic_gross</th>\n",
       "      <th>worldwide_gross</th>\n",
       "      <th>profit</th>\n",
       "      <th>release_year</th>\n",
       "    </tr>\n",
       "  </thead>\n",
       "  <tbody>\n",
       "    <tr>\n",
       "      <th>42</th>\n",
       "      <td>43</td>\n",
       "      <td>Dec 19, 1997</td>\n",
       "      <td>Titanic</td>\n",
       "      <td>200.0</td>\n",
       "      <td>659.363944</td>\n",
       "      <td>2208.208395</td>\n",
       "      <td>2008.208395</td>\n",
       "      <td>1997</td>\n",
       "    </tr>\n",
       "  </tbody>\n",
       "</table>\n",
       "</div>"
      ],
      "text/plain": [
       "    id  release_date    movie  production_budget  domestic_gross  \\\n",
       "42  43  Dec 19, 1997  Titanic              200.0      659.363944   \n",
       "\n",
       "    worldwide_gross       profit  release_year  \n",
       "42      2208.208395  2008.208395          1997  "
      ]
     },
     "execution_count": 13,
     "metadata": {},
     "output_type": "execute_result"
    }
   ],
   "source": [
    "tn_movie_budgets.loc[tn_movie_budgets.movie == 'Titanic']"
   ]
  },
  {
   "cell_type": "code",
   "execution_count": 14,
   "metadata": {},
   "outputs": [],
   "source": [
    "##  create some histograms\n",
    "#tn_movie_budgets.release_year.hist();\n",
    "#tn_movie_budgets.profit.hist();"
   ]
  },
  {
   "cell_type": "code",
   "execution_count": 15,
   "metadata": {},
   "outputs": [],
   "source": [
    "##  now create profit dictionary\n",
    "profit_dict = {}\n",
    "\n",
    "for i in range(tn_movie_budgets.shape[0]):\n",
    "    ##  get the values\n",
    "    movie_title  = tn_movie_budgets['movie'].loc[i]\n",
    "    release_year = tn_movie_budgets['release_year'].loc[i]\n",
    "    profit_dict[movie_title] = {\n",
    "        'movie_title'  : movie_title,\n",
    "        'release_year' : release_year,\n",
    "    }\n",
    "    \n",
    "for i in range(tn_movie_budgets.shape[0]):\n",
    "    ##  get the values again\n",
    "    movie_title  = tn_movie_budgets['movie'].loc[i]\n",
    "    release_year = tn_movie_budgets['release_year'].loc[i]\n",
    "\n",
    "    ##  let's assume that most recent movie is the movie in the IMDB\n",
    "    if (release_year >= profit_dict[movie_title]['release_year']):\n",
    "        ##  add them to the dictionary\n",
    "        profit_dict[movie_title] = {\n",
    "            'movie_title' : movie_title,\n",
    "            'release_year' : release_year, \n",
    "            'production_budget' : tn_movie_budgets['production_budget'].loc[i],\n",
    "            'domestic_gross' : tn_movie_budgets['domestic_gross'].loc[i],\n",
    "            'worldwide_gross' : tn_movie_budgets['worldwide_gross'].loc[i],\n",
    "            'profit' : tn_movie_budgets['profit'].loc[i],\n",
    "    }"
   ]
  },
  {
   "cell_type": "code",
   "execution_count": 16,
   "metadata": {},
   "outputs": [
    {
     "data": {
      "text/plain": [
       "{'movie_title': 'Titanic',\n",
       " 'release_year': 1997,\n",
       " 'production_budget': 200.0,\n",
       " 'domestic_gross': 659.363944,\n",
       " 'worldwide_gross': 2208.208395,\n",
       " 'profit': 2008.208395}"
      ]
     },
     "execution_count": 16,
     "metadata": {},
     "output_type": "execute_result"
    }
   ],
   "source": [
    "profit_dict['Titanic']"
   ]
  },
  {
   "cell_type": "markdown",
   "metadata": {},
   "source": [
    "###  get the principals"
   ]
  },
  {
   "cell_type": "code",
   "execution_count": 17,
   "metadata": {},
   "outputs": [
    {
     "name": "stdout",
     "output_type": "stream",
     "text": [
      "(1028186, 6)\n",
      "number of unique titles: 143454\n",
      "unique categories:\n",
      "['actor', 'director', 'producer', 'editor', 'actress', 'composer', 'cinematographer', 'writer', 'self', 'production_designer', 'archive_footage', 'archive_sound']\n"
     ]
    },
    {
     "data": {
      "text/html": [
       "<div>\n",
       "<style scoped>\n",
       "    .dataframe tbody tr th:only-of-type {\n",
       "        vertical-align: middle;\n",
       "    }\n",
       "\n",
       "    .dataframe tbody tr th {\n",
       "        vertical-align: top;\n",
       "    }\n",
       "\n",
       "    .dataframe thead th {\n",
       "        text-align: right;\n",
       "    }\n",
       "</style>\n",
       "<table border=\"1\" class=\"dataframe\">\n",
       "  <thead>\n",
       "    <tr style=\"text-align: right;\">\n",
       "      <th></th>\n",
       "      <th>tconst</th>\n",
       "      <th>ordering</th>\n",
       "      <th>nconst</th>\n",
       "      <th>category</th>\n",
       "      <th>job</th>\n",
       "      <th>characters</th>\n",
       "    </tr>\n",
       "  </thead>\n",
       "  <tbody>\n",
       "    <tr>\n",
       "      <th>0</th>\n",
       "      <td>tt0111414</td>\n",
       "      <td>1</td>\n",
       "      <td>nm0246005</td>\n",
       "      <td>actor</td>\n",
       "      <td>NaN</td>\n",
       "      <td>[\"The Man\"]</td>\n",
       "    </tr>\n",
       "    <tr>\n",
       "      <th>1</th>\n",
       "      <td>tt0111414</td>\n",
       "      <td>2</td>\n",
       "      <td>nm0398271</td>\n",
       "      <td>director</td>\n",
       "      <td>NaN</td>\n",
       "      <td>NaN</td>\n",
       "    </tr>\n",
       "    <tr>\n",
       "      <th>2</th>\n",
       "      <td>tt0111414</td>\n",
       "      <td>3</td>\n",
       "      <td>nm3739909</td>\n",
       "      <td>producer</td>\n",
       "      <td>producer</td>\n",
       "      <td>NaN</td>\n",
       "    </tr>\n",
       "    <tr>\n",
       "      <th>3</th>\n",
       "      <td>tt0323808</td>\n",
       "      <td>10</td>\n",
       "      <td>nm0059247</td>\n",
       "      <td>editor</td>\n",
       "      <td>NaN</td>\n",
       "      <td>NaN</td>\n",
       "    </tr>\n",
       "    <tr>\n",
       "      <th>4</th>\n",
       "      <td>tt0323808</td>\n",
       "      <td>1</td>\n",
       "      <td>nm3579312</td>\n",
       "      <td>actress</td>\n",
       "      <td>NaN</td>\n",
       "      <td>[\"Beth Boothby\"]</td>\n",
       "    </tr>\n",
       "    <tr>\n",
       "      <th>5</th>\n",
       "      <td>tt0323808</td>\n",
       "      <td>2</td>\n",
       "      <td>nm2694680</td>\n",
       "      <td>actor</td>\n",
       "      <td>NaN</td>\n",
       "      <td>[\"Steve Thomson\"]</td>\n",
       "    </tr>\n",
       "    <tr>\n",
       "      <th>6</th>\n",
       "      <td>tt0323808</td>\n",
       "      <td>3</td>\n",
       "      <td>nm0574615</td>\n",
       "      <td>actor</td>\n",
       "      <td>NaN</td>\n",
       "      <td>[\"Sir Lachlan Morrison\"]</td>\n",
       "    </tr>\n",
       "    <tr>\n",
       "      <th>7</th>\n",
       "      <td>tt0323808</td>\n",
       "      <td>4</td>\n",
       "      <td>nm0502652</td>\n",
       "      <td>actress</td>\n",
       "      <td>NaN</td>\n",
       "      <td>[\"Lady Delia Morrison\"]</td>\n",
       "    </tr>\n",
       "    <tr>\n",
       "      <th>8</th>\n",
       "      <td>tt0323808</td>\n",
       "      <td>5</td>\n",
       "      <td>nm0362736</td>\n",
       "      <td>director</td>\n",
       "      <td>NaN</td>\n",
       "      <td>NaN</td>\n",
       "    </tr>\n",
       "    <tr>\n",
       "      <th>9</th>\n",
       "      <td>tt0323808</td>\n",
       "      <td>6</td>\n",
       "      <td>nm0811056</td>\n",
       "      <td>producer</td>\n",
       "      <td>producer</td>\n",
       "      <td>NaN</td>\n",
       "    </tr>\n",
       "  </tbody>\n",
       "</table>\n",
       "</div>"
      ],
      "text/plain": [
       "      tconst  ordering     nconst  category       job  \\\n",
       "0  tt0111414         1  nm0246005     actor       NaN   \n",
       "1  tt0111414         2  nm0398271  director       NaN   \n",
       "2  tt0111414         3  nm3739909  producer  producer   \n",
       "3  tt0323808        10  nm0059247    editor       NaN   \n",
       "4  tt0323808         1  nm3579312   actress       NaN   \n",
       "5  tt0323808         2  nm2694680     actor       NaN   \n",
       "6  tt0323808         3  nm0574615     actor       NaN   \n",
       "7  tt0323808         4  nm0502652   actress       NaN   \n",
       "8  tt0323808         5  nm0362736  director       NaN   \n",
       "9  tt0323808         6  nm0811056  producer  producer   \n",
       "\n",
       "                 characters  \n",
       "0               [\"The Man\"]  \n",
       "1                       NaN  \n",
       "2                       NaN  \n",
       "3                       NaN  \n",
       "4          [\"Beth Boothby\"]  \n",
       "5         [\"Steve Thomson\"]  \n",
       "6  [\"Sir Lachlan Morrison\"]  \n",
       "7   [\"Lady Delia Morrison\"]  \n",
       "8                       NaN  \n",
       "9                       NaN  "
      ]
     },
     "execution_count": 17,
     "metadata": {},
     "output_type": "execute_result"
    }
   ],
   "source": [
    "imdb_title_principals = pd.read_csv('zippedData/imdb.title.principals.csv.gz',compression='gzip')\n",
    "print(imdb_title_principals.shape)\n",
    "print('number of unique titles: ' + str(len(list(imdb_title_principals.tconst.unique()))))\n",
    "print('unique categories:')\n",
    "print(list(imdb_title_principals.category.unique()))\n",
    "imdb_title_principals.head(10)\n",
    "#list(imdb_title_principals.columns)"
   ]
  },
  {
   "cell_type": "code",
   "execution_count": 18,
   "metadata": {},
   "outputs": [],
   "source": [
    "##  let's create a dictionary of principals\n",
    "principals_dict = {}\n",
    "\n",
    "##  loop through to create keys and build the dictionary\n",
    "for i in range(imdb_title_principals.shape[0]):\n",
    "    ##  get the values\n",
    "    tconst = imdb_title_principals['tconst'].loc[i]\n",
    "    nconst = imdb_title_principals['nconst'].loc[i]\n",
    "    category = imdb_title_principals['category'].loc[i]\n",
    "\n",
    "    ##  create the keys\n",
    "    try:\n",
    "        principals_dict[tconst]['tconst'] = tconst\n",
    "    except:\n",
    "        principals_dict[tconst] = {'tconst' : tconst}\n",
    "    \n",
    "    ##  append nconst to the appropriate role\n",
    "    if (category in ['producer','director','actor','actress']):\n",
    "        try:\n",
    "            principals_dict[tconst][category].append(nconst)\n",
    "        except:\n",
    "            principals_dict[tconst][category] = [nconst]"
   ]
  },
  {
   "cell_type": "code",
   "execution_count": 19,
   "metadata": {},
   "outputs": [
    {
     "data": {
      "text/plain": [
       "{'tconst': 'tt0323808',\n",
       " 'actress': ['nm3579312', 'nm0502652'],\n",
       " 'actor': ['nm2694680', 'nm0574615'],\n",
       " 'director': ['nm0362736'],\n",
       " 'producer': ['nm0811056', 'nm0914939']}"
      ]
     },
     "execution_count": 19,
     "metadata": {},
     "output_type": "execute_result"
    }
   ],
   "source": [
    "principals_dict['tt0323808']"
   ]
  },
  {
   "cell_type": "markdown",
   "metadata": {},
   "source": [
    "###  get the ratings"
   ]
  },
  {
   "cell_type": "code",
   "execution_count": 20,
   "metadata": {},
   "outputs": [
    {
     "name": "stdout",
     "output_type": "stream",
     "text": [
      "(73856, 3)\n",
      "number of unique titles: 73856\n"
     ]
    },
    {
     "data": {
      "text/html": [
       "<div>\n",
       "<style scoped>\n",
       "    .dataframe tbody tr th:only-of-type {\n",
       "        vertical-align: middle;\n",
       "    }\n",
       "\n",
       "    .dataframe tbody tr th {\n",
       "        vertical-align: top;\n",
       "    }\n",
       "\n",
       "    .dataframe thead th {\n",
       "        text-align: right;\n",
       "    }\n",
       "</style>\n",
       "<table border=\"1\" class=\"dataframe\">\n",
       "  <thead>\n",
       "    <tr style=\"text-align: right;\">\n",
       "      <th></th>\n",
       "      <th>tconst</th>\n",
       "      <th>averagerating</th>\n",
       "      <th>numvotes</th>\n",
       "    </tr>\n",
       "  </thead>\n",
       "  <tbody>\n",
       "    <tr>\n",
       "      <th>0</th>\n",
       "      <td>tt10356526</td>\n",
       "      <td>8.3</td>\n",
       "      <td>31</td>\n",
       "    </tr>\n",
       "    <tr>\n",
       "      <th>1</th>\n",
       "      <td>tt10384606</td>\n",
       "      <td>8.9</td>\n",
       "      <td>559</td>\n",
       "    </tr>\n",
       "    <tr>\n",
       "      <th>2</th>\n",
       "      <td>tt1042974</td>\n",
       "      <td>6.4</td>\n",
       "      <td>20</td>\n",
       "    </tr>\n",
       "    <tr>\n",
       "      <th>3</th>\n",
       "      <td>tt1043726</td>\n",
       "      <td>4.2</td>\n",
       "      <td>50352</td>\n",
       "    </tr>\n",
       "    <tr>\n",
       "      <th>4</th>\n",
       "      <td>tt1060240</td>\n",
       "      <td>6.5</td>\n",
       "      <td>21</td>\n",
       "    </tr>\n",
       "  </tbody>\n",
       "</table>\n",
       "</div>"
      ],
      "text/plain": [
       "       tconst  averagerating  numvotes\n",
       "0  tt10356526            8.3        31\n",
       "1  tt10384606            8.9       559\n",
       "2   tt1042974            6.4        20\n",
       "3   tt1043726            4.2     50352\n",
       "4   tt1060240            6.5        21"
      ]
     },
     "execution_count": 20,
     "metadata": {},
     "output_type": "execute_result"
    }
   ],
   "source": [
    "##  now let's include the ratings\n",
    "imdb_title_ratings = pd.read_csv('zippedData/imdb.title.ratings.csv.gz',compression='gzip')\n",
    "print(imdb_title_ratings.shape)\n",
    "print('number of unique titles: ' + str(len(list(imdb_title_ratings.tconst.unique()))))\n",
    "imdb_title_ratings.head()\n",
    "#list(imdb_title_ratings.columns)"
   ]
  },
  {
   "cell_type": "code",
   "execution_count": 21,
   "metadata": {},
   "outputs": [],
   "source": [
    "##  let's create a dictionary of ratings\n",
    "ratings_dict = {}\n",
    "\n",
    "##  loop through to build the dictionary\n",
    "for i in range(imdb_title_ratings.shape[0]):\n",
    "    ##  get the values\n",
    "    tconst = imdb_title_ratings['tconst'].loc[i]\n",
    "    rating = imdb_title_ratings['averagerating'].loc[i]\n",
    "    nuvote = imdb_title_ratings['numvotes'].loc[i]\n",
    "\n",
    "    ##  create the keys\n",
    "    ratings_dict[tconst] = {\n",
    "        'tconst' : tconst,\n",
    "        'rating' : rating,\n",
    "        'nuvote' : nuvote\n",
    "    }"
   ]
  },
  {
   "cell_type": "code",
   "execution_count": 22,
   "metadata": {},
   "outputs": [
    {
     "data": {
      "text/plain": [
       "{'tconst': 'tt1043726', 'rating': 4.2, 'nuvote': 50352}"
      ]
     },
     "execution_count": 22,
     "metadata": {},
     "output_type": "execute_result"
    }
   ],
   "source": [
    "ratings_dict['tt1043726']"
   ]
  },
  {
   "cell_type": "markdown",
   "metadata": {},
   "source": [
    "###  now merge all those dictionaries"
   ]
  },
  {
   "cell_type": "code",
   "execution_count": 23,
   "metadata": {},
   "outputs": [],
   "source": [
    "##  now find titles in \"profit_dict\" that match titles in \"title_dict\"\n",
    "profit_keys = profit_dict.keys()\n",
    "title_keys  = title_dict.keys()\n",
    "\n",
    "##  those titles are at the intersection\n",
    "profit_titles = list(set(profit_keys) & set(title_keys))"
   ]
  },
  {
   "cell_type": "code",
   "execution_count": 24,
   "metadata": {},
   "outputs": [],
   "source": [
    "##  columns for merged dataframe\n",
    "tconst = []\n",
    "movie_title = []\n",
    "genres = []\n",
    "release_year = []\n",
    "production_budget = []\n",
    "domestic_gross = []\n",
    "worldwide_gross = []\n",
    "profit = []\n",
    "\n",
    "##  and the principals \n",
    "actresses = []\n",
    "actors = []\n",
    "directors = []\n",
    "producers = []\n",
    "\n",
    "##  and the ratings\n",
    "ratings = []\n",
    "nuvotes = []\n",
    "\n",
    "for movie in profit_titles:\n",
    "    tconst.append(title_dict[movie]['tconst'])\n",
    "    movie_title.append(profit_dict[movie]['movie_title'])\n",
    "    genres.append(title_dict[movie]['genres'])\n",
    "    release_year.append(profit_dict[movie]['release_year'])\n",
    "    production_budget.append(profit_dict[movie]['production_budget'])\n",
    "    domestic_gross.append(profit_dict[movie]['domestic_gross'])\n",
    "    worldwide_gross.append(profit_dict[movie]['worldwide_gross'])\n",
    "    profit.append(profit_dict[movie]['profit'])\n",
    "    \n",
    "    ##  movie principals \n",
    "    mv_actresses = []\n",
    "    mv_actors = []\n",
    "    mv_directors = []\n",
    "    mv_producers = []\n",
    "    \n",
    "    ##  movie ratings\n",
    "    mv_ratings = []\n",
    "    mv_nuvotes = []\n",
    "\n",
    "    for ttlid in title_dict[movie]['tconst']:\n",
    "        try:\n",
    "            mv_actresses.append(principals_dict[ttlid]['actress'])\n",
    "        except:\n",
    "            blah = 'blah'\n",
    "    \n",
    "        try:\n",
    "            mv_actors.append(principals_dict[ttlid]['actor'])\n",
    "        except:\n",
    "            blah = 'blah'\n",
    "        \n",
    "        try:\n",
    "            mv_directors.append(principals_dict[ttlid]['director'])\n",
    "        except:\n",
    "            blah = 'blah'\n",
    "            \n",
    "        try:\n",
    "            mv_producers.append(principals_dict[ttlid]['producer'])\n",
    "        except:\n",
    "            blah = 'blah'\n",
    "            \n",
    "        try:\n",
    "            mv_ratings.append(ratings_dict[ttlid]['rating'])\n",
    "        except:\n",
    "            blah = 'blah'\n",
    "            \n",
    "        try:\n",
    "            mv_nuvotes.append(ratings_dict[ttlid]['nuvote'])\n",
    "        except:\n",
    "            blah = 'blah'\n",
    "          \n",
    "    actresses.append(mv_actresses)\n",
    "    actors.append(mv_actors)\n",
    "    directors.append(mv_directors)\n",
    "    producers.append(mv_producers)\n",
    "    ratings.append(mv_ratings)\n",
    "    nuvotes.append(mv_nuvotes)\n",
    "\n",
    "##  now create a merged dataframe\n",
    "movie_df = pd.DataFrame({'tconst' : tconst,\n",
    "                         'movie_title' : movie_title, \n",
    "                         'genres' : genres,\n",
    "                         'release_year' : release_year,\n",
    "                         'production_budget' : production_budget, \n",
    "                         'domestic_gross' : domestic_gross,\n",
    "                         'worldwide_gross' : worldwide_gross,\n",
    "                         'profit' : profit,\n",
    "                         'actresses' : actresses, \n",
    "                         'actors' : actors, \n",
    "                         'directors' : directors, \n",
    "                         'producers' : producers, \n",
    "                         'ratings' : ratings, \n",
    "                         'nuvotes' : nuvotes\n",
    "                        })\n",
    "\n",
    "del tconst, movie_title, genres, release_year\n",
    "del production_budget, domestic_gross, worldwide_gross, profit\n",
    "del actresses, actors, directors, producers, ratings, nuvotes"
   ]
  },
  {
   "cell_type": "code",
   "execution_count": 25,
   "metadata": {},
   "outputs": [
    {
     "data": {
      "text/plain": [
       "(2312, 14)"
      ]
     },
     "execution_count": 25,
     "metadata": {},
     "output_type": "execute_result"
    }
   ],
   "source": [
    "#movie_df.info()\n",
    "movie_df.shape"
   ]
  },
  {
   "cell_type": "code",
   "execution_count": 26,
   "metadata": {},
   "outputs": [
    {
     "data": {
      "text/html": [
       "<div>\n",
       "<style scoped>\n",
       "    .dataframe tbody tr th:only-of-type {\n",
       "        vertical-align: middle;\n",
       "    }\n",
       "\n",
       "    .dataframe tbody tr th {\n",
       "        vertical-align: top;\n",
       "    }\n",
       "\n",
       "    .dataframe thead th {\n",
       "        text-align: right;\n",
       "    }\n",
       "</style>\n",
       "<table border=\"1\" class=\"dataframe\">\n",
       "  <thead>\n",
       "    <tr style=\"text-align: right;\">\n",
       "      <th></th>\n",
       "      <th>tconst</th>\n",
       "      <th>movie_title</th>\n",
       "      <th>genres</th>\n",
       "      <th>release_year</th>\n",
       "      <th>production_budget</th>\n",
       "      <th>domestic_gross</th>\n",
       "      <th>worldwide_gross</th>\n",
       "      <th>profit</th>\n",
       "      <th>actresses</th>\n",
       "      <th>actors</th>\n",
       "      <th>directors</th>\n",
       "      <th>producers</th>\n",
       "      <th>ratings</th>\n",
       "      <th>nuvotes</th>\n",
       "    </tr>\n",
       "  </thead>\n",
       "  <tbody>\n",
       "    <tr>\n",
       "      <th>0</th>\n",
       "      <td>[tt1462054]</td>\n",
       "      <td>Letters to God</td>\n",
       "      <td>[Drama,Family]</td>\n",
       "      <td>2010</td>\n",
       "      <td>3.0</td>\n",
       "      <td>2.848587</td>\n",
       "      <td>3.237452</td>\n",
       "      <td>0.237452</td>\n",
       "      <td>[[nm0001477, nm2095535]]</td>\n",
       "      <td>[[nm1921310, nm1378502]]</td>\n",
       "      <td>[[nm1117098, nm3459865]]</td>\n",
       "      <td>[[nm0206175]]</td>\n",
       "      <td>[6.3]</td>\n",
       "      <td>[4443]</td>\n",
       "    </tr>\n",
       "    <tr>\n",
       "      <th>1</th>\n",
       "      <td>[tt6946440, tt7379226]</td>\n",
       "      <td>Awake</td>\n",
       "      <td>[Drama, Drama]</td>\n",
       "      <td>2007</td>\n",
       "      <td>8.6</td>\n",
       "      <td>14.373825</td>\n",
       "      <td>32.968648</td>\n",
       "      <td>24.368648</td>\n",
       "      <td>[[nm4387847]]</td>\n",
       "      <td>[[nm8224552, nm9025249, nm9025250]]</td>\n",
       "      <td>[[nm9019045], [nm9275617]]</td>\n",
       "      <td>[]</td>\n",
       "      <td>[]</td>\n",
       "      <td>[]</td>\n",
       "    </tr>\n",
       "    <tr>\n",
       "      <th>2</th>\n",
       "      <td>[tt2562232]</td>\n",
       "      <td>Birdman or (The Unexpected Virtue of Ignorance)</td>\n",
       "      <td>[Comedy,Drama]</td>\n",
       "      <td>2014</td>\n",
       "      <td>18.0</td>\n",
       "      <td>42.340598</td>\n",
       "      <td>103.215094</td>\n",
       "      <td>85.215094</td>\n",
       "      <td>[[nm2057859]]</td>\n",
       "      <td>[[nm0000474, nm0302108, nm0001570]]</td>\n",
       "      <td>[[nm0327944]]</td>\n",
       "      <td>[[nm0971956]]</td>\n",
       "      <td>[7.7]</td>\n",
       "      <td>[519417]</td>\n",
       "    </tr>\n",
       "    <tr>\n",
       "      <th>3</th>\n",
       "      <td>[tt1486185]</td>\n",
       "      <td>Red Riding Hood</td>\n",
       "      <td>[Fantasy,Horror,Mystery]</td>\n",
       "      <td>2011</td>\n",
       "      <td>42.0</td>\n",
       "      <td>37.662162</td>\n",
       "      <td>91.678442</td>\n",
       "      <td>49.678442</td>\n",
       "      <td>[[nm1086543]]</td>\n",
       "      <td>[[nm0001305, nm0000198, nm0121605]]</td>\n",
       "      <td>[[nm0362566]]</td>\n",
       "      <td>[[nm2248832, nm0000138, nm0798930]]</td>\n",
       "      <td>[5.5]</td>\n",
       "      <td>[102369]</td>\n",
       "    </tr>\n",
       "    <tr>\n",
       "      <th>4</th>\n",
       "      <td>[tt0889573]</td>\n",
       "      <td>The Switch</td>\n",
       "      <td>[Comedy,Drama,Romance]</td>\n",
       "      <td>2010</td>\n",
       "      <td>19.0</td>\n",
       "      <td>27.758465</td>\n",
       "      <td>49.858465</td>\n",
       "      <td>30.858465</td>\n",
       "      <td>[[nm0000098]]</td>\n",
       "      <td>[[nm0000867, nm0933940, nm0000156]]</td>\n",
       "      <td>[[nm0330347, nm0817447]]</td>\n",
       "      <td>[[nm0947695, nm0074100]]</td>\n",
       "      <td>[6.1]</td>\n",
       "      <td>[90661]</td>\n",
       "    </tr>\n",
       "  </tbody>\n",
       "</table>\n",
       "</div>"
      ],
      "text/plain": [
       "                   tconst                                      movie_title  \\\n",
       "0             [tt1462054]                                   Letters to God   \n",
       "1  [tt6946440, tt7379226]                                            Awake   \n",
       "2             [tt2562232]  Birdman or (The Unexpected Virtue of Ignorance)   \n",
       "3             [tt1486185]                                  Red Riding Hood   \n",
       "4             [tt0889573]                                       The Switch   \n",
       "\n",
       "                     genres  release_year  production_budget  domestic_gross  \\\n",
       "0            [Drama,Family]          2010                3.0        2.848587   \n",
       "1            [Drama, Drama]          2007                8.6       14.373825   \n",
       "2            [Comedy,Drama]          2014               18.0       42.340598   \n",
       "3  [Fantasy,Horror,Mystery]          2011               42.0       37.662162   \n",
       "4    [Comedy,Drama,Romance]          2010               19.0       27.758465   \n",
       "\n",
       "   worldwide_gross     profit                 actresses  \\\n",
       "0         3.237452   0.237452  [[nm0001477, nm2095535]]   \n",
       "1        32.968648  24.368648             [[nm4387847]]   \n",
       "2       103.215094  85.215094             [[nm2057859]]   \n",
       "3        91.678442  49.678442             [[nm1086543]]   \n",
       "4        49.858465  30.858465             [[nm0000098]]   \n",
       "\n",
       "                                actors                   directors  \\\n",
       "0             [[nm1921310, nm1378502]]    [[nm1117098, nm3459865]]   \n",
       "1  [[nm8224552, nm9025249, nm9025250]]  [[nm9019045], [nm9275617]]   \n",
       "2  [[nm0000474, nm0302108, nm0001570]]               [[nm0327944]]   \n",
       "3  [[nm0001305, nm0000198, nm0121605]]               [[nm0362566]]   \n",
       "4  [[nm0000867, nm0933940, nm0000156]]    [[nm0330347, nm0817447]]   \n",
       "\n",
       "                             producers ratings   nuvotes  \n",
       "0                        [[nm0206175]]   [6.3]    [4443]  \n",
       "1                                   []      []        []  \n",
       "2                        [[nm0971956]]   [7.7]  [519417]  \n",
       "3  [[nm2248832, nm0000138, nm0798930]]   [5.5]  [102369]  \n",
       "4             [[nm0947695, nm0074100]]   [6.1]   [90661]  "
      ]
     },
     "execution_count": 26,
     "metadata": {},
     "output_type": "execute_result"
    }
   ],
   "source": [
    "movie_df.head()"
   ]
  },
  {
   "cell_type": "code",
   "execution_count": 27,
   "metadata": {},
   "outputs": [
    {
     "data": {
      "text/html": [
       "<div>\n",
       "<style scoped>\n",
       "    .dataframe tbody tr th:only-of-type {\n",
       "        vertical-align: middle;\n",
       "    }\n",
       "\n",
       "    .dataframe tbody tr th {\n",
       "        vertical-align: top;\n",
       "    }\n",
       "\n",
       "    .dataframe thead th {\n",
       "        text-align: right;\n",
       "    }\n",
       "</style>\n",
       "<table border=\"1\" class=\"dataframe\">\n",
       "  <thead>\n",
       "    <tr style=\"text-align: right;\">\n",
       "      <th></th>\n",
       "      <th>tconst</th>\n",
       "      <th>movie_title</th>\n",
       "      <th>genres</th>\n",
       "      <th>release_year</th>\n",
       "      <th>production_budget</th>\n",
       "      <th>domestic_gross</th>\n",
       "      <th>worldwide_gross</th>\n",
       "      <th>profit</th>\n",
       "      <th>actresses</th>\n",
       "      <th>actors</th>\n",
       "      <th>directors</th>\n",
       "      <th>producers</th>\n",
       "      <th>ratings</th>\n",
       "      <th>nuvotes</th>\n",
       "    </tr>\n",
       "  </thead>\n",
       "  <tbody>\n",
       "    <tr>\n",
       "      <th>50</th>\n",
       "      <td>[tt2495766, tt8852130]</td>\n",
       "      <td>Titanic</td>\n",
       "      <td>[Adventure, Family]</td>\n",
       "      <td>1997</td>\n",
       "      <td>200.0</td>\n",
       "      <td>659.363944</td>\n",
       "      <td>2208.208395</td>\n",
       "      <td>2008.208395</td>\n",
       "      <td>[[nm5408276, nm5436619, nm1265854, nm4285609],...</td>\n",
       "      <td>[[nm5409363, nm4430776, nm5410036, nm4566494, ...</td>\n",
       "      <td>[[nm10047650]]</td>\n",
       "      <td>[[nm3167493]]</td>\n",
       "      <td>[6.2]</td>\n",
       "      <td>[20]</td>\n",
       "    </tr>\n",
       "  </tbody>\n",
       "</table>\n",
       "</div>"
      ],
      "text/plain": [
       "                    tconst movie_title               genres  release_year  \\\n",
       "50  [tt2495766, tt8852130]     Titanic  [Adventure, Family]          1997   \n",
       "\n",
       "    production_budget  domestic_gross  worldwide_gross       profit  \\\n",
       "50              200.0      659.363944      2208.208395  2008.208395   \n",
       "\n",
       "                                            actresses  \\\n",
       "50  [[nm5408276, nm5436619, nm1265854, nm4285609],...   \n",
       "\n",
       "                                               actors       directors  \\\n",
       "50  [[nm5409363, nm4430776, nm5410036, nm4566494, ...  [[nm10047650]]   \n",
       "\n",
       "        producers ratings nuvotes  \n",
       "50  [[nm3167493]]   [6.2]    [20]  "
      ]
     },
     "execution_count": 27,
     "metadata": {},
     "output_type": "execute_result"
    }
   ],
   "source": [
    "movie_df.loc[(movie_df['movie_title'] == 'Titanic')]"
   ]
  },
  {
   "cell_type": "code",
   "execution_count": 28,
   "metadata": {},
   "outputs": [
    {
     "data": {
      "text/plain": [
       "(2312, 14)"
      ]
     },
     "execution_count": 28,
     "metadata": {},
     "output_type": "execute_result"
    }
   ],
   "source": [
    "movie_df.shape"
   ]
  },
  {
   "cell_type": "markdown",
   "metadata": {},
   "source": [
    "###  get their names"
   ]
  },
  {
   "cell_type": "code",
   "execution_count": 29,
   "metadata": {},
   "outputs": [
    {
     "name": "stdout",
     "output_type": "stream",
     "text": [
      "(606648, 6)\n",
      "number of unique nconst: 606648\n"
     ]
    },
    {
     "data": {
      "text/html": [
       "<div>\n",
       "<style scoped>\n",
       "    .dataframe tbody tr th:only-of-type {\n",
       "        vertical-align: middle;\n",
       "    }\n",
       "\n",
       "    .dataframe tbody tr th {\n",
       "        vertical-align: top;\n",
       "    }\n",
       "\n",
       "    .dataframe thead th {\n",
       "        text-align: right;\n",
       "    }\n",
       "</style>\n",
       "<table border=\"1\" class=\"dataframe\">\n",
       "  <thead>\n",
       "    <tr style=\"text-align: right;\">\n",
       "      <th></th>\n",
       "      <th>nconst</th>\n",
       "      <th>primary_name</th>\n",
       "      <th>birth_year</th>\n",
       "      <th>death_year</th>\n",
       "      <th>primary_profession</th>\n",
       "      <th>known_for_titles</th>\n",
       "    </tr>\n",
       "  </thead>\n",
       "  <tbody>\n",
       "    <tr>\n",
       "      <th>0</th>\n",
       "      <td>nm0061671</td>\n",
       "      <td>Mary Ellen Bauder</td>\n",
       "      <td>NaN</td>\n",
       "      <td>NaN</td>\n",
       "      <td>miscellaneous,production_manager,producer</td>\n",
       "      <td>tt0837562,tt2398241,tt0844471,tt0118553</td>\n",
       "    </tr>\n",
       "    <tr>\n",
       "      <th>1</th>\n",
       "      <td>nm0061865</td>\n",
       "      <td>Joseph Bauer</td>\n",
       "      <td>NaN</td>\n",
       "      <td>NaN</td>\n",
       "      <td>composer,music_department,sound_department</td>\n",
       "      <td>tt0896534,tt6791238,tt0287072,tt1682940</td>\n",
       "    </tr>\n",
       "    <tr>\n",
       "      <th>2</th>\n",
       "      <td>nm0062070</td>\n",
       "      <td>Bruce Baum</td>\n",
       "      <td>NaN</td>\n",
       "      <td>NaN</td>\n",
       "      <td>miscellaneous,actor,writer</td>\n",
       "      <td>tt1470654,tt0363631,tt0104030,tt0102898</td>\n",
       "    </tr>\n",
       "    <tr>\n",
       "      <th>3</th>\n",
       "      <td>nm0062195</td>\n",
       "      <td>Axel Baumann</td>\n",
       "      <td>NaN</td>\n",
       "      <td>NaN</td>\n",
       "      <td>camera_department,cinematographer,art_department</td>\n",
       "      <td>tt0114371,tt2004304,tt1618448,tt1224387</td>\n",
       "    </tr>\n",
       "    <tr>\n",
       "      <th>4</th>\n",
       "      <td>nm0062798</td>\n",
       "      <td>Pete Baxter</td>\n",
       "      <td>NaN</td>\n",
       "      <td>NaN</td>\n",
       "      <td>production_designer,art_department,set_decorator</td>\n",
       "      <td>tt0452644,tt0452692,tt3458030,tt2178256</td>\n",
       "    </tr>\n",
       "  </tbody>\n",
       "</table>\n",
       "</div>"
      ],
      "text/plain": [
       "      nconst       primary_name  birth_year  death_year  \\\n",
       "0  nm0061671  Mary Ellen Bauder         NaN         NaN   \n",
       "1  nm0061865       Joseph Bauer         NaN         NaN   \n",
       "2  nm0062070         Bruce Baum         NaN         NaN   \n",
       "3  nm0062195       Axel Baumann         NaN         NaN   \n",
       "4  nm0062798        Pete Baxter         NaN         NaN   \n",
       "\n",
       "                                 primary_profession  \\\n",
       "0         miscellaneous,production_manager,producer   \n",
       "1        composer,music_department,sound_department   \n",
       "2                        miscellaneous,actor,writer   \n",
       "3  camera_department,cinematographer,art_department   \n",
       "4  production_designer,art_department,set_decorator   \n",
       "\n",
       "                          known_for_titles  \n",
       "0  tt0837562,tt2398241,tt0844471,tt0118553  \n",
       "1  tt0896534,tt6791238,tt0287072,tt1682940  \n",
       "2  tt1470654,tt0363631,tt0104030,tt0102898  \n",
       "3  tt0114371,tt2004304,tt1618448,tt1224387  \n",
       "4  tt0452644,tt0452692,tt3458030,tt2178256  "
      ]
     },
     "execution_count": 29,
     "metadata": {},
     "output_type": "execute_result"
    }
   ],
   "source": [
    "##  and let's get their real names!\n",
    "imdb_name_basics = pd.read_csv('zippedData/imdb.name.basics.csv.gz',compression='gzip')\n",
    "print(imdb_name_basics.shape)\n",
    "print('number of unique nconst: ' + str(len(list(imdb_name_basics.nconst.unique()))))\n",
    "imdb_name_basics.head()\n",
    "#list(imdb_name_basics.columns)"
   ]
  },
  {
   "cell_type": "code",
   "execution_count": 30,
   "metadata": {},
   "outputs": [],
   "source": [
    "##  let's create a dictionary of ratings\n",
    "names_dict = {}\n",
    "\n",
    "##  loop through to build the dictionary\n",
    "for i in range(imdb_title_ratings.shape[0]):\n",
    "    ##  get the values\n",
    "    nconst = imdb_name_basics['nconst'].loc[i]\n",
    "    prname = imdb_name_basics['primary_name'].loc[i]\n",
    "\n",
    "    ##  create the keys\n",
    "    names_dict[nconst] = {\n",
    "        'nconst' : nconst,\n",
    "        'primary_name' : prname\n",
    "    }"
   ]
  },
  {
   "cell_type": "code",
   "execution_count": 31,
   "metadata": {},
   "outputs": [
    {
     "data": {
      "text/plain": [
       "'Mary Ellen Bauder'"
      ]
     },
     "execution_count": 31,
     "metadata": {},
     "output_type": "execute_result"
    }
   ],
   "source": [
    "names_dict['nm0061671']['primary_name']"
   ]
  },
  {
   "cell_type": "markdown",
   "metadata": {},
   "source": [
    "#### xxx"
   ]
  },
  {
   "cell_type": "markdown",
   "metadata": {},
   "source": [
    "##  stuff we're not gonna use"
   ]
  },
  {
   "cell_type": "code",
   "execution_count": 32,
   "metadata": {},
   "outputs": [],
   "source": [
    "###  see if any principals or ratings are not in \n",
    "#movies_in_principals = []\n",
    "#movies_in_ratings = []\n",
    "#not_in_principals = []\n",
    "#not_in_ratings = []\n",
    "#for movie in profit_titles:\n",
    "#    movie_principals = []\n",
    "#    movie_ratings = []\n",
    "#    for tconst in title_dict[movie]['tconst']:\n",
    "#        try:\n",
    "#            principals_dict[tconst]['tconst']\n",
    "#            movie_principals.append(movie)\n",
    "#        except:\n",
    "#            not_in_principals.append(tconst)\n",
    "#    \n",
    "#        try:\n",
    "#            ratings_dict[tconst]\n",
    "#            movie_ratings.append(movie)\n",
    "#        except:\n",
    "#            not_in_ratings.append(tconst)\n",
    "#    \n",
    "#    movies_in_principals.append(list(set(movie_principals)))\n",
    "#    movies_in_ratings.append(list(set(movie_ratings)))\n",
    "#    \n",
    "#print('movies in principals:  ' + str(len(movies_in_principals)))\n",
    "#print('movies in ratings:     ' + str(len(movies_in_ratings)))\n",
    "#print('not in principals:  ' + str(len(not_in_principals)))\n",
    "#print('not in ratings:    ' + str(len(not_in_ratings)))\n",
    "#\n",
    "##  RESULT:\n",
    "##  movies in principals:  2312\n",
    "##  movies in ratings:     2312\n",
    "##  not in principals:  42\n",
    "##  not in ratings:    854"
   ]
  },
  {
   "cell_type": "code",
   "execution_count": 33,
   "metadata": {},
   "outputs": [],
   "source": [
    "###  create dictionary of title IDs\n",
    "#ttlid_dict = {}\n",
    "#\n",
    "###  loop through to create the keys\n",
    "#for i in range(imdb_title_basics.shape[0]):\n",
    "#    tconst        = imdb_title_basics['tconst'].loc[i]\n",
    "#    ttlid_dict[tconst] = { 'tconst' : tconst }\n",
    "#\n",
    "###  now build the dictionary\n",
    "#for i in range(imdb_title_basics.shape[0]):\n",
    "#    ##  get the values\n",
    "#    tconst        = imdb_title_basics['tconst'].loc[i]\n",
    "#    primary_title = imdb_title_basics['primary_title'].loc[i]\n",
    "#    start_year    = imdb_title_basics['start_year'].loc[i]\n",
    "#    genres        = imdb_title_basics['genres'].loc[i]\n",
    "#\n",
    "#    ##  append primary_title to ttlid_dict\n",
    "#    try:\n",
    "#        ttlid_dict[tconst]['primary_title'].append(primary_title)\n",
    "#    except:\n",
    "#        ttlid_dict[tconst]['primary_title'] = [primary_title]\n",
    "#\n",
    "#    ##  append start_year to ttlid_dict\n",
    "#    try:\n",
    "#        ttlid_dict[tconst]['start_year'].append(start_year)\n",
    "#    except:\n",
    "#        ttlid_dict[tconst]['start_year'] = [start_year]\n",
    "#    \n",
    "#    ##  append genres to ttlid_dict\n",
    "#    try:\n",
    "#        ttlid_dict[tconst]['genres'].append(genres)\n",
    "#    except:\n",
    "#        ttlid_dict[tconst]['genres'] = [genres]"
   ]
  },
  {
   "cell_type": "code",
   "execution_count": 34,
   "metadata": {},
   "outputs": [],
   "source": [
    "#display(ttlid_dict['tt2495766'])\n",
    "#display(ttlid_dict['tt8852130'])\n",
    "#print()\n",
    "#display(ttlid_dict['tt5820812'])\n",
    "#display(ttlid_dict['tt9916170'])"
   ]
  },
  {
   "cell_type": "code",
   "execution_count": 35,
   "metadata": {},
   "outputs": [],
   "source": [
    "#imdb_title_crew = pd.read_csv('zippedData/imdb.title.crew.csv.gz',compression='gzip')\n",
    "#print(imdb_title_crew.shape)\n",
    "#print('number of unique titles: ' + str(len(list(imdb_title_crew.tconst.unique()))))\n",
    "#imdb_title_crew.head()\n",
    "#list(imdb_title_crew.columns)"
   ]
  },
  {
   "cell_type": "code",
   "execution_count": 36,
   "metadata": {},
   "outputs": [],
   "source": [
    "##  create new dataframe for statistical analysis\n",
    "\n",
    "##  first set the indices to the movie's title\n",
    "#imdb_title_basics.set_index('primary_title',inplace=True)\n",
    "#tn_movie_budgets.set_index('movie',inplace=True)\n",
    "\n",
    "##  now create the new dataframe\n",
    "#bad_df = tn_movie_budgets.join(imdb_title_basics,how='inner')"
   ]
  },
  {
   "cell_type": "code",
   "execution_count": 37,
   "metadata": {},
   "outputs": [],
   "source": [
    "#imdb_title_basics.head()\n",
    "#tn_movie_budgets.head()\n",
    "#bad_df.sort_values(by='profit',ascending=False).head(10)"
   ]
  },
  {
   "cell_type": "code",
   "execution_count": 38,
   "metadata": {},
   "outputs": [],
   "source": [
    "#imdb_title_basics.shape\n",
    "#tn_movie_budgets.shape\n",
    "#bad_df.shape\n",
    "#bad_df.loc[(bad_df['original_title']=='Titanic')]"
   ]
  },
  {
   "cell_type": "code",
   "execution_count": 39,
   "metadata": {},
   "outputs": [],
   "source": [
    "#bom_movie_gross = pd.read_csv('zippedData/bom.movie_gross.csv.gz',compression='gzip')\n",
    "#bom_movie_gross.head()\n",
    "#list(bom_movie_gross.columns)"
   ]
  },
  {
   "cell_type": "code",
   "execution_count": 40,
   "metadata": {},
   "outputs": [],
   "source": [
    "#imdb_title_akas = pd.read_csv('zippedData/imdb.title.akas.csv.gz',compression='gzip')\n",
    "#print(imdb_title_akas.shape)\n",
    "#imdb_title_akas.head()\n",
    "#list(imdb_title_akas.columns)\n",
    "#imdb_title_akas.sort_values(by='title_id',ascending=False).head(10)\n",
    "#imdb_title_akas.loc[imdb_title_akas['title'] == \"The Rehearsal\"] \n",
    "#imdb_title_akas.loc[(imdb_title_akas['title_id']=='tt9916170')|(imdb_title_akas['title_id']=='tt9915436')|(imdb_title_akas['title_id']=='tt5820812')]"
   ]
  },
  {
   "cell_type": "code",
   "execution_count": 41,
   "metadata": {},
   "outputs": [],
   "source": [
    "#rt_movie_info = pd.read_csv('zippedData/rt.movie_info.tsv.gz',compression='gzip',sep='\\t')\n",
    "#rt_movie_info.head()\n",
    "#list(rt_movie_info.columns)"
   ]
  },
  {
   "cell_type": "code",
   "execution_count": 42,
   "metadata": {},
   "outputs": [],
   "source": [
    "#rt_reviews = pd.read_csv('zippedData/rt.reviews.tsv.gz',compression='gzip',sep='\\t',encoding='unicode_escape')\n",
    "#rt_reviews.head()\n",
    "#list(rt_reviews.columns)"
   ]
  },
  {
   "cell_type": "code",
   "execution_count": 43,
   "metadata": {},
   "outputs": [],
   "source": [
    "#tmdb_movies = pd.read_csv('zippedData/tmdb.movies.csv.gz',compression='gzip')\n",
    "#tmdb_movies.head()\n",
    "#list(tmdb_movies.columns)"
   ]
  },
  {
   "cell_type": "code",
   "execution_count": null,
   "metadata": {},
   "outputs": [],
   "source": []
  }
 ],
 "metadata": {
  "kernelspec": {
   "display_name": "Python 3",
   "language": "python",
   "name": "python3"
  },
  "language_info": {
   "codemirror_mode": {
    "name": "ipython",
    "version": 3
   },
   "file_extension": ".py",
   "mimetype": "text/x-python",
   "name": "python",
   "nbconvert_exporter": "python",
   "pygments_lexer": "ipython3",
   "version": "3.7.3"
  }
 },
 "nbformat": 4,
 "nbformat_minor": 2
}
