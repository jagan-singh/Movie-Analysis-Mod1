{
 "cells": [
  {
   "cell_type": "markdown",
   "metadata": {},
   "source": [
    "## Eryk's Notebook for Module 1 Project\n",
    "\n",
    "Please fill out:\n",
    "* Student name:  **Eryk Wdowiak**\n",
    "* Student pace:  full-time\n",
    "* Scheduled project review date/time:  12th of Never at 13 o'clock\n",
    "* Instructor name:  Fangfang Lee\n",
    "* Blog post URL:  https://www.wdowiak.me/gotta-blog?answer=Yes\n"
   ]
  },
  {
   "cell_type": "code",
   "execution_count": null,
   "metadata": {},
   "outputs": [],
   "source": [
    "import pandas as pd\n",
    "import matplotlib.pyplot as plt"
   ]
  },
  {
   "cell_type": "code",
   "execution_count": null,
   "metadata": {},
   "outputs": [],
   "source": [
    "##  data files\n",
    "!ls zippedData/"
   ]
  },
  {
   "cell_type": "markdown",
   "metadata": {},
   "source": [
    "###  load movie titles and identifiers"
   ]
  },
  {
   "cell_type": "code",
   "execution_count": null,
   "metadata": {
    "scrolled": true
   },
   "outputs": [],
   "source": [
    "##  first load the movie titles and identifiers\n",
    "imdb_title_basics = pd.read_csv('zippedData/imdb.title.basics.csv.gz',compression='gzip')\n",
    "#print(imdb_title_basics.shape)\n",
    "imdb_title_basics.head()"
   ]
  },
  {
   "cell_type": "code",
   "execution_count": null,
   "metadata": {},
   "outputs": [],
   "source": [
    "#imdb_title_basics.loc[(imdb_title_basics['tconst']=='tt9916170')|(imdb_title_basics['tconst']=='tt9915436')|(imdb_title_basics['tconst']=='tt5820812')]\n",
    "#imdb_title_basics.loc[(imdb_title_basics['primary_title']=='Titanic')]"
   ]
  },
  {
   "cell_type": "code",
   "execution_count": null,
   "metadata": {},
   "outputs": [],
   "source": [
    "##  create two dictionaries -- one of titles and one of IDs\n",
    "title_dict = {}\n",
    "ttlid_dict = {}\n",
    "\n",
    "##  loop through to create the keys\n",
    "for i in range(imdb_title_basics.shape[0]):\n",
    "    ##  get the values\n",
    "    tconst = imdb_title_basics['tconst'].loc[i]\n",
    "    primary_title = imdb_title_basics['primary_title'].loc[i]\n",
    "    \n",
    "    ##  set up the dictionaries\n",
    "    title_dict[primary_title] = { 'primary_title' : primary_title }    \n",
    "    ttlid_dict[tconst] = primary_title \n",
    "    \n",
    "##  now build the title dictionary\n",
    "for i in range(imdb_title_basics.shape[0]):\n",
    "    ##  get the values\n",
    "    tconst        = imdb_title_basics['tconst'].loc[i]\n",
    "    primary_title = imdb_title_basics['primary_title'].loc[i]\n",
    "    start_year    = imdb_title_basics['start_year'].loc[i]\n",
    "    genres        = imdb_title_basics['genres'].loc[i]\n",
    "\n",
    "    ##  append tconst to title_dict\n",
    "    try:\n",
    "        title_dict[primary_title]['tconst'].append(tconst)\n",
    "    except:\n",
    "        title_dict[primary_title]['tconst'] = [tconst]\n",
    "\n",
    "    ##  append start_year to title_dict\n",
    "    try:\n",
    "        title_dict[primary_title]['start_year'].append(start_year)\n",
    "    except:\n",
    "        title_dict[primary_title]['start_year'] = [start_year]\n",
    "\n",
    "    ##  append genres to title_dict\n",
    "    try:\n",
    "        title_dict[primary_title]['genres'].append(genres)\n",
    "    except:\n",
    "        title_dict[primary_title]['genres'] = [genres]"
   ]
  },
  {
   "cell_type": "code",
   "execution_count": null,
   "metadata": {},
   "outputs": [],
   "source": [
    "display(title_dict['Titanic'])\n",
    "display(ttlid_dict['tt2495766'])\n",
    "display(ttlid_dict['tt8852130'])"
   ]
  },
  {
   "cell_type": "code",
   "execution_count": null,
   "metadata": {},
   "outputs": [],
   "source": [
    "display(title_dict['The Rehearsal'])\n",
    "display(ttlid_dict['tt5820812'])\n",
    "display(ttlid_dict['tt9916170'])"
   ]
  },
  {
   "cell_type": "markdown",
   "metadata": {},
   "source": [
    "###  load movie cost and revenue data"
   ]
  },
  {
   "cell_type": "code",
   "execution_count": null,
   "metadata": {},
   "outputs": [],
   "source": [
    "##  next load the movie cost and revenue data\n",
    "tn_movie_budgets = pd.read_csv('zippedData/tn.movie_budgets.csv.gz',compression='gzip')\n",
    "#print(tn_movie_budgets.shape)\n",
    "#tn_movie_budgets.head()\n",
    "#list(tn_movie_budgets.columns)"
   ]
  },
  {
   "cell_type": "code",
   "execution_count": null,
   "metadata": {},
   "outputs": [],
   "source": [
    "##  define some conversion functions\n",
    "\n",
    "##  string of dollars to float\n",
    "def dollars_to_float(inlist):\n",
    "    return list(map(lambda x: float(x.replace(\"$\",\"\").replace(\",\",\"\")), inlist))\n",
    "\n",
    "##  date string to integer year\n",
    "def date_to_yrint(datestr):\n",
    "    return list(map(lambda x: int(x.split()[-1]), datestr))"
   ]
  },
  {
   "cell_type": "code",
   "execution_count": null,
   "metadata": {},
   "outputs": [],
   "source": [
    "##  convert strings to float\n",
    "tn_movie_budgets['production_budget'] = dollars_to_float(tn_movie_budgets['production_budget'])\n",
    "tn_movie_budgets['domestic_gross'] = dollars_to_float(tn_movie_budgets['domestic_gross'])\n",
    "tn_movie_budgets['worldwide_gross'] = dollars_to_float(tn_movie_budgets['worldwide_gross'])\n",
    "\n",
    "##  divide by one million\n",
    "tn_movie_budgets['production_budget'] = tn_movie_budgets['production_budget'] / 1000000\n",
    "tn_movie_budgets['domestic_gross'] = tn_movie_budgets['domestic_gross'] / 1000000\n",
    "tn_movie_budgets['worldwide_gross'] = tn_movie_budgets['worldwide_gross'] / 1000000\n",
    "\n",
    "##  calculate profit\n",
    "tn_movie_budgets['profit'] = tn_movie_budgets['worldwide_gross'] - tn_movie_budgets['production_budget']\n",
    "\n",
    "##  convert release year to integer\n",
    "tn_movie_budgets['release_year'] = date_to_yrint(tn_movie_budgets['release_date'])\n",
    "\n",
    "##  convert release date to date\n",
    "tn_movie_budgets['release_date'] = tn_movie_budgets['release_date'].astype('datetime64[ns]') \n",
    "tn_movie_budgets['release_month'] = tn_movie_budgets['release_date'].dt.month"
   ]
  },
  {
   "cell_type": "code",
   "execution_count": null,
   "metadata": {},
   "outputs": [],
   "source": [
    "##  print some information\n",
    "#tn_movie_budgets.columns\n",
    "#tn_movie_budgets.info()\n",
    "tn_movie_budgets.head()"
   ]
  },
  {
   "cell_type": "code",
   "execution_count": null,
   "metadata": {},
   "outputs": [],
   "source": [
    "tn_movie_budgets.loc[(tn_movie_budgets['movie']=='King Kong')]"
   ]
  },
  {
   "cell_type": "code",
   "execution_count": null,
   "metadata": {},
   "outputs": [],
   "source": [
    "tn_movie_budgets.loc[tn_movie_budgets.movie == 'Titanic']"
   ]
  },
  {
   "cell_type": "code",
   "execution_count": null,
   "metadata": {},
   "outputs": [],
   "source": [
    "##  create some histograms\n",
    "#tn_movie_budgets.release_year.hist();\n",
    "#tn_movie_budgets.profit.hist();"
   ]
  },
  {
   "cell_type": "code",
   "execution_count": null,
   "metadata": {},
   "outputs": [],
   "source": [
    "##  now create profit dictionary\n",
    "profit_dict = {}\n",
    "\n",
    "for i in range(tn_movie_budgets.shape[0]):\n",
    "    ##  get the values\n",
    "    movie_title   = tn_movie_budgets['movie'].loc[i]\n",
    "    release_year  = tn_movie_budgets['release_year'].loc[i]\n",
    "    release_month = tn_movie_budgets['release_month'].loc[i]\n",
    "    release_date  = tn_movie_budgets['release_date'].loc[i]\n",
    "    profit_dict[movie_title] = {\n",
    "        'movie_title'   : movie_title,\n",
    "        'release_year'  : release_year,\n",
    "        'release_month' : release_month,\n",
    "        'release_date'  : release_date\n",
    "    }\n",
    "    \n",
    "for i in range(tn_movie_budgets.shape[0]):\n",
    "    ##  get the values again\n",
    "    movie_title  = tn_movie_budgets['movie'].loc[i]\n",
    "    release_year = tn_movie_budgets['release_year'].loc[i]\n",
    "    release_month = tn_movie_budgets['release_month'].loc[i]\n",
    "    release_date = tn_movie_budgets['release_date'].loc[i]\n",
    "\n",
    "    ##  let's assume that most recent movie is the movie in the IMDB\n",
    "    if (release_year >= profit_dict[movie_title]['release_year']):\n",
    "        ##  add them to the dictionary\n",
    "        profit_dict[movie_title] = {\n",
    "            'movie_title'   : movie_title,\n",
    "            'release_year'  : release_year,\n",
    "            'release_month' : release_month,\n",
    "            'release_date'  : release_date,\n",
    "            'production_budget' : tn_movie_budgets['production_budget'].loc[i],\n",
    "            'domestic_gross' : tn_movie_budgets['domestic_gross'].loc[i],\n",
    "            'worldwide_gross' : tn_movie_budgets['worldwide_gross'].loc[i],\n",
    "            'profit' : tn_movie_budgets['profit'].loc[i],\n",
    "    }"
   ]
  },
  {
   "cell_type": "code",
   "execution_count": null,
   "metadata": {},
   "outputs": [],
   "source": [
    "profit_dict['Titanic']"
   ]
  },
  {
   "cell_type": "markdown",
   "metadata": {},
   "source": [
    "###  get the principals"
   ]
  },
  {
   "cell_type": "code",
   "execution_count": null,
   "metadata": {},
   "outputs": [],
   "source": [
    "imdb_title_principals = pd.read_csv('zippedData/imdb.title.principals.csv.gz',compression='gzip')\n",
    "print(imdb_title_principals.shape)\n",
    "print('number of unique titles: ' + str(len(list(imdb_title_principals.tconst.unique()))))\n",
    "print('unique categories:')\n",
    "print(list(imdb_title_principals.category.unique()))\n",
    "imdb_title_principals.head(10)\n",
    "#list(imdb_title_principals.columns)"
   ]
  },
  {
   "cell_type": "code",
   "execution_count": null,
   "metadata": {},
   "outputs": [],
   "source": [
    "##  let's create a dictionary of principals\n",
    "principals_dict = {}\n",
    "\n",
    "##  loop through to create keys and build the dictionary\n",
    "for i in range(imdb_title_principals.shape[0]):\n",
    "    ##  get the values\n",
    "    tconst = imdb_title_principals['tconst'].loc[i]\n",
    "    nconst = imdb_title_principals['nconst'].loc[i]\n",
    "    category = imdb_title_principals['category'].loc[i]\n",
    "\n",
    "    ##  create the keys\n",
    "    try:\n",
    "        principals_dict[tconst]['tconst'] = tconst\n",
    "    except:\n",
    "        principals_dict[tconst] = {'tconst' : tconst}\n",
    "    \n",
    "    ##  append nconst to the appropriate role\n",
    "    if (category in ['producer','director','actor','actress']):\n",
    "        try:\n",
    "            principals_dict[tconst][category].append(nconst)\n",
    "        except:\n",
    "            principals_dict[tconst][category] = [nconst]"
   ]
  },
  {
   "cell_type": "code",
   "execution_count": null,
   "metadata": {},
   "outputs": [],
   "source": [
    "principals_dict['tt0323808']"
   ]
  },
  {
   "cell_type": "markdown",
   "metadata": {},
   "source": [
    "###  get the ratings"
   ]
  },
  {
   "cell_type": "code",
   "execution_count": null,
   "metadata": {},
   "outputs": [],
   "source": [
    "##  now let's include the ratings\n",
    "imdb_title_ratings = pd.read_csv('zippedData/imdb.title.ratings.csv.gz',compression='gzip')\n",
    "print(imdb_title_ratings.shape)\n",
    "print('number of unique titles: ' + str(len(list(imdb_title_ratings.tconst.unique()))))\n",
    "imdb_title_ratings.head()\n",
    "#list(imdb_title_ratings.columns)"
   ]
  },
  {
   "cell_type": "code",
   "execution_count": null,
   "metadata": {},
   "outputs": [],
   "source": [
    "##  let's create a dictionary of ratings\n",
    "ratings_dict = {}\n",
    "\n",
    "##  loop through to build the dictionary\n",
    "for i in range(imdb_title_ratings.shape[0]):\n",
    "    ##  get the values\n",
    "    tconst = imdb_title_ratings['tconst'].loc[i]\n",
    "    rating = imdb_title_ratings['averagerating'].loc[i]\n",
    "    nuvote = imdb_title_ratings['numvotes'].loc[i]\n",
    "\n",
    "    ##  create the keys\n",
    "    ratings_dict[tconst] = {\n",
    "        'tconst' : tconst,\n",
    "        'rating' : rating,\n",
    "        'nuvote' : nuvote\n",
    "    }"
   ]
  },
  {
   "cell_type": "code",
   "execution_count": null,
   "metadata": {},
   "outputs": [],
   "source": [
    "ratings_dict['tt1043726']"
   ]
  },
  {
   "cell_type": "markdown",
   "metadata": {},
   "source": [
    "###  now merge all those dictionaries"
   ]
  },
  {
   "cell_type": "code",
   "execution_count": null,
   "metadata": {},
   "outputs": [],
   "source": [
    "##  now find titles in \"profit_dict\" that match titles in \"title_dict\"\n",
    "profit_keys = profit_dict.keys()\n",
    "title_keys  = title_dict.keys()\n",
    "\n",
    "##  those titles are at the intersection\n",
    "profit_titles = list(set(profit_keys) & set(title_keys))"
   ]
  },
  {
   "cell_type": "code",
   "execution_count": null,
   "metadata": {},
   "outputs": [],
   "source": [
    "##  columns for merged dataframe\n",
    "tconst = []\n",
    "movie_title = []\n",
    "genres = []\n",
    "release_year = []\n",
    "release_month = []\n",
    "release_date = []\n",
    "production_budget = []\n",
    "domestic_gross = []\n",
    "worldwide_gross = []\n",
    "profit = []\n",
    "\n",
    "##  and the principals \n",
    "actresses = []\n",
    "actors = []\n",
    "directors = []\n",
    "producers = []\n",
    "\n",
    "##  and the ratings\n",
    "ratings = []\n",
    "nuvotes = []\n",
    "\n",
    "for movie in profit_titles:\n",
    "    tconst.append(title_dict[movie]['tconst'])\n",
    "    movie_title.append(profit_dict[movie]['movie_title'])\n",
    "    genres.append(title_dict[movie]['genres'])\n",
    "    release_year.append(profit_dict[movie]['release_year'])\n",
    "    release_month.append(profit_dict[movie]['release_month'])\n",
    "    release_date.append(profit_dict[movie]['release_date'])\n",
    "    production_budget.append(profit_dict[movie]['production_budget'])\n",
    "    domestic_gross.append(profit_dict[movie]['domestic_gross'])\n",
    "    worldwide_gross.append(profit_dict[movie]['worldwide_gross'])\n",
    "    profit.append(profit_dict[movie]['profit'])\n",
    "    \n",
    "    ##  movie principals \n",
    "    mv_actresses = []\n",
    "    mv_actors = []\n",
    "    mv_directors = []\n",
    "    mv_producers = []\n",
    "    \n",
    "    ##  movie ratings\n",
    "    mv_ratings = []\n",
    "    mv_nuvotes = []\n",
    "\n",
    "    for ttlid in title_dict[movie]['tconst']:\n",
    "        try:\n",
    "            mv_actresses.append(principals_dict[ttlid]['actress'])\n",
    "        except:\n",
    "            blah = 'blah'\n",
    "    \n",
    "        try:\n",
    "            mv_actors.append(principals_dict[ttlid]['actor'])\n",
    "        except:\n",
    "            blah = 'blah'\n",
    "        \n",
    "        try:\n",
    "            mv_directors.append(principals_dict[ttlid]['director'])\n",
    "        except:\n",
    "            blah = 'blah'\n",
    "            \n",
    "        try:\n",
    "            mv_producers.append(principals_dict[ttlid]['producer'])\n",
    "        except:\n",
    "            blah = 'blah'\n",
    "            \n",
    "        try:\n",
    "            mv_ratings.append(ratings_dict[ttlid]['rating'])\n",
    "        except:\n",
    "            blah = 'blah'\n",
    "            \n",
    "        try:\n",
    "            mv_nuvotes.append(ratings_dict[ttlid]['nuvote'])\n",
    "        except:\n",
    "            blah = 'blah'\n",
    "          \n",
    "    actresses.append(mv_actresses)\n",
    "    actors.append(mv_actors)\n",
    "    directors.append(mv_directors)\n",
    "    producers.append(mv_producers)\n",
    "    ratings.append(mv_ratings)\n",
    "    nuvotes.append(mv_nuvotes)\n",
    "\n",
    "##  now create a merged dataframe\n",
    "movie_df = pd.DataFrame({'tconst' : tconst,\n",
    "                         'movie_title' : movie_title, \n",
    "                         'genres' : genres,\n",
    "                         'release_year' : release_year,\n",
    "                         'release_month' : release_month,\n",
    "                         'release_date' : release_date,\n",
    "                         'production_budget' : production_budget, \n",
    "                         'domestic_gross' : domestic_gross,\n",
    "                         'worldwide_gross' : worldwide_gross,\n",
    "                         'profit' : profit,\n",
    "                         'actresses' : actresses, \n",
    "                         'actors' : actors, \n",
    "                         'directors' : directors, \n",
    "                         'producers' : producers, \n",
    "                         'ratings' : ratings, \n",
    "                         'nuvotes' : nuvotes\n",
    "                        })\n",
    "\n",
    "del tconst, movie_title, genres, release_year, release_month, release_date\n",
    "del production_budget, domestic_gross, worldwide_gross, profit\n",
    "del actresses, actors, directors, producers, ratings, nuvotes"
   ]
  },
  {
   "cell_type": "code",
   "execution_count": null,
   "metadata": {},
   "outputs": [],
   "source": [
    "#movie_df.info()\n",
    "movie_df.shape"
   ]
  },
  {
   "cell_type": "code",
   "execution_count": null,
   "metadata": {},
   "outputs": [],
   "source": [
    "movie_df.head()"
   ]
  },
  {
   "cell_type": "code",
   "execution_count": null,
   "metadata": {},
   "outputs": [],
   "source": [
    "movie_df.loc[(movie_df['movie_title'] == 'Titanic')]"
   ]
  },
  {
   "cell_type": "code",
   "execution_count": null,
   "metadata": {},
   "outputs": [],
   "source": [
    "movie_df.shape"
   ]
  },
  {
   "cell_type": "markdown",
   "metadata": {},
   "source": [
    "###  get their names"
   ]
  },
  {
   "cell_type": "code",
   "execution_count": null,
   "metadata": {},
   "outputs": [],
   "source": [
    "##  and let's get their real names!\n",
    "imdb_name_basics = pd.read_csv('zippedData/imdb.name.basics.csv.gz',compression='gzip')\n",
    "print(imdb_name_basics.shape)\n",
    "print('number of unique nconst: ' + str(len(list(imdb_name_basics.nconst.unique()))))\n",
    "imdb_name_basics.head()\n",
    "#list(imdb_name_basics.columns)"
   ]
  },
  {
   "cell_type": "code",
   "execution_count": null,
   "metadata": {},
   "outputs": [],
   "source": [
    "##  let's create a dictionary of ratings\n",
    "names_dict = {}\n",
    "\n",
    "##  loop through to build the dictionary\n",
    "for i in range(imdb_title_ratings.shape[0]):\n",
    "    ##  get the values\n",
    "    nconst = imdb_name_basics['nconst'].loc[i]\n",
    "    prname = imdb_name_basics['primary_name'].loc[i]\n",
    "\n",
    "    ##  create the keys\n",
    "    names_dict[nconst] = prname"
   ]
  },
  {
   "cell_type": "code",
   "execution_count": null,
   "metadata": {},
   "outputs": [],
   "source": [
    "names_dict['nm0061671']"
   ]
  },
  {
   "cell_type": "markdown",
   "metadata": {},
   "source": [
    "###  let's save this monster"
   ]
  },
  {
   "cell_type": "code",
   "execution_count": null,
   "metadata": {},
   "outputs": [],
   "source": [
    "#from zodbpickle import pickle"
   ]
  },
  {
   "cell_type": "code",
   "execution_count": null,
   "metadata": {},
   "outputs": [],
   "source": [
    "#pickle.dump(movie_df,open(\"movie-df_2020-07-08b.p\",\"wb\"))"
   ]
  },
  {
   "cell_type": "markdown",
   "metadata": {},
   "source": [
    "#### xxx"
   ]
  },
  {
   "cell_type": "markdown",
   "metadata": {},
   "source": [
    "##  stuff we're not gonna use"
   ]
  },
  {
   "cell_type": "code",
   "execution_count": null,
   "metadata": {},
   "outputs": [],
   "source": [
    "###  see if any principals or ratings are not in \n",
    "#movies_in_principals = []\n",
    "#movies_in_ratings = []\n",
    "#not_in_principals = []\n",
    "#not_in_ratings = []\n",
    "#for movie in profit_titles:\n",
    "#    movie_principals = []\n",
    "#    movie_ratings = []\n",
    "#    for tconst in title_dict[movie]['tconst']:\n",
    "#        try:\n",
    "#            principals_dict[tconst]['tconst']\n",
    "#            movie_principals.append(movie)\n",
    "#        except:\n",
    "#            not_in_principals.append(tconst)\n",
    "#    \n",
    "#        try:\n",
    "#            ratings_dict[tconst]\n",
    "#            movie_ratings.append(movie)\n",
    "#        except:\n",
    "#            not_in_ratings.append(tconst)\n",
    "#    \n",
    "#    movies_in_principals.append(list(set(movie_principals)))\n",
    "#    movies_in_ratings.append(list(set(movie_ratings)))\n",
    "#    \n",
    "#print('movies in principals:  ' + str(len(movies_in_principals)))\n",
    "#print('movies in ratings:     ' + str(len(movies_in_ratings)))\n",
    "#print('not in principals:  ' + str(len(not_in_principals)))\n",
    "#print('not in ratings:    ' + str(len(not_in_ratings)))\n",
    "#\n",
    "##  RESULT:\n",
    "##  movies in principals:  2312\n",
    "##  movies in ratings:     2312\n",
    "##  not in principals:  42\n",
    "##  not in ratings:    854"
   ]
  },
  {
   "cell_type": "code",
   "execution_count": null,
   "metadata": {},
   "outputs": [],
   "source": [
    "###  create dictionary of title IDs\n",
    "#ttlid_dict = {}\n",
    "#\n",
    "###  loop through to create the keys\n",
    "#for i in range(imdb_title_basics.shape[0]):\n",
    "#    tconst        = imdb_title_basics['tconst'].loc[i]\n",
    "#    ttlid_dict[tconst] = { 'tconst' : tconst }\n",
    "#\n",
    "###  now build the dictionary\n",
    "#for i in range(imdb_title_basics.shape[0]):\n",
    "#    ##  get the values\n",
    "#    tconst        = imdb_title_basics['tconst'].loc[i]\n",
    "#    primary_title = imdb_title_basics['primary_title'].loc[i]\n",
    "#    start_year    = imdb_title_basics['start_year'].loc[i]\n",
    "#    genres        = imdb_title_basics['genres'].loc[i]\n",
    "#\n",
    "#    ##  append primary_title to ttlid_dict\n",
    "#    try:\n",
    "#        ttlid_dict[tconst]['primary_title'].append(primary_title)\n",
    "#    except:\n",
    "#        ttlid_dict[tconst]['primary_title'] = [primary_title]\n",
    "#\n",
    "#    ##  append start_year to ttlid_dict\n",
    "#    try:\n",
    "#        ttlid_dict[tconst]['start_year'].append(start_year)\n",
    "#    except:\n",
    "#        ttlid_dict[tconst]['start_year'] = [start_year]\n",
    "#    \n",
    "#    ##  append genres to ttlid_dict\n",
    "#    try:\n",
    "#        ttlid_dict[tconst]['genres'].append(genres)\n",
    "#    except:\n",
    "#        ttlid_dict[tconst]['genres'] = [genres]"
   ]
  },
  {
   "cell_type": "code",
   "execution_count": null,
   "metadata": {},
   "outputs": [],
   "source": [
    "#display(ttlid_dict['tt2495766'])\n",
    "#display(ttlid_dict['tt8852130'])\n",
    "#print()\n",
    "#display(ttlid_dict['tt5820812'])\n",
    "#display(ttlid_dict['tt9916170'])"
   ]
  },
  {
   "cell_type": "code",
   "execution_count": null,
   "metadata": {},
   "outputs": [],
   "source": [
    "#imdb_title_crew = pd.read_csv('zippedData/imdb.title.crew.csv.gz',compression='gzip')\n",
    "#print(imdb_title_crew.shape)\n",
    "#print('number of unique titles: ' + str(len(list(imdb_title_crew.tconst.unique()))))\n",
    "#imdb_title_crew.head()\n",
    "#list(imdb_title_crew.columns)"
   ]
  },
  {
   "cell_type": "code",
   "execution_count": null,
   "metadata": {},
   "outputs": [],
   "source": [
    "##  create new dataframe for statistical analysis\n",
    "\n",
    "##  first set the indices to the movie's title\n",
    "#imdb_title_basics.set_index('primary_title',inplace=True)\n",
    "#tn_movie_budgets.set_index('movie',inplace=True)\n",
    "\n",
    "##  now create the new dataframe\n",
    "#bad_df = tn_movie_budgets.join(imdb_title_basics,how='inner')"
   ]
  },
  {
   "cell_type": "code",
   "execution_count": null,
   "metadata": {},
   "outputs": [],
   "source": [
    "#imdb_title_basics.head()\n",
    "#tn_movie_budgets.head()\n",
    "#bad_df.sort_values(by='profit',ascending=False).head(10)"
   ]
  },
  {
   "cell_type": "code",
   "execution_count": null,
   "metadata": {},
   "outputs": [],
   "source": [
    "#imdb_title_basics.shape\n",
    "#tn_movie_budgets.shape\n",
    "#bad_df.shape\n",
    "#bad_df.loc[(bad_df['original_title']=='Titanic')]"
   ]
  },
  {
   "cell_type": "code",
   "execution_count": null,
   "metadata": {},
   "outputs": [],
   "source": [
    "#bom_movie_gross = pd.read_csv('zippedData/bom.movie_gross.csv.gz',compression='gzip')\n",
    "#bom_movie_gross.head()\n",
    "#list(bom_movie_gross.columns)"
   ]
  },
  {
   "cell_type": "code",
   "execution_count": null,
   "metadata": {},
   "outputs": [],
   "source": [
    "#imdb_title_akas = pd.read_csv('zippedData/imdb.title.akas.csv.gz',compression='gzip')\n",
    "#print(imdb_title_akas.shape)\n",
    "#imdb_title_akas.head()\n",
    "#list(imdb_title_akas.columns)\n",
    "#imdb_title_akas.sort_values(by='title_id',ascending=False).head(10)\n",
    "#imdb_title_akas.loc[imdb_title_akas['title'] == \"The Rehearsal\"] \n",
    "#imdb_title_akas.loc[(imdb_title_akas['title_id']=='tt9916170')|(imdb_title_akas['title_id']=='tt9915436')|(imdb_title_akas['title_id']=='tt5820812')]"
   ]
  },
  {
   "cell_type": "code",
   "execution_count": null,
   "metadata": {},
   "outputs": [],
   "source": [
    "#rt_movie_info = pd.read_csv('zippedData/rt.movie_info.tsv.gz',compression='gzip',sep='\\t')\n",
    "#rt_movie_info.head()\n",
    "#list(rt_movie_info.columns)"
   ]
  },
  {
   "cell_type": "code",
   "execution_count": null,
   "metadata": {},
   "outputs": [],
   "source": [
    "#rt_reviews = pd.read_csv('zippedData/rt.reviews.tsv.gz',compression='gzip',sep='\\t',encoding='unicode_escape')\n",
    "#rt_reviews.head()\n",
    "#list(rt_reviews.columns)"
   ]
  },
  {
   "cell_type": "code",
   "execution_count": null,
   "metadata": {},
   "outputs": [],
   "source": [
    "#tmdb_movies = pd.read_csv('zippedData/tmdb.movies.csv.gz',compression='gzip')\n",
    "#tmdb_movies.head()\n",
    "#list(tmdb_movies.columns)"
   ]
  },
  {
   "cell_type": "code",
   "execution_count": null,
   "metadata": {},
   "outputs": [],
   "source": []
  }
 ],
 "metadata": {
  "kernelspec": {
   "display_name": "Python 3",
   "language": "python",
   "name": "python3"
  },
  "language_info": {
   "codemirror_mode": {
    "name": "ipython",
    "version": 3
   },
   "file_extension": ".py",
   "mimetype": "text/x-python",
   "name": "python",
   "nbconvert_exporter": "python",
   "pygments_lexer": "ipython3",
   "version": "3.7.3"
  }
 },
 "nbformat": 4,
 "nbformat_minor": 2
}
