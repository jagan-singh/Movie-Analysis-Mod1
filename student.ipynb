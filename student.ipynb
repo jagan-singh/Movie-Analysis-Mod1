{
 "cells": [
  {
   "cell_type": "markdown",
   "metadata": {},
   "source": [
    "## Eryk's Notebook for Module 1 Project\n",
    "\n",
    "Please fill out:\n",
    "* Student name:  **Eryk Wdowiak**\n",
    "* Student pace:  full-time\n",
    "* Scheduled project review date/time:  12th of Never at 13 o'clock\n",
    "* Instructor name:  Fangfang Lee\n",
    "* Blog post URL:  https://www.wdowiak.me/gotta-blog?answer=Yes\n"
   ]
  },
  {
   "cell_type": "code",
   "execution_count": 1,
   "metadata": {},
   "outputs": [],
   "source": [
    "import pandas as pd\n",
    "import matplotlib.pyplot as plt"
   ]
  },
  {
   "cell_type": "code",
   "execution_count": 2,
   "metadata": {},
   "outputs": [
    {
     "name": "stdout",
     "output_type": "stream",
     "text": [
      "bom.movie_gross.csv.gz\t  imdb.title.crew.csv.gz\trt.reviews.tsv.gz\r\n",
      "imdb.name.basics.csv.gz   imdb.title.principals.csv.gz\ttmdb.movies.csv.gz\r\n",
      "imdb.title.akas.csv.gz\t  imdb.title.ratings.csv.gz\ttn.movie_budgets.csv.gz\r\n",
      "imdb.title.basics.csv.gz  rt.movie_info.tsv.gz\r\n"
     ]
    }
   ],
   "source": [
    "##  data files\n",
    "!ls zippedData/"
   ]
  },
  {
   "cell_type": "code",
   "execution_count": 3,
   "metadata": {},
   "outputs": [],
   "source": [
    "#bom_movie_gross = pd.read_csv('zippedData/bom.movie_gross.csv.gz',compression='gzip')\n",
    "#bom_movie_gross.head()\n",
    "#list(bom_movie_gross.columns)"
   ]
  },
  {
   "cell_type": "code",
   "execution_count": 4,
   "metadata": {},
   "outputs": [],
   "source": [
    "#imdb_name_basics = pd.read_csv('zippedData/imdb.name.basics.csv.gz',compression='gzip')\n",
    "#imdb_name_basics.head()\n",
    "#list(imdb_name_basics.columns)"
   ]
  },
  {
   "cell_type": "code",
   "execution_count": 5,
   "metadata": {},
   "outputs": [],
   "source": [
    "#imdb_title_akas = pd.read_csv('zippedData/imdb.title.akas.csv.gz',compression='gzip')\n",
    "#print(imdb_title_akas.shape)\n",
    "#imdb_title_akas.head()\n",
    "#list(imdb_title_akas.columns)"
   ]
  },
  {
   "cell_type": "code",
   "execution_count": 6,
   "metadata": {},
   "outputs": [
    {
     "name": "stdout",
     "output_type": "stream",
     "text": [
      "(146144, 6)\n"
     ]
    },
    {
     "data": {
      "text/html": [
       "<div>\n",
       "<style scoped>\n",
       "    .dataframe tbody tr th:only-of-type {\n",
       "        vertical-align: middle;\n",
       "    }\n",
       "\n",
       "    .dataframe tbody tr th {\n",
       "        vertical-align: top;\n",
       "    }\n",
       "\n",
       "    .dataframe thead th {\n",
       "        text-align: right;\n",
       "    }\n",
       "</style>\n",
       "<table border=\"1\" class=\"dataframe\">\n",
       "  <thead>\n",
       "    <tr style=\"text-align: right;\">\n",
       "      <th></th>\n",
       "      <th>tconst</th>\n",
       "      <th>primary_title</th>\n",
       "      <th>original_title</th>\n",
       "      <th>start_year</th>\n",
       "      <th>runtime_minutes</th>\n",
       "      <th>genres</th>\n",
       "    </tr>\n",
       "  </thead>\n",
       "  <tbody>\n",
       "    <tr>\n",
       "      <th>0</th>\n",
       "      <td>tt0063540</td>\n",
       "      <td>Sunghursh</td>\n",
       "      <td>Sunghursh</td>\n",
       "      <td>2013</td>\n",
       "      <td>175.0</td>\n",
       "      <td>Action,Crime,Drama</td>\n",
       "    </tr>\n",
       "    <tr>\n",
       "      <th>1</th>\n",
       "      <td>tt0066787</td>\n",
       "      <td>One Day Before the Rainy Season</td>\n",
       "      <td>Ashad Ka Ek Din</td>\n",
       "      <td>2019</td>\n",
       "      <td>114.0</td>\n",
       "      <td>Biography,Drama</td>\n",
       "    </tr>\n",
       "    <tr>\n",
       "      <th>2</th>\n",
       "      <td>tt0069049</td>\n",
       "      <td>The Other Side of the Wind</td>\n",
       "      <td>The Other Side of the Wind</td>\n",
       "      <td>2018</td>\n",
       "      <td>122.0</td>\n",
       "      <td>Drama</td>\n",
       "    </tr>\n",
       "    <tr>\n",
       "      <th>3</th>\n",
       "      <td>tt0069204</td>\n",
       "      <td>Sabse Bada Sukh</td>\n",
       "      <td>Sabse Bada Sukh</td>\n",
       "      <td>2018</td>\n",
       "      <td>NaN</td>\n",
       "      <td>Comedy,Drama</td>\n",
       "    </tr>\n",
       "    <tr>\n",
       "      <th>4</th>\n",
       "      <td>tt0100275</td>\n",
       "      <td>The Wandering Soap Opera</td>\n",
       "      <td>La Telenovela Errante</td>\n",
       "      <td>2017</td>\n",
       "      <td>80.0</td>\n",
       "      <td>Comedy,Drama,Fantasy</td>\n",
       "    </tr>\n",
       "  </tbody>\n",
       "</table>\n",
       "</div>"
      ],
      "text/plain": [
       "      tconst                    primary_title              original_title  \\\n",
       "0  tt0063540                        Sunghursh                   Sunghursh   \n",
       "1  tt0066787  One Day Before the Rainy Season             Ashad Ka Ek Din   \n",
       "2  tt0069049       The Other Side of the Wind  The Other Side of the Wind   \n",
       "3  tt0069204                  Sabse Bada Sukh             Sabse Bada Sukh   \n",
       "4  tt0100275         The Wandering Soap Opera       La Telenovela Errante   \n",
       "\n",
       "   start_year  runtime_minutes                genres  \n",
       "0        2013            175.0    Action,Crime,Drama  \n",
       "1        2019            114.0       Biography,Drama  \n",
       "2        2018            122.0                 Drama  \n",
       "3        2018              NaN          Comedy,Drama  \n",
       "4        2017             80.0  Comedy,Drama,Fantasy  "
      ]
     },
     "execution_count": 6,
     "metadata": {},
     "output_type": "execute_result"
    }
   ],
   "source": [
    "imdb_title_basics = pd.read_csv('zippedData/imdb.title.basics.csv.gz',compression='gzip')\n",
    "print(imdb_title_basics.shape)\n",
    "imdb_title_basics.head()\n",
    "#list(imdb_title_basics)"
   ]
  },
  {
   "cell_type": "code",
   "execution_count": 7,
   "metadata": {},
   "outputs": [],
   "source": [
    "#imdb_title_crew = pd.read_csv('zippedData/imdb.title.crew.csv.gz',compression='gzip')\n",
    "#imdb_title_crew.head()\n",
    "#list(imdb_title_crew.columns)"
   ]
  },
  {
   "cell_type": "code",
   "execution_count": 8,
   "metadata": {},
   "outputs": [],
   "source": [
    "#imdb_title_principals = pd.read_csv('zippedData/imdb.title.principals.csv.gz',compression='gzip')\n",
    "#imdb_title_principals.head()\n",
    "#list(imdb_title_principals.columns)"
   ]
  },
  {
   "cell_type": "code",
   "execution_count": 9,
   "metadata": {},
   "outputs": [],
   "source": [
    "#imdb_title_ratings = pd.read_csv('zippedData/imdb.title.ratings.csv.gz',compression='gzip')\n",
    "#imdb_title_ratings.head()\n",
    "#list(imdb_title_ratings.columns)"
   ]
  },
  {
   "cell_type": "code",
   "execution_count": 10,
   "metadata": {},
   "outputs": [],
   "source": [
    "#rt_movie_info = pd.read_csv('zippedData/rt.movie_info.tsv.gz',compression='gzip',sep='\\t')\n",
    "#rt_movie_info.head()\n",
    "#list(rt_movie_info.columns)"
   ]
  },
  {
   "cell_type": "code",
   "execution_count": 11,
   "metadata": {},
   "outputs": [],
   "source": [
    "#rt_reviews = pd.read_csv('zippedData/rt.reviews.tsv.gz',compression='gzip',sep='\\t',encoding='unicode_escape')\n",
    "#rt_reviews.head()\n",
    "#list(rt_reviews.columns)"
   ]
  },
  {
   "cell_type": "code",
   "execution_count": 12,
   "metadata": {},
   "outputs": [],
   "source": [
    "#tmdb_movies = pd.read_csv('zippedData/tmdb.movies.csv.gz',compression='gzip')\n",
    "#tmdb_movies.head()\n",
    "#list(tmdb_movies.columns)"
   ]
  },
  {
   "cell_type": "code",
   "execution_count": 13,
   "metadata": {},
   "outputs": [],
   "source": [
    "tn_movie_budgets = pd.read_csv('zippedData/tn.movie_budgets.csv.gz',compression='gzip')\n",
    "#print(tn_movie_budgets.shape)\n",
    "#tn_movie_budgets.head()\n",
    "#list(tn_movie_budgets.columns)"
   ]
  },
  {
   "cell_type": "code",
   "execution_count": 14,
   "metadata": {},
   "outputs": [],
   "source": [
    "##  define some conversion functions\n",
    "\n",
    "##  string of dollars to float\n",
    "def dollars_to_float(inlist):\n",
    "    return list(map(lambda x: float(x.replace(\"$\",\"\").replace(\",\",\"\")), inlist))\n",
    "\n",
    "##  date string to integer year\n",
    "def date_to_yrint(datestr):\n",
    "    return list(map(lambda x: int(x.split()[-1]), datestr))"
   ]
  },
  {
   "cell_type": "code",
   "execution_count": 15,
   "metadata": {},
   "outputs": [],
   "source": [
    "##  convert strings to float\n",
    "tn_movie_budgets['production_budget'] = dollars_to_float(tn_movie_budgets['production_budget'])\n",
    "tn_movie_budgets['domestic_gross'] = dollars_to_float(tn_movie_budgets['domestic_gross'])\n",
    "tn_movie_budgets['worldwide_gross'] = dollars_to_float(tn_movie_budgets['worldwide_gross'])\n",
    "\n",
    "##  divide by one million\n",
    "tn_movie_budgets['production_budget'] = tn_movie_budgets['production_budget'] / 1000000\n",
    "tn_movie_budgets['domestic_gross'] = tn_movie_budgets['domestic_gross'] / 1000000\n",
    "tn_movie_budgets['worldwide_gross'] = tn_movie_budgets['worldwide_gross'] / 1000000\n",
    "\n",
    "##  calculate profit\n",
    "tn_movie_budgets['profit'] = tn_movie_budgets['worldwide_gross'] - tn_movie_budgets['production_budget']\n",
    "\n",
    "##  convert release year to integer\n",
    "tn_movie_budgets['release_year'] = date_to_yrint(tn_movie_budgets['release_date'])\n",
    "\n",
    "##  print some information\n",
    "#tn_movie_budgets.info()"
   ]
  },
  {
   "cell_type": "code",
   "execution_count": 16,
   "metadata": {},
   "outputs": [
    {
     "data": {
      "text/html": [
       "<div>\n",
       "<style scoped>\n",
       "    .dataframe tbody tr th:only-of-type {\n",
       "        vertical-align: middle;\n",
       "    }\n",
       "\n",
       "    .dataframe tbody tr th {\n",
       "        vertical-align: top;\n",
       "    }\n",
       "\n",
       "    .dataframe thead th {\n",
       "        text-align: right;\n",
       "    }\n",
       "</style>\n",
       "<table border=\"1\" class=\"dataframe\">\n",
       "  <thead>\n",
       "    <tr style=\"text-align: right;\">\n",
       "      <th></th>\n",
       "      <th>id</th>\n",
       "      <th>release_date</th>\n",
       "      <th>movie</th>\n",
       "      <th>production_budget</th>\n",
       "      <th>domestic_gross</th>\n",
       "      <th>worldwide_gross</th>\n",
       "      <th>profit</th>\n",
       "      <th>release_year</th>\n",
       "    </tr>\n",
       "  </thead>\n",
       "  <tbody>\n",
       "    <tr>\n",
       "      <th>0</th>\n",
       "      <td>1</td>\n",
       "      <td>Dec 18, 2009</td>\n",
       "      <td>Avatar</td>\n",
       "      <td>425.0</td>\n",
       "      <td>760.507625</td>\n",
       "      <td>2776.345279</td>\n",
       "      <td>2351.345279</td>\n",
       "      <td>2009</td>\n",
       "    </tr>\n",
       "    <tr>\n",
       "      <th>1</th>\n",
       "      <td>2</td>\n",
       "      <td>May 20, 2011</td>\n",
       "      <td>Pirates of the Caribbean: On Stranger Tides</td>\n",
       "      <td>410.6</td>\n",
       "      <td>241.063875</td>\n",
       "      <td>1045.663875</td>\n",
       "      <td>635.063875</td>\n",
       "      <td>2011</td>\n",
       "    </tr>\n",
       "    <tr>\n",
       "      <th>2</th>\n",
       "      <td>3</td>\n",
       "      <td>Jun 7, 2019</td>\n",
       "      <td>Dark Phoenix</td>\n",
       "      <td>350.0</td>\n",
       "      <td>42.762350</td>\n",
       "      <td>149.762350</td>\n",
       "      <td>-200.237650</td>\n",
       "      <td>2019</td>\n",
       "    </tr>\n",
       "    <tr>\n",
       "      <th>3</th>\n",
       "      <td>4</td>\n",
       "      <td>May 1, 2015</td>\n",
       "      <td>Avengers: Age of Ultron</td>\n",
       "      <td>330.6</td>\n",
       "      <td>459.005868</td>\n",
       "      <td>1403.013963</td>\n",
       "      <td>1072.413963</td>\n",
       "      <td>2015</td>\n",
       "    </tr>\n",
       "    <tr>\n",
       "      <th>4</th>\n",
       "      <td>5</td>\n",
       "      <td>Dec 15, 2017</td>\n",
       "      <td>Star Wars Ep. VIII: The Last Jedi</td>\n",
       "      <td>317.0</td>\n",
       "      <td>620.181382</td>\n",
       "      <td>1316.721747</td>\n",
       "      <td>999.721747</td>\n",
       "      <td>2017</td>\n",
       "    </tr>\n",
       "  </tbody>\n",
       "</table>\n",
       "</div>"
      ],
      "text/plain": [
       "   id  release_date                                        movie  \\\n",
       "0   1  Dec 18, 2009                                       Avatar   \n",
       "1   2  May 20, 2011  Pirates of the Caribbean: On Stranger Tides   \n",
       "2   3   Jun 7, 2019                                 Dark Phoenix   \n",
       "3   4   May 1, 2015                      Avengers: Age of Ultron   \n",
       "4   5  Dec 15, 2017            Star Wars Ep. VIII: The Last Jedi   \n",
       "\n",
       "   production_budget  domestic_gross  worldwide_gross       profit  \\\n",
       "0              425.0      760.507625      2776.345279  2351.345279   \n",
       "1              410.6      241.063875      1045.663875   635.063875   \n",
       "2              350.0       42.762350       149.762350  -200.237650   \n",
       "3              330.6      459.005868      1403.013963  1072.413963   \n",
       "4              317.0      620.181382      1316.721747   999.721747   \n",
       "\n",
       "   release_year  \n",
       "0          2009  \n",
       "1          2011  \n",
       "2          2019  \n",
       "3          2015  \n",
       "4          2017  "
      ]
     },
     "execution_count": 16,
     "metadata": {},
     "output_type": "execute_result"
    }
   ],
   "source": [
    "tn_movie_budgets.head()"
   ]
  },
  {
   "cell_type": "code",
   "execution_count": 17,
   "metadata": {},
   "outputs": [
    {
     "data": {
      "text/plain": [
       "(5782, 8)"
      ]
     },
     "execution_count": 17,
     "metadata": {},
     "output_type": "execute_result"
    }
   ],
   "source": [
    "tn_movie_budgets.shape"
   ]
  },
  {
   "cell_type": "code",
   "execution_count": 18,
   "metadata": {},
   "outputs": [
    {
     "data": {
      "image/png": "[encoded data removed]",
      "text/plain": [
       "<Figure size 432x288 with 1 Axes>"
      ]
     },
     "metadata": {
      "needs_background": "light"
     },
     "output_type": "display_data"
    }
   ],
   "source": [
    "tn_movie_budgets.release_year.hist();"
   ]
  },
  {
   "cell_type": "code",
   "execution_count": 19,
   "metadata": {},
   "outputs": [
    {
     "data": {
      "image/png": "[encoded data removed]",
      "text/plain": [
       "<Figure size 432x288 with 1 Axes>"
      ]
     },
     "metadata": {
      "needs_background": "light"
     },
     "output_type": "display_data"
    }
   ],
   "source": [
    "tn_movie_budgets.profit.hist();"
   ]
  },
  {
   "cell_type": "code",
   "execution_count": 20,
   "metadata": {},
   "outputs": [],
   "source": [
    "##  create new dataframe for statistical analysis\n",
    "\n",
    "##  first set the indices to the movie's title\n",
    "imdb_title_basics.set_index('primary_title',inplace=True)\n",
    "tn_movie_budgets.set_index('movie',inplace=True)\n",
    "\n",
    "##  now create the new dataframe\n",
    "movie_df = tn_movie_budgets.join(imdb_title_basics,how='inner')"
   ]
  },
  {
   "cell_type": "code",
   "execution_count": 21,
   "metadata": {},
   "outputs": [
    {
     "data": {
      "text/html": [
       "<div>\n",
       "<style scoped>\n",
       "    .dataframe tbody tr th:only-of-type {\n",
       "        vertical-align: middle;\n",
       "    }\n",
       "\n",
       "    .dataframe tbody tr th {\n",
       "        vertical-align: top;\n",
       "    }\n",
       "\n",
       "    .dataframe thead th {\n",
       "        text-align: right;\n",
       "    }\n",
       "</style>\n",
       "<table border=\"1\" class=\"dataframe\">\n",
       "  <thead>\n",
       "    <tr style=\"text-align: right;\">\n",
       "      <th></th>\n",
       "      <th>id</th>\n",
       "      <th>release_date</th>\n",
       "      <th>production_budget</th>\n",
       "      <th>domestic_gross</th>\n",
       "      <th>worldwide_gross</th>\n",
       "      <th>profit</th>\n",
       "      <th>release_year</th>\n",
       "      <th>tconst</th>\n",
       "      <th>original_title</th>\n",
       "      <th>start_year</th>\n",
       "      <th>runtime_minutes</th>\n",
       "      <th>genres</th>\n",
       "    </tr>\n",
       "  </thead>\n",
       "  <tbody>\n",
       "    <tr>\n",
       "      <th>#Horror</th>\n",
       "      <td>16</td>\n",
       "      <td>Nov 20, 2015</td>\n",
       "      <td>1.5</td>\n",
       "      <td>0.000000</td>\n",
       "      <td>0.000000</td>\n",
       "      <td>-1.500000</td>\n",
       "      <td>2015</td>\n",
       "      <td>tt3526286</td>\n",
       "      <td>#Horror</td>\n",
       "      <td>2015</td>\n",
       "      <td>101.0</td>\n",
       "      <td>Crime,Drama,Horror</td>\n",
       "    </tr>\n",
       "    <tr>\n",
       "      <th>10 Cloverfield Lane</th>\n",
       "      <td>54</td>\n",
       "      <td>Mar 11, 2016</td>\n",
       "      <td>5.0</td>\n",
       "      <td>72.082999</td>\n",
       "      <td>108.286422</td>\n",
       "      <td>103.286422</td>\n",
       "      <td>2016</td>\n",
       "      <td>tt1179933</td>\n",
       "      <td>10 Cloverfield Lane</td>\n",
       "      <td>2016</td>\n",
       "      <td>103.0</td>\n",
       "      <td>Drama,Horror,Mystery</td>\n",
       "    </tr>\n",
       "    <tr>\n",
       "      <th>10 Days in a Madhouse</th>\n",
       "      <td>48</td>\n",
       "      <td>Nov 11, 2015</td>\n",
       "      <td>12.0</td>\n",
       "      <td>0.014616</td>\n",
       "      <td>0.014616</td>\n",
       "      <td>-11.985384</td>\n",
       "      <td>2015</td>\n",
       "      <td>tt3453052</td>\n",
       "      <td>10 Days in a Madhouse</td>\n",
       "      <td>2015</td>\n",
       "      <td>111.0</td>\n",
       "      <td>Drama</td>\n",
       "    </tr>\n",
       "    <tr>\n",
       "      <th>12 Rounds</th>\n",
       "      <td>37</td>\n",
       "      <td>Mar 27, 2009</td>\n",
       "      <td>20.0</td>\n",
       "      <td>12.234694</td>\n",
       "      <td>17.306648</td>\n",
       "      <td>-2.693352</td>\n",
       "      <td>2009</td>\n",
       "      <td>tt3517850</td>\n",
       "      <td>12 Rounds</td>\n",
       "      <td>2017</td>\n",
       "      <td>NaN</td>\n",
       "      <td>Action,Drama,Romance</td>\n",
       "    </tr>\n",
       "    <tr>\n",
       "      <th>12 Strong</th>\n",
       "      <td>64</td>\n",
       "      <td>Jan 19, 2018</td>\n",
       "      <td>35.0</td>\n",
       "      <td>45.819713</td>\n",
       "      <td>71.118378</td>\n",
       "      <td>36.118378</td>\n",
       "      <td>2018</td>\n",
       "      <td>tt1413492</td>\n",
       "      <td>12 Strong</td>\n",
       "      <td>2018</td>\n",
       "      <td>130.0</td>\n",
       "      <td>Action,Drama,History</td>\n",
       "    </tr>\n",
       "  </tbody>\n",
       "</table>\n",
       "</div>"
      ],
      "text/plain": [
       "                       id  release_date  production_budget  domestic_gross  \\\n",
       "#Horror                16  Nov 20, 2015                1.5        0.000000   \n",
       "10 Cloverfield Lane    54  Mar 11, 2016                5.0       72.082999   \n",
       "10 Days in a Madhouse  48  Nov 11, 2015               12.0        0.014616   \n",
       "12 Rounds              37  Mar 27, 2009               20.0       12.234694   \n",
       "12 Strong              64  Jan 19, 2018               35.0       45.819713   \n",
       "\n",
       "                       worldwide_gross      profit  release_year     tconst  \\\n",
       "#Horror                       0.000000   -1.500000          2015  tt3526286   \n",
       "10 Cloverfield Lane         108.286422  103.286422          2016  tt1179933   \n",
       "10 Days in a Madhouse         0.014616  -11.985384          2015  tt3453052   \n",
       "12 Rounds                    17.306648   -2.693352          2009  tt3517850   \n",
       "12 Strong                    71.118378   36.118378          2018  tt1413492   \n",
       "\n",
       "                              original_title  start_year  runtime_minutes  \\\n",
       "#Horror                              #Horror        2015            101.0   \n",
       "10 Cloverfield Lane      10 Cloverfield Lane        2016            103.0   \n",
       "10 Days in a Madhouse  10 Days in a Madhouse        2015            111.0   \n",
       "12 Rounds                          12 Rounds        2017              NaN   \n",
       "12 Strong                          12 Strong        2018            130.0   \n",
       "\n",
       "                                     genres  \n",
       "#Horror                  Crime,Drama,Horror  \n",
       "10 Cloverfield Lane    Drama,Horror,Mystery  \n",
       "10 Days in a Madhouse                 Drama  \n",
       "12 Rounds              Action,Drama,Romance  \n",
       "12 Strong              Action,Drama,History  "
      ]
     },
     "execution_count": 21,
     "metadata": {},
     "output_type": "execute_result"
    }
   ],
   "source": [
    "#imdb_title_basics.head()\n",
    "#tn_movie_budgets.head()\n",
    "movie_df.head()"
   ]
  },
  {
   "cell_type": "code",
   "execution_count": 22,
   "metadata": {},
   "outputs": [
    {
     "data": {
      "text/plain": [
       "(3815, 12)"
      ]
     },
     "execution_count": 22,
     "metadata": {},
     "output_type": "execute_result"
    }
   ],
   "source": [
    "#imdb_title_basics.shape\n",
    "#tn_movie_budgets.shape\n",
    "movie_df.shape"
   ]
  },
  {
   "cell_type": "code",
   "execution_count": null,
   "metadata": {},
   "outputs": [],
   "source": []
  }
 ],
 "metadata": {
  "kernelspec": {
   "display_name": "Python 3",
   "language": "python",
   "name": "python3"
  },
  "language_info": {
   "codemirror_mode": {
    "name": "ipython",
    "version": 3
   },
   "file_extension": ".py",
   "mimetype": "text/x-python",
   "name": "python",
   "nbconvert_exporter": "python",
   "pygments_lexer": "ipython3",
   "version": "3.7.3"
  }
 },
 "nbformat": 4,
 "nbformat_minor": 2
}
