{
 "cells": [
  {
   "cell_type": "markdown",
   "metadata": {},
   "source": [
    "## Eryk's Notebook for Module 1 Project\n",
    "\n",
    "Please fill out:\n",
    "* Student name:  **Eryk Wdowiak**\n",
    "* Student pace:  full-time\n",
    "* Scheduled project review date/time:  12th of Never at 13 o'clock\n",
    "* Instructor name:  Fangfang Lee\n",
    "* Blog post URL:  https://www.wdowiak.me/gotta-blog?answer=Yes\n"
   ]
  },
  {
   "cell_type": "code",
   "execution_count": 1,
   "metadata": {},
   "outputs": [],
   "source": [
    "import pandas as pd\n",
    "import matplotlib.pyplot as plt"
   ]
  },
  {
   "cell_type": "code",
   "execution_count": 2,
   "metadata": {},
   "outputs": [
    {
     "name": "stdout",
     "output_type": "stream",
     "text": [
      "bom.movie_gross.csv.gz\t  imdb.title.crew.csv.gz\trt.reviews.tsv.gz\r\n",
      "imdb.name.basics.csv.gz   imdb.title.principals.csv.gz\ttmdb.movies.csv.gz\r\n",
      "imdb.title.akas.csv.gz\t  imdb.title.ratings.csv.gz\ttn.movie_budgets.csv.gz\r\n",
      "imdb.title.basics.csv.gz  rt.movie_info.tsv.gz\r\n"
     ]
    }
   ],
   "source": [
    "##  data files\n",
    "!ls zippedData/"
   ]
  },
  {
   "cell_type": "code",
   "execution_count": 3,
   "metadata": {
    "scrolled": true
   },
   "outputs": [
    {
     "data": {
      "text/html": [
       "<div>\n",
       "<style scoped>\n",
       "    .dataframe tbody tr th:only-of-type {\n",
       "        vertical-align: middle;\n",
       "    }\n",
       "\n",
       "    .dataframe tbody tr th {\n",
       "        vertical-align: top;\n",
       "    }\n",
       "\n",
       "    .dataframe thead th {\n",
       "        text-align: right;\n",
       "    }\n",
       "</style>\n",
       "<table border=\"1\" class=\"dataframe\">\n",
       "  <thead>\n",
       "    <tr style=\"text-align: right;\">\n",
       "      <th></th>\n",
       "      <th>tconst</th>\n",
       "      <th>primary_title</th>\n",
       "      <th>original_title</th>\n",
       "      <th>start_year</th>\n",
       "      <th>runtime_minutes</th>\n",
       "      <th>genres</th>\n",
       "    </tr>\n",
       "  </thead>\n",
       "  <tbody>\n",
       "    <tr>\n",
       "      <th>0</th>\n",
       "      <td>tt0063540</td>\n",
       "      <td>Sunghursh</td>\n",
       "      <td>Sunghursh</td>\n",
       "      <td>2013</td>\n",
       "      <td>175.0</td>\n",
       "      <td>Action,Crime,Drama</td>\n",
       "    </tr>\n",
       "    <tr>\n",
       "      <th>1</th>\n",
       "      <td>tt0066787</td>\n",
       "      <td>One Day Before the Rainy Season</td>\n",
       "      <td>Ashad Ka Ek Din</td>\n",
       "      <td>2019</td>\n",
       "      <td>114.0</td>\n",
       "      <td>Biography,Drama</td>\n",
       "    </tr>\n",
       "    <tr>\n",
       "      <th>2</th>\n",
       "      <td>tt0069049</td>\n",
       "      <td>The Other Side of the Wind</td>\n",
       "      <td>The Other Side of the Wind</td>\n",
       "      <td>2018</td>\n",
       "      <td>122.0</td>\n",
       "      <td>Drama</td>\n",
       "    </tr>\n",
       "    <tr>\n",
       "      <th>3</th>\n",
       "      <td>tt0069204</td>\n",
       "      <td>Sabse Bada Sukh</td>\n",
       "      <td>Sabse Bada Sukh</td>\n",
       "      <td>2018</td>\n",
       "      <td>NaN</td>\n",
       "      <td>Comedy,Drama</td>\n",
       "    </tr>\n",
       "    <tr>\n",
       "      <th>4</th>\n",
       "      <td>tt0100275</td>\n",
       "      <td>The Wandering Soap Opera</td>\n",
       "      <td>La Telenovela Errante</td>\n",
       "      <td>2017</td>\n",
       "      <td>80.0</td>\n",
       "      <td>Comedy,Drama,Fantasy</td>\n",
       "    </tr>\n",
       "  </tbody>\n",
       "</table>\n",
       "</div>"
      ],
      "text/plain": [
       "      tconst                    primary_title              original_title  \\\n",
       "0  tt0063540                        Sunghursh                   Sunghursh   \n",
       "1  tt0066787  One Day Before the Rainy Season             Ashad Ka Ek Din   \n",
       "2  tt0069049       The Other Side of the Wind  The Other Side of the Wind   \n",
       "3  tt0069204                  Sabse Bada Sukh             Sabse Bada Sukh   \n",
       "4  tt0100275         The Wandering Soap Opera       La Telenovela Errante   \n",
       "\n",
       "   start_year  runtime_minutes                genres  \n",
       "0        2013            175.0    Action,Crime,Drama  \n",
       "1        2019            114.0       Biography,Drama  \n",
       "2        2018            122.0                 Drama  \n",
       "3        2018              NaN          Comedy,Drama  \n",
       "4        2017             80.0  Comedy,Drama,Fantasy  "
      ]
     },
     "execution_count": 3,
     "metadata": {},
     "output_type": "execute_result"
    }
   ],
   "source": [
    "##  first load the movie titles and identifiers\n",
    "imdb_title_basics = pd.read_csv('zippedData/imdb.title.basics.csv.gz',compression='gzip')\n",
    "#print(imdb_title_basics.shape)\n",
    "imdb_title_basics.head()"
   ]
  },
  {
   "cell_type": "code",
   "execution_count": 4,
   "metadata": {},
   "outputs": [],
   "source": [
    "#imdb_title_basics.loc[(imdb_title_basics['tconst']=='tt9916170')|(imdb_title_basics['tconst']=='tt9915436')|(imdb_title_basics['tconst']=='tt5820812')]"
   ]
  },
  {
   "cell_type": "code",
   "execution_count": 5,
   "metadata": {},
   "outputs": [],
   "source": [
    "#imdb_title_basics.loc[(imdb_title_basics['primary_title']=='Titanic')]"
   ]
  },
  {
   "cell_type": "code",
   "execution_count": 6,
   "metadata": {},
   "outputs": [],
   "source": [
    "##  create two dictionaries: one of titles and one of IDs\n",
    "title_dict = {}\n",
    "ttlid_dict = {}\n",
    "\n",
    "##  NAME_YEAR -- unique identifier for each movie (hopefully)\n",
    "##  point it at IMDB's \"tconst\", then do the reverse\n",
    "for i in range(imdb_title_basics.shape[0]):\n",
    "    ##  get the values\n",
    "    tconst        = imdb_title_basics['tconst'].loc[i]\n",
    "    primary_title = imdb_title_basics['primary_title'].loc[i]\n",
    "        \n",
    "    ##  add them to the dictionaries\n",
    "    title_dict[primary_title] = { 'primary_title' : primary_title }\n",
    "    ttlid_dict[tconst] = { 'tconst' : tconst }\n",
    "\n",
    "\n",
    "for i in range(imdb_title_basics.shape[0]):\n",
    "    ##  get the values\n",
    "    tconst        = imdb_title_basics['tconst'].loc[i]\n",
    "    primary_title = imdb_title_basics['primary_title'].loc[i]\n",
    "    start_year    = imdb_title_basics['start_year'].loc[i]\n",
    "    genres        = imdb_title_basics['genres'].loc[i]\n",
    "\n",
    "    ##  append tconst to title_dict\n",
    "    try:\n",
    "        title_dict[primary_title]['tconst'].append(tconst)\n",
    "    except:\n",
    "        title_dict[primary_title]['tconst'] = [tconst]\n",
    "\n",
    "    ##  append primary_title to ttlid_dict\n",
    "    try:\n",
    "        ttlid_dict[tconst]['primary_title'].append(primary_title)\n",
    "    except:\n",
    "        ttlid_dict[tconst]['primary_title'] = [primary_title]\n",
    "\n",
    "    ##  append start_year to title_dict\n",
    "    try:\n",
    "        title_dict[primary_title]['start_year'].append(start_year)\n",
    "    except:\n",
    "        title_dict[primary_title]['start_year'] = [start_year]\n",
    "\n",
    "    ##  append start_year to ttlid_dict\n",
    "    try:\n",
    "        ttlid_dict[tconst]['start_year'].append(start_year)\n",
    "    except:\n",
    "        ttlid_dict[tconst]['start_year'] = [start_year]\n",
    "    \n",
    "    ##  append genres to title_dict\n",
    "    try:\n",
    "        title_dict[primary_title]['genres'].append(genres)\n",
    "    except:\n",
    "        title_dict[primary_title]['genres'] = [genres]\n",
    "\n",
    "    ##  append genres to ttlid_dict\n",
    "    try:\n",
    "        ttlid_dict[tconst]['genres'].append(genres)\n",
    "    except:\n",
    "        ttlid_dict[tconst]['genres'] = [genres]"
   ]
  },
  {
   "cell_type": "code",
   "execution_count": 7,
   "metadata": {},
   "outputs": [
    {
     "data": {
      "text/plain": [
       "{'primary_title': 'Titanic',\n",
       " 'tconst': ['tt2495766', 'tt8852130'],\n",
       " 'start_year': [2012, 2018],\n",
       " 'genres': ['Adventure', 'Family']}"
      ]
     },
     "metadata": {},
     "output_type": "display_data"
    },
    {
     "data": {
      "text/plain": [
       "{'tconst': 'tt2495766',\n",
       " 'primary_title': ['Titanic'],\n",
       " 'start_year': [2012],\n",
       " 'genres': ['Adventure']}"
      ]
     },
     "metadata": {},
     "output_type": "display_data"
    },
    {
     "data": {
      "text/plain": [
       "{'tconst': 'tt8852130',\n",
       " 'primary_title': ['Titanic'],\n",
       " 'start_year': [2018],\n",
       " 'genres': ['Family']}"
      ]
     },
     "metadata": {},
     "output_type": "display_data"
    }
   ],
   "source": [
    "display(title_dict['Titanic'])\n",
    "display(ttlid_dict['tt2495766'])\n",
    "display(ttlid_dict['tt8852130'])"
   ]
  },
  {
   "cell_type": "code",
   "execution_count": 8,
   "metadata": {},
   "outputs": [
    {
     "data": {
      "text/plain": [
       "{'primary_title': 'The Rehearsal',\n",
       " 'tconst': ['tt5820812', 'tt9916170'],\n",
       " 'start_year': [2016, 2019],\n",
       " 'genres': ['Drama', 'Drama']}"
      ]
     },
     "metadata": {},
     "output_type": "display_data"
    },
    {
     "data": {
      "text/plain": [
       "{'tconst': 'tt5820812',\n",
       " 'primary_title': ['The Rehearsal'],\n",
       " 'start_year': [2016],\n",
       " 'genres': ['Drama']}"
      ]
     },
     "metadata": {},
     "output_type": "display_data"
    },
    {
     "data": {
      "text/plain": [
       "{'tconst': 'tt9916170',\n",
       " 'primary_title': ['The Rehearsal'],\n",
       " 'start_year': [2019],\n",
       " 'genres': ['Drama']}"
      ]
     },
     "metadata": {},
     "output_type": "display_data"
    }
   ],
   "source": [
    "display(title_dict['The Rehearsal'])\n",
    "display(ttlid_dict['tt5820812'])\n",
    "display(ttlid_dict['tt9916170'])"
   ]
  },
  {
   "cell_type": "code",
   "execution_count": 9,
   "metadata": {},
   "outputs": [],
   "source": [
    "##  next load the movie cost and revenue data\n",
    "tn_movie_budgets = pd.read_csv('zippedData/tn.movie_budgets.csv.gz',compression='gzip')\n",
    "#print(tn_movie_budgets.shape)\n",
    "#tn_movie_budgets.head()\n",
    "#list(tn_movie_budgets.columns)"
   ]
  },
  {
   "cell_type": "code",
   "execution_count": 10,
   "metadata": {},
   "outputs": [],
   "source": [
    "##  define some conversion functions\n",
    "\n",
    "##  string of dollars to float\n",
    "def dollars_to_float(inlist):\n",
    "    return list(map(lambda x: float(x.replace(\"$\",\"\").replace(\",\",\"\")), inlist))\n",
    "\n",
    "##  date string to integer year\n",
    "def date_to_yrint(datestr):\n",
    "    return list(map(lambda x: int(x.split()[-1]), datestr))"
   ]
  },
  {
   "cell_type": "code",
   "execution_count": 11,
   "metadata": {},
   "outputs": [],
   "source": [
    "##  convert strings to float\n",
    "tn_movie_budgets['production_budget'] = dollars_to_float(tn_movie_budgets['production_budget'])\n",
    "tn_movie_budgets['domestic_gross'] = dollars_to_float(tn_movie_budgets['domestic_gross'])\n",
    "tn_movie_budgets['worldwide_gross'] = dollars_to_float(tn_movie_budgets['worldwide_gross'])\n",
    "\n",
    "##  divide by one million\n",
    "tn_movie_budgets['production_budget'] = tn_movie_budgets['production_budget'] / 1000000\n",
    "tn_movie_budgets['domestic_gross'] = tn_movie_budgets['domestic_gross'] / 1000000\n",
    "tn_movie_budgets['worldwide_gross'] = tn_movie_budgets['worldwide_gross'] / 1000000\n",
    "\n",
    "##  calculate profit\n",
    "tn_movie_budgets['profit'] = tn_movie_budgets['worldwide_gross'] - tn_movie_budgets['production_budget']\n",
    "\n",
    "##  convert release year to integer\n",
    "tn_movie_budgets['release_year'] = date_to_yrint(tn_movie_budgets['release_date'])"
   ]
  },
  {
   "cell_type": "code",
   "execution_count": 12,
   "metadata": {},
   "outputs": [
    {
     "data": {
      "text/html": [
       "<div>\n",
       "<style scoped>\n",
       "    .dataframe tbody tr th:only-of-type {\n",
       "        vertical-align: middle;\n",
       "    }\n",
       "\n",
       "    .dataframe tbody tr th {\n",
       "        vertical-align: top;\n",
       "    }\n",
       "\n",
       "    .dataframe thead th {\n",
       "        text-align: right;\n",
       "    }\n",
       "</style>\n",
       "<table border=\"1\" class=\"dataframe\">\n",
       "  <thead>\n",
       "    <tr style=\"text-align: right;\">\n",
       "      <th></th>\n",
       "      <th>id</th>\n",
       "      <th>release_date</th>\n",
       "      <th>movie</th>\n",
       "      <th>production_budget</th>\n",
       "      <th>domestic_gross</th>\n",
       "      <th>worldwide_gross</th>\n",
       "      <th>profit</th>\n",
       "      <th>release_year</th>\n",
       "    </tr>\n",
       "  </thead>\n",
       "  <tbody>\n",
       "    <tr>\n",
       "      <th>0</th>\n",
       "      <td>1</td>\n",
       "      <td>Dec 18, 2009</td>\n",
       "      <td>Avatar</td>\n",
       "      <td>425.0</td>\n",
       "      <td>760.507625</td>\n",
       "      <td>2776.345279</td>\n",
       "      <td>2351.345279</td>\n",
       "      <td>2009</td>\n",
       "    </tr>\n",
       "    <tr>\n",
       "      <th>1</th>\n",
       "      <td>2</td>\n",
       "      <td>May 20, 2011</td>\n",
       "      <td>Pirates of the Caribbean: On Stranger Tides</td>\n",
       "      <td>410.6</td>\n",
       "      <td>241.063875</td>\n",
       "      <td>1045.663875</td>\n",
       "      <td>635.063875</td>\n",
       "      <td>2011</td>\n",
       "    </tr>\n",
       "    <tr>\n",
       "      <th>2</th>\n",
       "      <td>3</td>\n",
       "      <td>Jun 7, 2019</td>\n",
       "      <td>Dark Phoenix</td>\n",
       "      <td>350.0</td>\n",
       "      <td>42.762350</td>\n",
       "      <td>149.762350</td>\n",
       "      <td>-200.237650</td>\n",
       "      <td>2019</td>\n",
       "    </tr>\n",
       "    <tr>\n",
       "      <th>3</th>\n",
       "      <td>4</td>\n",
       "      <td>May 1, 2015</td>\n",
       "      <td>Avengers: Age of Ultron</td>\n",
       "      <td>330.6</td>\n",
       "      <td>459.005868</td>\n",
       "      <td>1403.013963</td>\n",
       "      <td>1072.413963</td>\n",
       "      <td>2015</td>\n",
       "    </tr>\n",
       "    <tr>\n",
       "      <th>4</th>\n",
       "      <td>5</td>\n",
       "      <td>Dec 15, 2017</td>\n",
       "      <td>Star Wars Ep. VIII: The Last Jedi</td>\n",
       "      <td>317.0</td>\n",
       "      <td>620.181382</td>\n",
       "      <td>1316.721747</td>\n",
       "      <td>999.721747</td>\n",
       "      <td>2017</td>\n",
       "    </tr>\n",
       "  </tbody>\n",
       "</table>\n",
       "</div>"
      ],
      "text/plain": [
       "   id  release_date                                        movie  \\\n",
       "0   1  Dec 18, 2009                                       Avatar   \n",
       "1   2  May 20, 2011  Pirates of the Caribbean: On Stranger Tides   \n",
       "2   3   Jun 7, 2019                                 Dark Phoenix   \n",
       "3   4   May 1, 2015                      Avengers: Age of Ultron   \n",
       "4   5  Dec 15, 2017            Star Wars Ep. VIII: The Last Jedi   \n",
       "\n",
       "   production_budget  domestic_gross  worldwide_gross       profit  \\\n",
       "0              425.0      760.507625      2776.345279  2351.345279   \n",
       "1              410.6      241.063875      1045.663875   635.063875   \n",
       "2              350.0       42.762350       149.762350  -200.237650   \n",
       "3              330.6      459.005868      1403.013963  1072.413963   \n",
       "4              317.0      620.181382      1316.721747   999.721747   \n",
       "\n",
       "   release_year  \n",
       "0          2009  \n",
       "1          2011  \n",
       "2          2019  \n",
       "3          2015  \n",
       "4          2017  "
      ]
     },
     "execution_count": 12,
     "metadata": {},
     "output_type": "execute_result"
    }
   ],
   "source": [
    "##  print some information\n",
    "#tn_movie_budgets.columns\n",
    "#tn_movie_budgets.info()\n",
    "tn_movie_budgets.head()"
   ]
  },
  {
   "cell_type": "code",
   "execution_count": 13,
   "metadata": {},
   "outputs": [
    {
     "data": {
      "text/html": [
       "<div>\n",
       "<style scoped>\n",
       "    .dataframe tbody tr th:only-of-type {\n",
       "        vertical-align: middle;\n",
       "    }\n",
       "\n",
       "    .dataframe tbody tr th {\n",
       "        vertical-align: top;\n",
       "    }\n",
       "\n",
       "    .dataframe thead th {\n",
       "        text-align: right;\n",
       "    }\n",
       "</style>\n",
       "<table border=\"1\" class=\"dataframe\">\n",
       "  <thead>\n",
       "    <tr style=\"text-align: right;\">\n",
       "      <th></th>\n",
       "      <th>id</th>\n",
       "      <th>release_date</th>\n",
       "      <th>movie</th>\n",
       "      <th>production_budget</th>\n",
       "      <th>domestic_gross</th>\n",
       "      <th>worldwide_gross</th>\n",
       "      <th>profit</th>\n",
       "      <th>release_year</th>\n",
       "    </tr>\n",
       "  </thead>\n",
       "  <tbody>\n",
       "    <tr>\n",
       "      <th>39</th>\n",
       "      <td>40</td>\n",
       "      <td>Dec 14, 2005</td>\n",
       "      <td>King Kong</td>\n",
       "      <td>207.000</td>\n",
       "      <td>218.080025</td>\n",
       "      <td>550.517357</td>\n",
       "      <td>343.517357</td>\n",
       "      <td>2005</td>\n",
       "    </tr>\n",
       "    <tr>\n",
       "      <th>2374</th>\n",
       "      <td>75</td>\n",
       "      <td>Dec 17, 1976</td>\n",
       "      <td>King Kong</td>\n",
       "      <td>23.000</td>\n",
       "      <td>52.614445</td>\n",
       "      <td>90.614445</td>\n",
       "      <td>67.614445</td>\n",
       "      <td>1976</td>\n",
       "    </tr>\n",
       "    <tr>\n",
       "      <th>5396</th>\n",
       "      <td>97</td>\n",
       "      <td>Apr 7, 1933</td>\n",
       "      <td>King Kong</td>\n",
       "      <td>0.672</td>\n",
       "      <td>10.000000</td>\n",
       "      <td>10.000650</td>\n",
       "      <td>9.328650</td>\n",
       "      <td>1933</td>\n",
       "    </tr>\n",
       "  </tbody>\n",
       "</table>\n",
       "</div>"
      ],
      "text/plain": [
       "      id  release_date      movie  production_budget  domestic_gross  \\\n",
       "39    40  Dec 14, 2005  King Kong            207.000      218.080025   \n",
       "2374  75  Dec 17, 1976  King Kong             23.000       52.614445   \n",
       "5396  97   Apr 7, 1933  King Kong              0.672       10.000000   \n",
       "\n",
       "      worldwide_gross      profit  release_year  \n",
       "39         550.517357  343.517357          2005  \n",
       "2374        90.614445   67.614445          1976  \n",
       "5396        10.000650    9.328650          1933  "
      ]
     },
     "execution_count": 13,
     "metadata": {},
     "output_type": "execute_result"
    }
   ],
   "source": [
    "tn_movie_budgets.loc[(tn_movie_budgets['movie']=='King Kong')]"
   ]
  },
  {
   "cell_type": "code",
   "execution_count": 14,
   "metadata": {},
   "outputs": [
    {
     "data": {
      "text/html": [
       "<div>\n",
       "<style scoped>\n",
       "    .dataframe tbody tr th:only-of-type {\n",
       "        vertical-align: middle;\n",
       "    }\n",
       "\n",
       "    .dataframe tbody tr th {\n",
       "        vertical-align: top;\n",
       "    }\n",
       "\n",
       "    .dataframe thead th {\n",
       "        text-align: right;\n",
       "    }\n",
       "</style>\n",
       "<table border=\"1\" class=\"dataframe\">\n",
       "  <thead>\n",
       "    <tr style=\"text-align: right;\">\n",
       "      <th></th>\n",
       "      <th>id</th>\n",
       "      <th>release_date</th>\n",
       "      <th>movie</th>\n",
       "      <th>production_budget</th>\n",
       "      <th>domestic_gross</th>\n",
       "      <th>worldwide_gross</th>\n",
       "      <th>profit</th>\n",
       "      <th>release_year</th>\n",
       "    </tr>\n",
       "  </thead>\n",
       "  <tbody>\n",
       "    <tr>\n",
       "      <th>42</th>\n",
       "      <td>43</td>\n",
       "      <td>Dec 19, 1997</td>\n",
       "      <td>Titanic</td>\n",
       "      <td>200.0</td>\n",
       "      <td>659.363944</td>\n",
       "      <td>2208.208395</td>\n",
       "      <td>2008.208395</td>\n",
       "      <td>1997</td>\n",
       "    </tr>\n",
       "  </tbody>\n",
       "</table>\n",
       "</div>"
      ],
      "text/plain": [
       "    id  release_date    movie  production_budget  domestic_gross  \\\n",
       "42  43  Dec 19, 1997  Titanic              200.0      659.363944   \n",
       "\n",
       "    worldwide_gross       profit  release_year  \n",
       "42      2208.208395  2008.208395          1997  "
      ]
     },
     "execution_count": 14,
     "metadata": {},
     "output_type": "execute_result"
    }
   ],
   "source": [
    "tn_movie_budgets.loc[tn_movie_budgets.movie == 'Titanic']"
   ]
  },
  {
   "cell_type": "code",
   "execution_count": 15,
   "metadata": {},
   "outputs": [],
   "source": [
    "#tn_movie_budgets.info()"
   ]
  },
  {
   "cell_type": "code",
   "execution_count": 16,
   "metadata": {},
   "outputs": [],
   "source": [
    "#tn_movie_budgets.release_year.hist();"
   ]
  },
  {
   "cell_type": "code",
   "execution_count": 17,
   "metadata": {},
   "outputs": [],
   "source": [
    "#tn_movie_budgets.profit.hist();"
   ]
  },
  {
   "cell_type": "code",
   "execution_count": 18,
   "metadata": {},
   "outputs": [],
   "source": [
    "##  now create profit dictionary\n",
    "profit_dict = {}\n",
    "\n",
    "for i in range(tn_movie_budgets.shape[0]):\n",
    "    ##  get the values\n",
    "    movie_title  = tn_movie_budgets['movie'].loc[i]\n",
    "    release_year = tn_movie_budgets['release_year'].loc[i]\n",
    "    profit_dict[movie_title] = {\n",
    "        'movie_title'  : movie_title,\n",
    "        'release_year' : release_year,\n",
    "    }\n",
    "    \n",
    "for i in range(tn_movie_budgets.shape[0]):\n",
    "    ##  get the values again\n",
    "    movie_title  = tn_movie_budgets['movie'].loc[i]\n",
    "    release_year = tn_movie_budgets['release_year'].loc[i]\n",
    "\n",
    "    ##  let's assume that most recent movie is the movie in the IMDB\n",
    "    if (release_year >= profit_dict[movie_title]['release_year']):\n",
    "        ##  add them to the dictionary\n",
    "        profit_dict[movie_title] = {\n",
    "            'movie_title' : movie_title,\n",
    "            'release_year' : release_year, \n",
    "            'production_budget' : tn_movie_budgets['production_budget'].loc[i],\n",
    "            'domestic_gross' : tn_movie_budgets['domestic_gross'].loc[i],\n",
    "            'worldwide_gross' : tn_movie_budgets['worldwide_gross'].loc[i],\n",
    "            'profit' : tn_movie_budgets['profit'].loc[i],\n",
    "    }"
   ]
  },
  {
   "cell_type": "code",
   "execution_count": 19,
   "metadata": {},
   "outputs": [],
   "source": [
    "##  now find titles in \"profit_dict\" that match titles in \"title_dict\"\n",
    "profit_keys = profit_dict.keys()\n",
    "title_keys  = title_dict.keys()\n",
    "\n",
    "##  those titles are at the intersection\n",
    "profit_titles = list(set(profit_keys) & set(title_keys))\n",
    "\n",
    "##  columns for merged dataframe\n",
    "tconst = []\n",
    "movie_title = []\n",
    "genres = []\n",
    "release_year = []\n",
    "production_budget = []\n",
    "domestic_gross = []\n",
    "worldwide_gross = []\n",
    "profit = []\n",
    "\n",
    "for movie in profit_titles:\n",
    "    tconst.append(title_dict[movie]['tconst'])\n",
    "    movie_title.append(profit_dict[movie]['movie_title'])\n",
    "    genres.append(title_dict[movie]['genres'])\n",
    "    release_year.append(profit_dict[movie]['release_year'])\n",
    "    production_budget.append(profit_dict[movie]['production_budget'])\n",
    "    domestic_gross.append(profit_dict[movie]['domestic_gross'])\n",
    "    worldwide_gross.append(profit_dict[movie]['worldwide_gross'])\n",
    "    profit.append(profit_dict[movie]['profit'])\n",
    "\n",
    "##  now create a merged dataframe\n",
    "movie_df = pd.DataFrame({'tconst' : tconst,\n",
    "                         'movie_title' : movie_title, \n",
    "                         'genres' : genres,\n",
    "                         'release_year' : release_year,\n",
    "                         'production_budget' : production_budget, \n",
    "                         'domestic_gross' : domestic_gross,\n",
    "                         'worldwide_gross' : worldwide_gross,\n",
    "                         'profit' : profit })\n",
    "\n",
    "del tconst, movie_title, genres, release_year\n",
    "del production_budget, domestic_gross, worldwide_gross, profit"
   ]
  },
  {
   "cell_type": "code",
   "execution_count": 20,
   "metadata": {},
   "outputs": [
    {
     "data": {
      "text/plain": [
       "(2312, 8)"
      ]
     },
     "execution_count": 20,
     "metadata": {},
     "output_type": "execute_result"
    }
   ],
   "source": [
    "#movie_df.info()\n",
    "movie_df.shape"
   ]
  },
  {
   "cell_type": "code",
   "execution_count": 21,
   "metadata": {},
   "outputs": [
    {
     "data": {
      "text/html": [
       "<div>\n",
       "<style scoped>\n",
       "    .dataframe tbody tr th:only-of-type {\n",
       "        vertical-align: middle;\n",
       "    }\n",
       "\n",
       "    .dataframe tbody tr th {\n",
       "        vertical-align: top;\n",
       "    }\n",
       "\n",
       "    .dataframe thead th {\n",
       "        text-align: right;\n",
       "    }\n",
       "</style>\n",
       "<table border=\"1\" class=\"dataframe\">\n",
       "  <thead>\n",
       "    <tr style=\"text-align: right;\">\n",
       "      <th></th>\n",
       "      <th>tconst</th>\n",
       "      <th>movie_title</th>\n",
       "      <th>genres</th>\n",
       "      <th>release_year</th>\n",
       "      <th>production_budget</th>\n",
       "      <th>domestic_gross</th>\n",
       "      <th>worldwide_gross</th>\n",
       "      <th>profit</th>\n",
       "    </tr>\n",
       "  </thead>\n",
       "  <tbody>\n",
       "    <tr>\n",
       "      <th>0</th>\n",
       "      <td>[tt1204975]</td>\n",
       "      <td>Last Vegas</td>\n",
       "      <td>[Comedy,Drama]</td>\n",
       "      <td>2013</td>\n",
       "      <td>28.0</td>\n",
       "      <td>63.914167</td>\n",
       "      <td>112.914167</td>\n",
       "      <td>84.914167</td>\n",
       "    </tr>\n",
       "    <tr>\n",
       "      <th>1</th>\n",
       "      <td>[tt1250777]</td>\n",
       "      <td>Kick-Ass</td>\n",
       "      <td>[Action,Comedy]</td>\n",
       "      <td>2010</td>\n",
       "      <td>28.0</td>\n",
       "      <td>48.071303</td>\n",
       "      <td>97.531134</td>\n",
       "      <td>69.531134</td>\n",
       "    </tr>\n",
       "    <tr>\n",
       "      <th>2</th>\n",
       "      <td>[tt1849111, tt2927802, tt5473848]</td>\n",
       "      <td>Superstar</td>\n",
       "      <td>[Drama, Drama, Comedy]</td>\n",
       "      <td>1999</td>\n",
       "      <td>14.0</td>\n",
       "      <td>30.628981</td>\n",
       "      <td>30.628981</td>\n",
       "      <td>16.628981</td>\n",
       "    </tr>\n",
       "    <tr>\n",
       "      <th>3</th>\n",
       "      <td>[tt1032751]</td>\n",
       "      <td>The Warrior's Way</td>\n",
       "      <td>[Action,Fantasy,Western]</td>\n",
       "      <td>2010</td>\n",
       "      <td>42.0</td>\n",
       "      <td>5.666340</td>\n",
       "      <td>8.514325</td>\n",
       "      <td>-33.485675</td>\n",
       "    </tr>\n",
       "    <tr>\n",
       "      <th>4</th>\n",
       "      <td>[tt2376252]</td>\n",
       "      <td>Where the Heart Is</td>\n",
       "      <td>[Biography,Documentary,Family]</td>\n",
       "      <td>2000</td>\n",
       "      <td>15.0</td>\n",
       "      <td>33.771174</td>\n",
       "      <td>40.862054</td>\n",
       "      <td>25.862054</td>\n",
       "    </tr>\n",
       "  </tbody>\n",
       "</table>\n",
       "</div>"
      ],
      "text/plain": [
       "                              tconst         movie_title  \\\n",
       "0                        [tt1204975]          Last Vegas   \n",
       "1                        [tt1250777]            Kick-Ass   \n",
       "2  [tt1849111, tt2927802, tt5473848]           Superstar   \n",
       "3                        [tt1032751]   The Warrior's Way   \n",
       "4                        [tt2376252]  Where the Heart Is   \n",
       "\n",
       "                           genres  release_year  production_budget  \\\n",
       "0                  [Comedy,Drama]          2013               28.0   \n",
       "1                 [Action,Comedy]          2010               28.0   \n",
       "2          [Drama, Drama, Comedy]          1999               14.0   \n",
       "3        [Action,Fantasy,Western]          2010               42.0   \n",
       "4  [Biography,Documentary,Family]          2000               15.0   \n",
       "\n",
       "   domestic_gross  worldwide_gross     profit  \n",
       "0       63.914167       112.914167  84.914167  \n",
       "1       48.071303        97.531134  69.531134  \n",
       "2       30.628981        30.628981  16.628981  \n",
       "3        5.666340         8.514325 -33.485675  \n",
       "4       33.771174        40.862054  25.862054  "
      ]
     },
     "execution_count": 21,
     "metadata": {},
     "output_type": "execute_result"
    }
   ],
   "source": [
    "movie_df.head()"
   ]
  },
  {
   "cell_type": "code",
   "execution_count": 22,
   "metadata": {},
   "outputs": [],
   "source": [
    "##  create new dataframe for statistical analysis\n",
    "\n",
    "##  first set the indices to the movie's title\n",
    "#imdb_title_basics.set_index('primary_title',inplace=True)\n",
    "#tn_movie_budgets.set_index('movie',inplace=True)\n",
    "\n",
    "##  now create the new dataframe\n",
    "#movie_df = tn_movie_budgets.join(imdb_title_basics,how='inner')"
   ]
  },
  {
   "cell_type": "code",
   "execution_count": 23,
   "metadata": {},
   "outputs": [],
   "source": [
    "#imdb_title_basics.head()\n",
    "#tn_movie_budgets.head()\n",
    "#movie_df.sort_values(by='profit',ascending=False).head(20)"
   ]
  },
  {
   "cell_type": "code",
   "execution_count": 24,
   "metadata": {},
   "outputs": [],
   "source": [
    "#imdb_title_basics.shape\n",
    "#tn_movie_budgets.shape\n",
    "#movie_df.shape"
   ]
  },
  {
   "cell_type": "code",
   "execution_count": 25,
   "metadata": {},
   "outputs": [],
   "source": [
    "#movie_dg = movie_df.drop_duplicates()"
   ]
  },
  {
   "cell_type": "code",
   "execution_count": 26,
   "metadata": {},
   "outputs": [],
   "source": [
    "#movie_dg.shape"
   ]
  },
  {
   "cell_type": "code",
   "execution_count": null,
   "metadata": {},
   "outputs": [],
   "source": []
  },
  {
   "cell_type": "code",
   "execution_count": 27,
   "metadata": {},
   "outputs": [],
   "source": [
    "#bom_movie_gross = pd.read_csv('zippedData/bom.movie_gross.csv.gz',compression='gzip')\n",
    "#bom_movie_gross.head()\n",
    "#list(bom_movie_gross.columns)"
   ]
  },
  {
   "cell_type": "code",
   "execution_count": 28,
   "metadata": {},
   "outputs": [],
   "source": [
    "#imdb_name_basics = pd.read_csv('zippedData/imdb.name.basics.csv.gz',compression='gzip')\n",
    "#imdb_name_basics.head()\n",
    "#list(imdb_name_basics.columns)"
   ]
  },
  {
   "cell_type": "code",
   "execution_count": 29,
   "metadata": {},
   "outputs": [],
   "source": [
    "#imdb_title_akas = pd.read_csv('zippedData/imdb.title.akas.csv.gz',compression='gzip')\n",
    "#print(imdb_title_akas.shape)\n",
    "#imdb_title_akas.head()\n",
    "#list(imdb_title_akas.columns)\n",
    "#imdb_title_akas.sort_values(by='title_id',ascending=False).head(10)\n",
    "#imdb_title_akas.loc[imdb_title_akas['title'] == \"The Rehearsal\"] \n",
    "#imdb_title_akas.loc[(imdb_title_akas['title_id']=='tt9916170')|(imdb_title_akas['title_id']=='tt9915436')|(imdb_title_akas['title_id']=='tt5820812')]"
   ]
  },
  {
   "cell_type": "code",
   "execution_count": 30,
   "metadata": {},
   "outputs": [],
   "source": [
    "#imdb_title_crew = pd.read_csv('zippedData/imdb.title.crew.csv.gz',compression='gzip')\n",
    "#imdb_title_crew.head()\n",
    "#list(imdb_title_crew.columns)"
   ]
  },
  {
   "cell_type": "code",
   "execution_count": 31,
   "metadata": {},
   "outputs": [],
   "source": [
    "#imdb_title_principals = pd.read_csv('zippedData/imdb.title.principals.csv.gz',compression='gzip')\n",
    "#imdb_title_principals.head()\n",
    "#list(imdb_title_principals.columns)"
   ]
  },
  {
   "cell_type": "code",
   "execution_count": 32,
   "metadata": {},
   "outputs": [],
   "source": [
    "#imdb_title_ratings = pd.read_csv('zippedData/imdb.title.ratings.csv.gz',compression='gzip')\n",
    "#imdb_title_ratings.head()\n",
    "#list(imdb_title_ratings.columns)"
   ]
  },
  {
   "cell_type": "code",
   "execution_count": 33,
   "metadata": {},
   "outputs": [],
   "source": [
    "#rt_movie_info = pd.read_csv('zippedData/rt.movie_info.tsv.gz',compression='gzip',sep='\\t')\n",
    "#rt_movie_info.head()\n",
    "#list(rt_movie_info.columns)"
   ]
  },
  {
   "cell_type": "code",
   "execution_count": 34,
   "metadata": {},
   "outputs": [],
   "source": [
    "#rt_reviews = pd.read_csv('zippedData/rt.reviews.tsv.gz',compression='gzip',sep='\\t',encoding='unicode_escape')\n",
    "#rt_reviews.head()\n",
    "#list(rt_reviews.columns)"
   ]
  },
  {
   "cell_type": "code",
   "execution_count": 35,
   "metadata": {},
   "outputs": [],
   "source": [
    "#tmdb_movies = pd.read_csv('zippedData/tmdb.movies.csv.gz',compression='gzip')\n",
    "#tmdb_movies.head()\n",
    "#list(tmdb_movies.columns)"
   ]
  }
 ],
 "metadata": {
  "kernelspec": {
   "display_name": "Python 3",
   "language": "python",
   "name": "python3"
  },
  "language_info": {
   "codemirror_mode": {
    "name": "ipython",
    "version": 3
   },
   "file_extension": ".py",
   "mimetype": "text/x-python",
   "name": "python",
   "nbconvert_exporter": "python",
   "pygments_lexer": "ipython3",
   "version": "3.7.3"
  }
 },
 "nbformat": 4,
 "nbformat_minor": 2
}
